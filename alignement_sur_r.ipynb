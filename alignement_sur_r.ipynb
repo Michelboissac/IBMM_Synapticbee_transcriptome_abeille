{
 "cells": [
  {
   "cell_type": "markdown",
   "id": "7ad27217-938c-4398-a176-c3005e239b79",
   "metadata": {},
   "source": [
    "Jupyter notebook à utiliser dans un environnement avec R 4.5.1\n",
    "lien github avec data + manuel d'utilisation et installation environnement :\n",
    "https://github.com/Michelboissac/IBMM_Synapticbee_transcriptome_abeille.git"
   ]
  },
  {
   "cell_type": "markdown",
   "id": "fa72549f-5f7b-4ed5-b5ca-27df32ed765c",
   "metadata": {},
   "source": [
    "# Library"
   ]
  },
  {
   "cell_type": "code",
   "execution_count": 1,
   "id": "81a86bb1-5e02-4a77-b862-d9084d49773e",
   "metadata": {
    "collapsed": true,
    "jupyter": {
     "outputs_hidden": true,
     "source_hidden": true
    },
    "scrolled": true
   },
   "outputs": [
    {
     "name": "stdout",
     "output_type": "stream",
     "text": [
      "=== Installation des packages ===\n"
     ]
    },
    {
     "name": "stderr",
     "output_type": "stream",
     "text": [
      "\n",
      "Attachement du package : 'generics'\n",
      "\n",
      "\n",
      "Les objets suivants sont masqués depuis 'package:base':\n",
      "\n",
      "    as.difftime, as.factor, as.ordered, intersect, is.element, setdiff,\n",
      "    setequal, union\n",
      "\n",
      "\n",
      "\n",
      "Attachement du package : 'BiocGenerics'\n",
      "\n",
      "\n",
      "Les objets suivants sont masqués depuis 'package:stats':\n",
      "\n",
      "    IQR, mad, sd, var, xtabs\n",
      "\n",
      "\n",
      "Les objets suivants sont masqués depuis 'package:base':\n",
      "\n",
      "    anyDuplicated, aperm, append, as.data.frame, basename, cbind,\n",
      "    colnames, dirname, do.call, duplicated, eval, evalq, Filter, Find,\n",
      "    get, grep, grepl, is.unsorted, lapply, Map, mapply, match, mget,\n",
      "    order, paste, pmax, pmax.int, pmin, pmin.int, Position, rank,\n",
      "    rbind, Reduce, rownames, sapply, saveRDS, table, tapply, unique,\n",
      "    unsplit, which.max, which.min\n",
      "\n",
      "\n",
      "\n",
      "Attachement du package : 'S4Vectors'\n",
      "\n",
      "\n",
      "L'objet suivant est masqué depuis 'package:utils':\n",
      "\n",
      "    findMatches\n",
      "\n",
      "\n",
      "Les objets suivants sont masqués depuis 'package:base':\n",
      "\n",
      "    expand.grid, I, unname\n",
      "\n",
      "\n",
      "\n",
      "Attachement du package : 'IRanges'\n",
      "\n",
      "\n",
      "L'objet suivant est masqué depuis 'package:grDevices':\n",
      "\n",
      "    windows\n",
      "\n",
      "\n",
      "\n",
      "Attachement du package : 'Biostrings'\n",
      "\n",
      "\n",
      "L'objet suivant est masqué depuis 'package:base':\n",
      "\n",
      "    strsplit\n",
      "\n",
      "\n",
      "'getOption(\"repos\")' replaces Bioconductor standard repositories, see\n",
      "'help(\"repositories\", package = \"BiocManager\")' for details.\n",
      "Replacement repositories:\n",
      "    CRAN: https://cran.r-project.org\n",
      "\n",
      "Bioconductor version 3.21 (BiocManager 1.30.26), R 4.5.1 (2025-06-13 ucrt)\n",
      "\n",
      "Old packages: 'ggstats', 'invgamma', 'Rcpp', 'RcppArmadillo', 'restfulr',\n",
      "  'shiny'\n",
      "\n",
      "'getOption(\"repos\")' replaces Bioconductor standard repositories, see\n",
      "'help(\"repositories\", package = \"BiocManager\")' for details.\n",
      "Replacement repositories:\n",
      "    CRAN: https://cran.r-project.org\n",
      "\n",
      "Bioconductor version 3.21 (BiocManager 1.30.26), R 4.5.1 (2025-06-13 ucrt)\n",
      "\n",
      "Warning message:\n",
      "\"package(s) not installed when version(s) same as or greater than current; use\n",
      "  `force = TRUE` to re-install: 'IHW'\"\n",
      "Old packages: 'ggstats', 'invgamma', 'Rcpp', 'RcppArmadillo', 'restfulr',\n",
      "  'shiny'\n",
      "\n",
      "'getOption(\"repos\")' replaces Bioconductor standard repositories, see\n",
      "'help(\"repositories\", package = \"BiocManager\")' for details.\n",
      "Replacement repositories:\n",
      "    CRAN: https://cran.r-project.org\n",
      "\n",
      "Bioconductor version 3.21 (BiocManager 1.30.26), R 4.5.1 (2025-06-13 ucrt)\n",
      "\n",
      "Warning message:\n",
      "\"package(s) not installed when version(s) same as or greater than current; use\n",
      "  `force = TRUE` to re-install: 'vsn'\"\n",
      "Old packages: 'ggstats', 'invgamma', 'Rcpp', 'RcppArmadillo', 'restfulr',\n",
      "  'shiny'\n",
      "\n",
      "'getOption(\"repos\")' replaces Bioconductor standard repositories, see\n",
      "'help(\"repositories\", package = \"BiocManager\")' for details.\n",
      "Replacement repositories:\n",
      "    CRAN: https://cran.r-project.org\n",
      "\n",
      "Bioconductor version 3.21 (BiocManager 1.30.26), R 4.5.1 (2025-06-13 ucrt)\n",
      "\n",
      "Warning message:\n",
      "\"package(s) not installed when version(s) same as or greater than current; use\n",
      "  `force = TRUE` to re-install: 'RUVSeq'\"\n",
      "Old packages: 'ggstats', 'invgamma', 'Rcpp', 'RcppArmadillo', 'restfulr',\n",
      "  'shiny'\n",
      "\n",
      "'getOption(\"repos\")' replaces Bioconductor standard repositories, see\n",
      "'help(\"repositories\", package = \"BiocManager\")' for details.\n",
      "Replacement repositories:\n",
      "    CRAN: https://cran.r-project.org\n",
      "\n",
      "Bioconductor version 3.21 (BiocManager 1.30.26), R 4.5.1 (2025-06-13 ucrt)\n",
      "\n",
      "Warning message:\n",
      "\"package(s) not installed when version(s) same as or greater than current; use\n",
      "  `force = TRUE` to re-install: 'limma'\"\n",
      "Old packages: 'ggstats', 'invgamma', 'Rcpp', 'RcppArmadillo', 'restfulr',\n",
      "  'shiny'\n",
      "\n",
      "'getOption(\"repos\")' replaces Bioconductor standard repositories, see\n",
      "'help(\"repositories\", package = \"BiocManager\")' for details.\n",
      "Replacement repositories:\n",
      "    CRAN: https://cran.r-project.org\n",
      "\n",
      "Bioconductor version 3.21 (BiocManager 1.30.26), R 4.5.1 (2025-06-13 ucrt)\n",
      "\n",
      "Warning message:\n",
      "\"package(s) not installed when version(s) same as or greater than current; use\n",
      "  `force = TRUE` to re-install: 'DESeq2'\"\n",
      "Old packages: 'ggstats', 'invgamma', 'Rcpp', 'RcppArmadillo', 'restfulr',\n",
      "  'shiny'\n",
      "\n"
     ]
    },
    {
     "name": "stdout",
     "output_type": "stream",
     "text": [
      "le package 'pheatmap' a été décompressé et les sommes MD5 ont été vérifiées avec succés\n",
      "\n",
      "Les packages binaires téléchargés sont dans\n",
      "\tC:\\Users\\michel.boissac\\AppData\\Local\\Temp\\Rtmpw7bvnl\\downloaded_packages\n",
      "le package 'corrr' a été décompressé et les sommes MD5 ont été vérifiées avec succés\n",
      "\n",
      "Les packages binaires téléchargés sont dans\n",
      "\tC:\\Users\\michel.boissac\\AppData\\Local\\Temp\\Rtmpw7bvnl\\downloaded_packages\n",
      "le package 'igraph' a été décompressé et les sommes MD5 ont été vérifiées avec succés\n"
     ]
    },
    {
     "name": "stderr",
     "output_type": "stream",
     "text": [
      "Warning message:\n",
      "\"impossible de supprimer l'installation précédente du package 'igraph'\"\n",
      "Warning message in file.copy(savedcopy, lib, recursive = TRUE):\n",
      "\"problème lors de la copie de C:\\Users\\michel.boissac\\AppData\\Local\\anaconda3\\envs\\r451_env\\lib\\R\\library\\00LOCK\\igraph\\libs\\x64\\igraph.dll vers C:\\Users\\michel.boissac\\AppData\\Local\\anaconda3\\envs\\r451_env\\lib\\R\\library\\igraph\\libs\\x64\\igraph.dll : Permission denied\"\n",
      "Warning message:\n",
      "\"'igraph' restauré\"\n"
     ]
    },
    {
     "name": "stdout",
     "output_type": "stream",
     "text": [
      "\n",
      "Les packages binaires téléchargés sont dans\n",
      "\tC:\\Users\\michel.boissac\\AppData\\Local\\Temp\\Rtmpw7bvnl\\downloaded_packages\n",
      "le package 'GGally' a été décompressé et les sommes MD5 ont été vérifiées avec succés\n",
      "\n",
      "Les packages binaires téléchargés sont dans\n",
      "\tC:\\Users\\michel.boissac\\AppData\\Local\\Temp\\Rtmpw7bvnl\\downloaded_packages\n",
      "le package 'UpSetR' a été décompressé et les sommes MD5 ont été vérifiées avec succés\n",
      "\n",
      "Les packages binaires téléchargés sont dans\n",
      "\tC:\\Users\\michel.boissac\\AppData\\Local\\Temp\\Rtmpw7bvnl\\downloaded_packages\n",
      "le package 'curl' a été décompressé et les sommes MD5 ont été vérifiées avec succés\n"
     ]
    },
    {
     "name": "stderr",
     "output_type": "stream",
     "text": [
      "Warning message:\n",
      "\"impossible de supprimer l'installation précédente du package 'curl'\"\n",
      "Warning message in file.copy(savedcopy, lib, recursive = TRUE):\n",
      "\"problème lors de la copie de C:\\Users\\michel.boissac\\AppData\\Local\\anaconda3\\envs\\r451_env\\lib\\R\\library\\00LOCK\\curl\\libs\\x64\\curl.dll vers C:\\Users\\michel.boissac\\AppData\\Local\\anaconda3\\envs\\r451_env\\lib\\R\\library\\curl\\libs\\x64\\curl.dll : Permission denied\"\n",
      "Warning message:\n",
      "\"'curl' restauré\"\n"
     ]
    },
    {
     "name": "stdout",
     "output_type": "stream",
     "text": [
      "\n",
      "Les packages binaires téléchargés sont dans\n",
      "\tC:\\Users\\michel.boissac\\AppData\\Local\\Temp\\Rtmpw7bvnl\\downloaded_packages\n",
      "le package 'pvclust' a été décompressé et les sommes MD5 ont été vérifiées avec succés\n",
      "\n",
      "Les packages binaires téléchargés sont dans\n",
      "\tC:\\Users\\michel.boissac\\AppData\\Local\\Temp\\Rtmpw7bvnl\\downloaded_packages\n",
      "le package 'plotly' a été décompressé et les sommes MD5 ont été vérifiées avec succés\n",
      "\n",
      "Les packages binaires téléchargés sont dans\n",
      "\tC:\\Users\\michel.boissac\\AppData\\Local\\Temp\\Rtmpw7bvnl\\downloaded_packages\n",
      "le package 'ashr' a été décompressé et les sommes MD5 ont été vérifiées avec succés\n",
      "\n",
      "Les packages binaires téléchargés sont dans\n",
      "\tC:\\Users\\michel.boissac\\AppData\\Local\\Temp\\Rtmpw7bvnl\\downloaded_packages\n",
      "le package 'IRdisplay' a été décompressé et les sommes MD5 ont été vérifiées avec succés\n",
      "\n",
      "Les packages binaires téléchargés sont dans\n",
      "\tC:\\Users\\michel.boissac\\AppData\\Local\\Temp\\Rtmpw7bvnl\\downloaded_packages\n",
      "le package 'R.utils' a été décompressé et les sommes MD5 ont été vérifiées avec succés\n",
      "\n",
      "Les packages binaires téléchargés sont dans\n",
      "\tC:\\Users\\michel.boissac\\AppData\\Local\\Temp\\Rtmpw7bvnl\\downloaded_packages\n"
     ]
    }
   ],
   "source": [
    "# Install packages\n",
    "cat(\"=== Installation des packages ===\\n\")\n",
    "\n",
    "# Vérification R 4.5.1\n",
    "if(R.version$major != \"4\" || as.numeric(R.version$minor) < 5.1) {\n",
    "  warning(\"Ce script est optimisé pour R 4.5.1+\")\n",
    "}\n",
    "\n",
    "# Installation BiocManager si nécessaire\n",
    "if (!require(\"BiocManager\", quietly = TRUE)) {\n",
    "  install.packages(\"BiocManager\")\n",
    "}\n",
    "\n",
    "# Installation packages essentiels\n",
    "packages_needed <- c(\"Rsubread\", \"Biostrings\")\n",
    "for(pkg in packages_needed) {\n",
    "  if (!require(pkg, character.only = TRUE, quietly = TRUE)) {\n",
    "    cat(\"Installation de\", pkg, \"...\\n\")\n",
    "    BiocManager::install(pkg, update = FALSE, ask = FALSE)\n",
    "  }\n",
    "}\n",
    "if (!require(\"BiocManager\", quietly = TRUE))\n",
    "  install.packages(\"BiocManager\")\n",
    "BiocManager::install(version = \"3.21\")\n",
    "BiocManager::install(\"IHW\")\n",
    "BiocManager::install(\"vsn\")\n",
    "BiocManager::install(\"RUVSeq\")\n",
    "BiocManager::install(\"limma\")\n",
    "BiocManager::install(\"DESeq2\")\n",
    "\n",
    "\n",
    "install.packages(\"pheatmap\")\n",
    "install.packages(\"corrr\")\n",
    "install.packages(\"igraph\")\n",
    "install.packages(\"GGally\")\n",
    "install.packages(\"UpSetR\")\n",
    "install.packages(\"curl\")\n",
    "install.packages(\"pvclust\")\n",
    "install.packages(\"plotly\")\n",
    "install.packages(\"ashr\")\n",
    "install.packages(\"IRdisplay\")\n",
    "install.packages(\"R.utils\")\n",
    "install.packages(\"xml2\")\n",
    "install.packages(\"rentrez\")\n"
   ]
  },
  {
   "cell_type": "code",
   "execution_count": 2,
   "id": "025e116c-cae9-4731-8411-026c9376d1ae",
   "metadata": {
    "jupyter": {
     "source_hidden": true
    },
    "scrolled": true
   },
   "outputs": [],
   "source": [
    "#Chargement library\n",
    "library(\"DESeq2\")\n",
    "library(\"ggplot2\")\n",
    "library(\"pheatmap\")\n",
    "library(\"pvclust\")\n",
    "library(\"plotly\")\n",
    "library(\"igraph\")\n",
    "library(\"corrr\")\n",
    "library(\"GGally\")\n",
    "library(\"curl\")\n",
    "library(\"UpSetR\")\n",
    "library(\"IRdisplay\")\n",
    "library(\"igraph\")\n",
    "library(\"corrr\")\n",
    "library(pheatmap)\n",
    "library(\"pvclust\")\n",
    "# library(uwot)\n",
    "library(plotly)\n",
    "library(UpSetR)\n",
    "library(GGally)\n",
    "library(ggplot2)\n",
    "library(\"igraph\")\n",
    "library(\"corrr\")\n",
    "library(\"dplyr\")\n",
    "library(Rsubread)\n",
    "library(Biostrings)\n",
    "library(R.utils)\n",
    "library(xml2)\n",
    "library(rentrez)"
   ]
  },
  {
   "cell_type": "markdown",
   "id": "95a1f0f0-5874-4a37-8fa6-c79e17040a70",
   "metadata": {},
   "source": [
    "# Parametres Partie 1) "
   ]
  },
  {
   "cell_type": "markdown",
   "id": "144a9b7a-28ea-4480-8f0c-bd4dea56b07b",
   "metadata": {},
   "source": [
    "### Choisissez l'emplacement du dossier de travail, des sous dossiers seront crée pour l'analyse."
   ]
  },
  {
   "cell_type": "code",
   "execution_count": null,
   "id": "273f229e-0ab8-4ce2-ba3d-27cb00faf0df",
   "metadata": {},
   "outputs": [],
   "source": [
    "dossier_travail = \"D:/Michel_boissac/alignement_sur_r_test2\"                #ne pas mettre de / à la fin du chemin"
   ]
  },
  {
   "cell_type": "markdown",
   "id": "3831d2fb-094b-4c1e-86a8-108088779cd7",
   "metadata": {},
   "source": [
    "### Choisissez le nom de la matrice d'alignement généré lors de l'analyse"
   ]
  },
  {
   "cell_type": "code",
   "execution_count": null,
   "id": "a3af88b2-84ff-43f0-afca-d992c5030bd6",
   "metadata": {},
   "outputs": [],
   "source": [
    "nom_tableau_counts = \"counts.txt\""
   ]
  },
  {
   "cell_type": "markdown",
   "id": "4ee1e566-1a1d-4eb8-8195-e47aa9f92194",
   "metadata": {},
   "source": [
    "### Rentrez les noms de reads à aligner (à mettre plus tard dans le sous dossier \"FASTQ\" qui sera généré), ainsi que leurs extension, la technologie de séquençage, et si les fichiers sont pairend ou single end"
   ]
  },
  {
   "cell_type": "code",
   "execution_count": null,
   "id": "308bb101-9ae1-4ca8-81d8-55df38faa981",
   "metadata": {
    "jupyter": {
     "source_hidden": true
    }
   },
   "outputs": [],
   "source": [
    "#Liste des reads présent dans le repertoire \"FASTQ/\")\n",
    "liste_reads = c(\n",
    "'SRR935172_10000',\n",
    "'SRR935173_10000',\n",
    "'SRR935174_10000'\n",
    ")\n",
    "extension1=\"_1.fastq\"        #extension R1 (si pair end), sinon mettre l'extension du single end\n",
    "extension2=\"_2.fastq\"        #extension R2 (si pair end), sinon ne rien mettre : \"\" \n",
    "\n",
    "technologie_de_sequencage = \"ILLUMINA\"        #choix entre \"NANOPORE\" et \"ILLUMINA\"\n",
    "\n",
    "is_paired = TRUE             #reads pair end (R1+R2) = TRUE , reads single end = FALSE"
   ]
  },
  {
   "cell_type": "markdown",
   "id": "371b0865-bdaa-4468-a9fb-d7cb3e6bc5c1",
   "metadata": {},
   "source": [
    "### autres parametres a ne pas modifier"
   ]
  },
  {
   "cell_type": "code",
   "execution_count": 3,
   "id": "eb048ae5-d98d-4cf0-806b-fd828f582543",
   "metadata": {
    "collapsed": true,
    "jupyter": {
     "outputs_hidden": true,
     "source_hidden": true
    },
    "scrolled": true
   },
   "outputs": [
    {
     "name": "stderr",
     "output_type": "stream",
     "text": [
      "Warning message in dir.create(dossier_travail):\n",
      "\"'D:\\Michel_boissac\\alignement_sur_r_test2' existe déjà\"\n",
      "Warning message in dir.create(repertoire_fichiers_txt):\n",
      "\"'D:\\Michel_boissac\\alignement_sur_r_test2\\FICHIERS_TXT' existe déjà\"\n"
     ]
    }
   ],
   "source": [
    "#NE PAS MODIFIER\n",
    "\n",
    "genome_fasta <- \"GCF_003254395.2_Amel_HAv3.1_genomic.fna\"              \n",
    "annotation_gtf <-\"GCF_003254395.2_Amel_HAv3.1_genomic.gtf\" \n",
    "index_name <-\"genome_index\"\n",
    "url_genome_fasta <- \"https://ftp.ncbi.nlm.nih.gov/genomes/all/GCF/003/254/395/GCF_003254395.2_Amel_HAv3.1/GCF_003254395.2_Amel_HAv3.1_genomic.fna.gz\"  # Remplace par le vrai lien\n",
    "url_annotation_gtf <- \"https://ftp.ncbi.nlm.nih.gov/genomes/all/GCF/003/254/395/GCF_003254395.2_Amel_HAv3.1/GCF_003254395.2_Amel_HAv3.1_genomic.gtf.gz\"\n",
    "############################################################################################################\n",
    "############################################################################################################\n",
    "############################################################################################################\n",
    "repertoire_fichiers_txt = paste0(dossier_travail,\"/FICHIERS_TXT/\")\n",
    "OUTPUTS = paste0(getwd(),\"/OUTPUT/\")\n",
    "GENOME = paste0(getwd(),\"/GENOME/\")\n",
    "FASTQ = paste0(getwd(),\"/FASTQ/\")\n",
    "ALIGNEMENTS = paste0(getwd(),\"/ALIGNEMENTS/\")\n",
    "############################################################################################################\n",
    "############################################################################################################\n",
    "############################################################################################################\n",
    "dir.create(dossier_travail)\n",
    "setwd(dossier_travail)\n",
    "dir.create(repertoire_fichiers_txt)\n",
    "dir.create(OUTPUTS)\n",
    "dir.create(GENOME)\n",
    "dir.create(FASTQ)\n",
    "dir.create(ALIGNEMENTS)\n",
    "\n",
    "genome_fasta <- paste0(GENOME,genome_fasta)            \n",
    "annotation_gtf <- paste0(GENOME,annotation_gtf)\n",
    "index_name <- paste0(GENOME,index_name)\n",
    "\n",
    "#nombre de threads de l'ordinateur (mettre le maximum)\n",
    "threads <- 12   #"
   ]
  },
  {
   "cell_type": "markdown",
   "id": "052a51c7-07a2-445a-89b7-b643d326cc9b",
   "metadata": {},
   "source": [
    "# chargement fonctions partie 1)"
   ]
  },
  {
   "cell_type": "code",
   "execution_count": 4,
   "id": "bda94b34-3228-4325-b868-a35559aa1a1f",
   "metadata": {
    "jupyter": {
     "source_hidden": true
    }
   },
   "outputs": [],
   "source": [
    "#FONCTIONS extraction d'information du ncbi\n",
    "function_extraction_info_gene_ncbi = function(gene_id){\n",
    "    gene_summary <- entrez_summary(db = \"gene\", id = gene_id)\n",
    "    # Extraction des champs dans des variables\n",
    "    gene_name <- gene_summary$name\n",
    "    gene_description <- gene_summary$description\n",
    "    chromosome <- gene_summary$chromosome\n",
    "    map_location <- gene_summary$maplocation\n",
    "    organism <- gene_summary$organism$name\n",
    "    gene_summary_text <- gene_summary$summary  # résumé fonctionnel du gène\n",
    "\n",
    "    # Affichage\n",
    "    cat(\"Nom :\", gene_name, \"\\n\")\n",
    "    cat(\"Description :\", gene_description, \"\\n\")\n",
    "    cat(\"Chromosome :\", chromosome, \"\\n\")\n",
    "    cat(\"Localisation :\", map_location, \"\\n\")\n",
    "    cat(\"Organisme :\", organism, \"\\n\")\n",
    "    cat(\"Résumé fonctionnel :\", gene_summary_text, \"\\n\\n\")\n",
    "}\n",
    "\n",
    "function_extraction_info_run_sra_ncbi = function(sra_id){\n",
    "    # Étape 1 : Trouver l’UID numérique correspondant au SRR\n",
    "    search_result <- entrez_search(db = \"sra\", term = sra_id)\n",
    "    #search_result$ids  # doit contenir un ou plusieurs UIDs\n",
    "\n",
    "    # Étape 2 : Récupérer les métadonnées avec entrez_summary\n",
    "    if (length(search_result$ids) > 0) {\n",
    "      sra_summary <- entrez_summary(db = \"sra\", id = search_result$ids[[1]])\n",
    "    } else {\n",
    "      message(\"Aucun résultat trouvé pour l'ID fourni.\")\n",
    "    }\n",
    "\n",
    "    wrapped_xml <- paste0(\"<root>\", sra_summary$expxml, \"</root>\")\n",
    "    xml <- read_xml(wrapped_xml)\n",
    "    # Extraction et sauvegarde dans des variables\n",
    "    exp_title <- xml_text(xml_find_first(xml, \".//Title\"))\n",
    "    platform <- xml_text(xml_find_first(xml, \".//Platform\"))\n",
    "    model <- xml_text(xml_find_first(xml, \".//Model\"))\n",
    "\n",
    "    # Afficher les valeurs\n",
    "    cat(\"sra :\", sra_id, \"\\n\")\n",
    "    cat(\"Titre :\", exp_title, \"\\n\")\n",
    "    cat(\"Plateforme :\", platform, \"\\n\\n\")\n",
    "}\n"
   ]
  },
  {
   "cell_type": "markdown",
   "id": "71f7e5f3-cefb-45ff-aaaa-e4018021a212",
   "metadata": {},
   "source": [
    "# Partie 1) : Alignements des reads.fastq au genome et creation de la matrice d'alignements"
   ]
  },
  {
   "cell_type": "markdown",
   "id": "0b931d66-e3f1-485d-8958-d9a92662f7d6",
   "metadata": {},
   "source": [
    "### SRA : mettre les SRA dans le dossier FASTQ"
   ]
  },
  {
   "cell_type": "markdown",
   "id": "bf2356bd-322c-4ac1-af87-d1ff242f0a83",
   "metadata": {},
   "source": [
    "### Telecharger le genome fasta et son annotation gtf dans le sous dossier \"GENOME\" si ce n'est pas encore réalisé (à faire 1 fois)"
   ]
  },
  {
   "cell_type": "code",
   "execution_count": 15,
   "id": "3a8e8d1a-1bff-46cf-a6a3-e6f2ba47977a",
   "metadata": {
    "collapsed": true,
    "jupyter": {
     "outputs_hidden": true,
     "source_hidden": true
    }
   },
   "outputs": [
    {
     "name": "stderr",
     "output_type": "stream",
     "text": [
      "Warning message in system(cmd, intern = intern, wait = wait | intern, show.output.on.console = wait, :\n",
      "\"l'exécution de la commande 'C:\\Windows\\system32\\cmd.exe /c dir' renvoie un statut 1\"\n",
      "Warning message in system(cmd, intern = intern, wait = wait | intern, show.output.on.console = wait, :\n",
      "\"l'exécution de la commande 'C:\\Windows\\system32\\cmd.exe /c dir' renvoie un statut 1\"\n",
      "Warning message in system(cmd, intern = intern, wait = wait | intern, show.output.on.console = wait, :\n",
      "\"l'exécution de la commande 'C:\\Windows\\system32\\cmd.exe /c dir' renvoie un statut 1\"\n",
      "Warning message in system(cmd, intern = intern, wait = wait | intern, show.output.on.console = wait, :\n",
      "\"l'exécution de la commande 'C:\\Windows\\system32\\cmd.exe /c dir' renvoie un statut 1\"\n",
      "Warning message in system(cmd, intern = intern, wait = wait | intern, show.output.on.console = wait, :\n",
      "\"l'exécution de la commande 'C:\\Windows\\system32\\cmd.exe /c dir' renvoie un statut 1\"\n",
      "Warning message in system(cmd, intern = intern, wait = wait | intern, show.output.on.console = wait, :\n",
      "\"l'exécution de la commande 'C:\\Windows\\system32\\cmd.exe /c dir' renvoie un statut 1\"\n"
     ]
    }
   ],
   "source": [
    "# TELECHARGEMENT GENOME + ANNOTATION GENOME\n",
    "\n",
    "function_download_and_gunzip = function(url,destfile){\n",
    "    download.file(url, destfile, mode = \"wb\")\n",
    "    gunzip(destfile, remove = TRUE , overwrite = TRUE)\n",
    "}\n",
    "\n",
    "function_download_and_gunzip(\n",
    "    url = url_genome_fasta,\n",
    "    destfile = paste0(genome_fasta,\".gz\"))\n",
    "\n",
    "function_download_and_gunzip(\n",
    "    url = url_annotation_gtf,           \n",
    "    destfile = paste0(annotation_gtf,\".gz\"))\n"
   ]
  },
  {
   "cell_type": "markdown",
   "id": "76e6744d-1ce1-4c44-892f-b2341021315f",
   "metadata": {},
   "source": [
    "### Indexation du génome (à faire 1 fois)"
   ]
  },
  {
   "cell_type": "code",
   "execution_count": 13,
   "id": "17be141c-f326-4598-b88a-063df901d9b2",
   "metadata": {
    "collapsed": true,
    "jupyter": {
     "outputs_hidden": true,
     "source_hidden": true
    },
    "scrolled": true
   },
   "outputs": [
    {
     "name": "stdout",
     "output_type": "stream",
     "text": [
      "=== Construction de l'index du génome ===\n",
      "Construction de l'index en cours...\n",
      "\n",
      "        ==========     _____ _    _ ____  _____  ______          _____  \n",
      "        =====         / ____| |  | |  _ \\|  __ \\|  ____|   /\\   |  __ \\ \n",
      "          =====      | (___ | |  | | |_) | |__) | |__     /  \\  | |  | |\n",
      "            ====      \\___ \\| |  | |  _ <|  _  /|  __|   / /\\ \\ | |  | |\n",
      "              ====    ____) | |__| | |_) | | \\ \\| |____ / ____ \\| |__| |\n",
      "        ==========   |_____/ \\____/|____/|_|  \\_\\______/_/    \\_\\_____/\n",
      "       Rsubread 2.22.1\n",
      "\n",
      "//================================= setting ==================================\\\\\n",
      "||                                                                            ||\n",
      "||                Index name : genome_index                                   ||\n",
      "||               Index space : base space                                     ||\n",
      "||               Index split : no-split                                       ||\n",
      "||          Repeat threshold : 12 repeats                                     ||\n",
      "||              Gapped index : no                                             ||\n",
      "||                                                                            ||\n",
      "||       Free / total memory : 8.1GB / 15.8GB                                 ||\n",
      "||                                                                            ||\n",
      "||               Input files : 1 file in total                                ||\n",
      "||                             o GCF_003254395.2_Amel_HAv3.1_genomic.fna      ||\n",
      "||                                                                            ||\n",
      "\\\\============================================================================//\n",
      "\n",
      "//================================= Running ==================================\\\\\n",
      "||                                                                            ||\n",
      "|| Check the integrity of provided reference sequences ...                    ||\n",
      "|| No format issues were found                                                ||\n",
      "|| Scan uninformative subreads in reference sequences ...                     ||\n",
      "|| 480544 uninformative subreads were found.                                  ||\n",
      "|| These subreads were excluded from index building.                          ||\n",
      "|| Estimate the index size...                                                 ||\n",
      "||    8%,   0 mins elapsed, rate=2102.9k bps/s                                ||\n",
      "||   16%,   0 mins elapsed, rate=2186.4k bps/s                                ||\n",
      "||   24%,   0 mins elapsed, rate=2198.0k bps/s                                ||\n",
      "||   33%,   0 mins elapsed, rate=2201.4k bps/s                                ||\n",
      "||   41%,   0 mins elapsed, rate=2193.1k bps/s                                ||\n",
      "||   49%,   0 mins elapsed, rate=2187.8k bps/s                                ||\n",
      "||   58%,   1 mins elapsed, rate=2176.9k bps/s                                ||\n",
      "||   66%,   1 mins elapsed, rate=2187.2k bps/s                                ||\n",
      "||   74%,   1 mins elapsed, rate=2187.7k bps/s                                ||\n",
      "||   83%,   1 mins elapsed, rate=2183.1k bps/s                                ||\n",
      "||   91%,   1 mins elapsed, rate=2186.6k bps/s                                ||\n",
      "|| 4.2 GB of memory is needed for index building.                             ||\n",
      "|| Build the index...                                                         ||\n",
      "||    8%,   0 mins elapsed, rate=1404.4k bps/s                                ||\n",
      "||   16%,   0 mins elapsed, rate=1514.5k bps/s                                ||\n",
      "||   24%,   0 mins elapsed, rate=1551.5k bps/s                                ||\n",
      "||   33%,   0 mins elapsed, rate=1558.7k bps/s                                ||\n",
      "||   41%,   0 mins elapsed, rate=1569.4k bps/s                                ||\n",
      "||   49%,   1 mins elapsed, rate=1567.9k bps/s                                ||\n",
      "||   58%,   1 mins elapsed, rate=1527.9k bps/s                                ||\n",
      "||   66%,   1 mins elapsed, rate=1477.1k bps/s                                ||\n",
      "||   74%,   1 mins elapsed, rate=1437.0k bps/s                                ||\n",
      "||   83%,   2 mins elapsed, rate=1406.6k bps/s                                ||\n",
      "||   91%,   2 mins elapsed, rate=1381.6k bps/s                                ||\n",
      "|| Save current index block...                                                ||\n",
      "||  [ 0.0% finished ]                                                         ||\n",
      "||  [ 10.0% finished ]                                                        ||\n",
      "||  [ 20.0% finished ]                                                        ||\n",
      "||  [ 30.0% finished ]                                                        ||\n",
      "||  [ 40.0% finished ]                                                        ||\n",
      "||  [ 50.0% finished ]                                                        ||\n",
      "||  [ 60.0% finished ]                                                        ||\n",
      "||  [ 70.0% finished ]                                                        ||\n",
      "||  [ 80.0% finished ]                                                        ||\n",
      "||  [ 90.0% finished ]                                                        ||\n",
      "||  [ 100.0% finished ]                                                       ||\n",
      "||                                                                            ||\n",
      "||                      Total running time: 6.7 minutes.                      ||\n",
      "||Index D:\\Michel_boissac\\alignement_sur_r_test2\\GENOME\\genome_index was ... ||\n",
      "||                                                                            ||\n",
      "\\\\============================================================================//\n",
      "\n",
      "Code de retour : "
     ]
    },
    {
     "ename": "ERROR",
     "evalue": "Error in base::cat(...): argument 2 (type 'list') pas encore traité par 'cat'\n",
     "output_type": "error",
     "traceback": [
      "Error in base::cat(...): argument 2 (type 'list') pas encore traité par 'cat'\nTraceback:\n",
      "1. cat.default(\"Code de retour :\", build_result, \"\\n\")",
      "2. base::cat(...)",
      "3. .handleSimpleError(function (cnd) \n . {\n .     watcher$capture_plot_and_output()\n .     cnd <- sanitize_call(cnd)\n .     watcher$push(cnd)\n .     switch(on_error, continue = invokeRestart(\"eval_continue\"), \n .         stop = invokeRestart(\"eval_stop\"), error = NULL)\n . }, \"argument 2 (type 'list') pas encore traité par 'cat'\", base::quote(base::cat(...)))"
     ]
    }
   ],
   "source": [
    "# Indexation genome\n",
    "\n",
    "cat(\"=== Construction de l'index du génome ===\\n\")\n",
    "\n",
    "# Vérifier que le fichier génome existe\n",
    "if(!file.exists(genome_fasta)) {\n",
    "  stop(\"Le fichier génome n'existe pas : \", genome_fasta)\n",
    "}\n",
    "\n",
    "# Construire l'index seulement s'il n'existe pas\n",
    "if(!file.exists(paste0(index_name, \".files\"))) {\n",
    "  cat(\"Construction de l'index en cours...\\n\")\n",
    "  \n",
    "  # Paramètres corrigés pour buildindex\n",
    "  build_result <- tryCatch({\n",
    "    buildindex(\n",
    "      basename = index_name,\n",
    "      reference = genome_fasta,\n",
    "      TH_subread = max(5, threads),  # S'assurer que le seuil >= 5\n",
    "      memory = 8000,                # Limite mémoire en MB\n",
    "      indexSplit = FALSE            # Éviter la division de l'index\n",
    "    )\n",
    "  }, error = function(e) {\n",
    "    cat(\"Erreur capturée :\", e$message, \"\\n\")\n",
    "    return(1)  # Code d'erreur\n",
    "  })\n",
    "  \n",
    "  # Vérification robuste du résultat\n",
    "  if(is.null(build_result) || length(build_result) == 0) {\n",
    "    cat(\"Résultat de construction indéterminé, vérification des fichiers...\\n\")\n",
    "    # Vérifier si les fichiers d'index ont été créés\n",
    "    if(file.exists(paste0(index_name, \".files\"))) {\n",
    "      cat(\"Index construit avec succès (fichiers détectés)!\\n\")\n",
    "    } else {\n",
    "      stop(\"Erreur lors de la construction de l'index - aucun fichier créé\")\n",
    "    }\n",
    "  } else if(length(build_result) == 1 && build_result == 0) {\n",
    "    cat(\"Index construit avec succès!\\n\")\n",
    "  } else {\n",
    "    cat(\"Code de retour :\", build_result, \"\\n\")\n",
    "    stop(\"Erreur lors de la construction de l'index\")\n",
    "  }\n",
    "} else {\n",
    "  cat(\"Index existant trouvé, construction ignorée\\n\")\n",
    "}\n",
    "\n",
    "# Vérification finale\n",
    "if(file.exists(paste0(index_name, \".files\"))) {\n",
    "  cat(\"Index prêt\\n\\n\")\n",
    "} else {\n",
    "  stop(\"L'index n'a pas pu être créé ou vérifié\")\n",
    "}"
   ]
  },
  {
   "cell_type": "markdown",
   "id": "b45d9efa-3e65-4b78-a2a2-f94de6791ec7",
   "metadata": {},
   "source": [
    "### Alignement reads VS genome"
   ]
  },
  {
   "cell_type": "code",
   "execution_count": 14,
   "id": "13e48592-d3a5-40c3-8cc1-13441f5a94ce",
   "metadata": {
    "collapsed": true,
    "jupyter": {
     "outputs_hidden": true,
     "source_hidden": true
    },
    "scrolled": true
   },
   "outputs": [
    {
     "name": "stdout",
     "output_type": "stream",
     "text": [
      "[1] \"D:/Michel_boissac/alignement_sur_r_test2/FASTQ/SRR935172_10000_1.fastq\"\n",
      "[1] \"D:/Michel_boissac/alignement_sur_r_test2/FASTQ/SRR935172_10000_2.fastq\"\n",
      "[1] \"D:/Michel_boissac/alignement_sur_r_test2/ALIGNEMENTS/SRR935172_10000.bam\"\n",
      "[1] \"D:/Michel_boissac/alignement_sur_r_test2/GENOME/genome_index\"\n",
      "\n",
      "        ==========     _____ _    _ ____  _____  ______          _____  \n",
      "        =====         / ____| |  | |  _ \\|  __ \\|  ____|   /\\   |  __ \\ \n",
      "          =====      | (___ | |  | | |_) | |__) | |__     /  \\  | |  | |\n",
      "            ====      \\___ \\| |  | |  _ <|  _  /|  __|   / /\\ \\ | |  | |\n",
      "              ====    ____) | |__| | |_) | | \\ \\| |____ / ____ \\| |__| |\n",
      "        ==========   |_____/ \\____/|____/|_|  \\_\\______/_/    \\_\\_____/\n",
      "       Rsubread 2.22.1\n",
      "\n",
      "//================================= setting ==================================\\\\\n",
      "||                                                                            ||\n",
      "|| Function      : Read alignment (RNA-Seq)                                   ||\n",
      "|| Input file 1  : SRR935172_10000_1.fastq                                    ||\n",
      "|| Input file 2  : SRR935172_10000_2.fastq                                    ||\n",
      "|| Output file   : SRR935172_10000.bam (BAM)                                  ||\n",
      "|| Index name    : genome_index                                               ||\n",
      "||                                                                            ||\n",
      "||                    ------------------------------------                    ||\n",
      "||                                                                            ||\n",
      "||                               Threads : 12                                 ||\n",
      "||                          Phred offset : 33                                 ||\n",
      "||               # of extracted subreads : 10                                 ||\n",
      "||                        Min read1 vote : 3                                  ||\n",
      "||                        Min read2 vote : 1                                  ||\n",
      "||                     Max fragment size : 600                                ||\n",
      "||                     Min fragment size : 50                                 ||\n",
      "||                        Max mismatches : 3                                  ||\n",
      "||                      Max indel length : 5                                  ||\n",
      "||            Report multi-mapping reads : yes                                ||\n",
      "|| Max alignments per multi-mapping read : 1                                  ||\n",
      "||                                                                            ||\n",
      "\\\\============================================================================//\n",
      "\n",
      "//================ Running (03-juil.-2025 12:26:06, pid=7716) ================\\\\\n",
      "||                                                                            ||\n",
      "|| Check the input reads.                                                     ||\n",
      "|| The input file contains base space reads.                                  ||\n",
      "|| Initialise the memory objects.                                             ||\n",
      "|| Estimate the mean read length.                                             ||\n",
      "|| The range of Phred scores observed in the data is [2,41]                   ||\n",
      "|| Create the output BAM file.                                                ||\n",
      "|| Check the index.                                                           ||\n",
      "|| Init the voting space.                                                     ||\n",
      "|| Global environment is initialised.                                         ||\n",
      "|| Load the 1-th index block...                                               ||\n",
      "|| The index block has been loaded.                                           ||\n",
      "|| Start read mapping in chunk.                                               ||\n",
      "||   Estimated fragment length : 171 bp                                       ||\n",
      "||                                                                            ||\n",
      "||                           Completed successfully.                          ||\n",
      "||                                                                            ||\n",
      "\\\\====================================    ====================================//\n",
      "\n",
      "//================================   Summary =================================\\\\\n",
      "||                                                                            ||\n",
      "||             Total fragments : 2500                                         ||\n",
      "||                      Mapped : 2473 (98,9%)                                 ||\n",
      "||             Uniquely mapped : 2150                                         ||\n",
      "||               Multi-mapping : 323                                          ||\n",
      "||                                                                            ||\n",
      "||                    Unmapped : 27                                           ||\n",
      "||                                                                            ||\n",
      "||             Properly paired : 1962                                         ||\n",
      "||         Not properly paired : 511                                          ||\n",
      "||                   Singleton : 171                                          ||\n",
      "||                    Chimeric : 211                                          ||\n",
      "||       Unexpected strandness : 3                                            ||\n",
      "||  Unexpected fragment length : 59                                           ||\n",
      "||       Unexpected read order : 67                                           ||\n",
      "||                                                                            ||\n",
      "||                      Indels : 126                                          ||\n",
      "||                                                                            ||\n",
      "||                Running time : 0,4 minutes                                  ||\n",
      "||                                                                            ||\n",
      "\\\\============================================================================//\n",
      "\n",
      "[1] \"D:/Michel_boissac/alignement_sur_r_test2/FASTQ/SRR935173_10000_1.fastq\"\n",
      "[1] \"D:/Michel_boissac/alignement_sur_r_test2/FASTQ/SRR935173_10000_2.fastq\"\n",
      "[1] \"D:/Michel_boissac/alignement_sur_r_test2/ALIGNEMENTS/SRR935173_10000.bam\"\n",
      "[1] \"D:/Michel_boissac/alignement_sur_r_test2/GENOME/genome_index\"\n",
      "\n",
      "        ==========     _____ _    _ ____  _____  ______          _____  \n",
      "        =====         / ____| |  | |  _ \\|  __ \\|  ____|   /\\   |  __ \\ \n",
      "          =====      | (___ | |  | | |_) | |__) | |__     /  \\  | |  | |\n",
      "            ====      \\___ \\| |  | |  _ <|  _  /|  __|   / /\\ \\ | |  | |\n",
      "              ====    ____) | |__| | |_) | | \\ \\| |____ / ____ \\| |__| |\n",
      "        ==========   |_____/ \\____/|____/|_|  \\_\\______/_/    \\_\\_____/\n",
      "       Rsubread 2.22.1\n",
      "\n",
      "//================================= setting ==================================\\\\\n",
      "||                                                                            ||\n",
      "|| Function      : Read alignment (RNA-Seq)                                   ||\n",
      "|| Input file 1  : SRR935173_10000_1.fastq                                    ||\n",
      "|| Input file 2  : SRR935173_10000_2.fastq                                    ||\n",
      "|| Output file   : SRR935173_10000.bam (BAM)                                  ||\n",
      "|| Index name    : genome_index                                               ||\n",
      "||                                                                            ||\n",
      "||                    ------------------------------------                    ||\n",
      "||                                                                            ||\n",
      "||                               Threads : 12                                 ||\n",
      "||                          Phred offset : 33                                 ||\n",
      "||               # of extracted subreads : 10                                 ||\n",
      "||                        Min read1 vote : 3                                  ||\n",
      "||                        Min read2 vote : 1                                  ||\n",
      "||                     Max fragment size : 600                                ||\n",
      "||                     Min fragment size : 50                                 ||\n",
      "||                        Max mismatches : 3                                  ||\n",
      "||                      Max indel length : 5                                  ||\n",
      "||            Report multi-mapping reads : yes                                ||\n",
      "|| Max alignments per multi-mapping read : 1                                  ||\n",
      "||                                                                            ||\n",
      "\\\\============================================================================//\n",
      "\n",
      "//================ Running (03-juil.-2025 12:26:30, pid=7716) ================\\\\\n",
      "||                                                                            ||\n",
      "|| Check the input reads.                                                     ||\n",
      "|| The input file contains base space reads.                                  ||\n",
      "|| Initialise the memory objects.                                             ||\n",
      "|| Estimate the mean read length.                                             ||\n",
      "|| The range of Phred scores observed in the data is [2,41]                   ||\n",
      "|| Create the output BAM file.                                                ||\n",
      "|| Check the index.                                                           ||\n",
      "|| Init the voting space.                                                     ||\n",
      "|| Global environment is initialised.                                         ||\n",
      "|| Load the 1-th index block...                                               ||\n",
      "|| The index block has been loaded.                                           ||\n",
      "|| Start read mapping in chunk.                                               ||\n",
      "||   Estimated fragment length : 167 bp                                       ||\n",
      "||                                                                            ||\n",
      "||                           Completed successfully.                          ||\n",
      "||                                                                            ||\n",
      "\\\\====================================    ====================================//\n",
      "\n",
      "//================================   Summary =================================\\\\\n",
      "||                                                                            ||\n",
      "||             Total fragments : 2500                                         ||\n",
      "||                      Mapped : 2477 (99,1%)                                 ||\n",
      "||             Uniquely mapped : 2170                                         ||\n",
      "||               Multi-mapping : 307                                          ||\n",
      "||                                                                            ||\n",
      "||                    Unmapped : 23                                           ||\n",
      "||                                                                            ||\n",
      "||             Properly paired : 1798                                         ||\n",
      "||         Not properly paired : 679                                          ||\n",
      "||                   Singleton : 198                                          ||\n",
      "||                    Chimeric : 371                                          ||\n",
      "||       Unexpected strandness : 10                                           ||\n",
      "||  Unexpected fragment length : 50                                           ||\n",
      "||       Unexpected read order : 50                                           ||\n",
      "||                                                                            ||\n",
      "||                      Indels : 110                                          ||\n",
      "||                                                                            ||\n",
      "||                Running time : 0,4 minutes                                  ||\n",
      "||                                                                            ||\n",
      "\\\\============================================================================//\n",
      "\n",
      "[1] \"D:/Michel_boissac/alignement_sur_r_test2/FASTQ/SRR935174_10000_1.fastq\"\n",
      "[1] \"D:/Michel_boissac/alignement_sur_r_test2/FASTQ/SRR935174_10000_2.fastq\"\n",
      "[1] \"D:/Michel_boissac/alignement_sur_r_test2/ALIGNEMENTS/SRR935174_10000.bam\"\n",
      "[1] \"D:/Michel_boissac/alignement_sur_r_test2/GENOME/genome_index\"\n",
      "\n",
      "        ==========     _____ _    _ ____  _____  ______          _____  \n",
      "        =====         / ____| |  | |  _ \\|  __ \\|  ____|   /\\   |  __ \\ \n",
      "          =====      | (___ | |  | | |_) | |__) | |__     /  \\  | |  | |\n",
      "            ====      \\___ \\| |  | |  _ <|  _  /|  __|   / /\\ \\ | |  | |\n",
      "              ====    ____) | |__| | |_) | | \\ \\| |____ / ____ \\| |__| |\n",
      "        ==========   |_____/ \\____/|____/|_|  \\_\\______/_/    \\_\\_____/\n",
      "       Rsubread 2.22.1\n",
      "\n",
      "//================================= setting ==================================\\\\\n",
      "||                                                                            ||\n",
      "|| Function      : Read alignment (RNA-Seq)                                   ||\n",
      "|| Input file 1  : SRR935174_10000_1.fastq                                    ||\n",
      "|| Input file 2  : SRR935174_10000_2.fastq                                    ||\n",
      "|| Output file   : SRR935174_10000.bam (BAM)                                  ||\n",
      "|| Index name    : genome_index                                               ||\n",
      "||                                                                            ||\n",
      "||                    ------------------------------------                    ||\n",
      "||                                                                            ||\n",
      "||                               Threads : 12                                 ||\n",
      "||                          Phred offset : 33                                 ||\n",
      "||               # of extracted subreads : 10                                 ||\n",
      "||                        Min read1 vote : 3                                  ||\n",
      "||                        Min read2 vote : 1                                  ||\n",
      "||                     Max fragment size : 600                                ||\n",
      "||                     Min fragment size : 50                                 ||\n",
      "||                        Max mismatches : 3                                  ||\n",
      "||                      Max indel length : 5                                  ||\n",
      "||            Report multi-mapping reads : yes                                ||\n",
      "|| Max alignments per multi-mapping read : 1                                  ||\n",
      "||                                                                            ||\n",
      "\\\\============================================================================//\n",
      "\n",
      "//================ Running (03-juil.-2025 12:26:54, pid=7716) ================\\\\\n",
      "||                                                                            ||\n",
      "|| Check the input reads.                                                     ||\n",
      "|| The input file contains base space reads.                                  ||\n",
      "|| Initialise the memory objects.                                             ||\n",
      "|| Estimate the mean read length.                                             ||\n",
      "|| The range of Phred scores observed in the data is [2,41]                   ||\n",
      "|| Create the output BAM file.                                                ||\n",
      "|| Check the index.                                                           ||\n",
      "|| Init the voting space.                                                     ||\n",
      "|| Global environment is initialised.                                         ||\n",
      "|| Load the 1-th index block...                                               ||\n",
      "|| The index block has been loaded.                                           ||\n",
      "|| Start read mapping in chunk.                                               ||\n",
      "||   Estimated fragment length : 209 bp                                       ||\n",
      "||                                                                            ||\n",
      "||                           Completed successfully.                          ||\n",
      "||                                                                            ||\n",
      "\\\\====================================    ====================================//\n",
      "\n",
      "//================================   Summary =================================\\\\\n",
      "||                                                                            ||\n",
      "||             Total fragments : 2500                                         ||\n",
      "||                      Mapped : 2481 (99,2%)                                 ||\n",
      "||             Uniquely mapped : 2284                                         ||\n",
      "||               Multi-mapping : 197                                          ||\n",
      "||                                                                            ||\n",
      "||                    Unmapped : 19                                           ||\n",
      "||                                                                            ||\n",
      "||             Properly paired : 1881                                         ||\n",
      "||         Not properly paired : 600                                          ||\n",
      "||                   Singleton : 186                                          ||\n",
      "||                    Chimeric : 264                                          ||\n",
      "||       Unexpected strandness : 13                                           ||\n",
      "||  Unexpected fragment length : 81                                           ||\n",
      "||       Unexpected read order : 56                                           ||\n",
      "||                                                                            ||\n",
      "||                      Indels : 190                                          ||\n",
      "||                                                                            ||\n",
      "||                Running time : 0,4 minutes                                  ||\n",
      "||                                                                            ||\n",
      "\\\\============================================================================//\n",
      "\n"
     ]
    }
   ],
   "source": [
    "# Alignement des reads.fastq\n",
    "# ----------------------------------------------------------------\n",
    "for(reads in liste_reads){\n",
    "\n",
    "    reads_R1 = paste0(FASTQ,reads,extension1)\n",
    "    reads_R2 = paste0(FASTQ,reads,extension2)\n",
    "    bam_file <- paste0(ALIGNEMENTS,reads, \".bam\")\n",
    "\n",
    "\n",
    "      # Vérification\n",
    "  if (!file.exists(reads_R1)) stop(paste(\"R1 file not found:\", reads_R1))\n",
    "  if (is_paired && !file.exists(reads_R2)) stop(paste(\"R2 file not found:\", reads_R2))\n",
    "\n",
    "    print(reads_R1)\n",
    "    print(reads_R2)\n",
    "    print(bam_file)\n",
    "    print(index_name)\n",
    "\n",
    "    # Alignement\n",
    "    if(is_paired) {\n",
    "      # Paired-end\n",
    "      align_result <- align(\n",
    "        index = index_name,\n",
    "        readfile1 = reads_R1,\n",
    "        readfile2 = reads_R2,\n",
    "        output_file = bam_file,\n",
    "        type = \"rna\",\n",
    "        nthreads = threads,\n",
    "        maxMismatches = 3,\n",
    "        phredOffset = 33\n",
    "      )\n",
    "    } else {\n",
    "      # Single-end\n",
    "      align_result <- align(\n",
    "        index = index_name,\n",
    "        readfile1 = reads_R1,\n",
    "        output_file = bam_file,\n",
    "        type = \"rna\", \n",
    "        nthreads = threads,\n",
    "        maxMismatches = 3,\n",
    "        phredOffset = 33\n",
    "      )\n",
    "    }\n",
    "}\n"
   ]
  },
  {
   "cell_type": "markdown",
   "id": "30e57b47-f39d-4e17-98f6-14b17d88c85f",
   "metadata": {},
   "source": [
    "### Création matrice d'alignement"
   ]
  },
  {
   "cell_type": "code",
   "execution_count": 17,
   "id": "f40c3941-2424-4211-88ab-aff10c7ce801",
   "metadata": {
    "collapsed": true,
    "jupyter": {
     "outputs_hidden": true,
     "source_hidden": true
    }
   },
   "outputs": [
    {
     "name": "stdout",
     "output_type": "stream",
     "text": [
      "\n",
      "        ==========     _____ _    _ ____  _____  ______          _____  \n",
      "        =====         / ____| |  | |  _ \\|  __ \\|  ____|   /\\   |  __ \\ \n",
      "          =====      | (___ | |  | | |_) | |__) | |__     /  \\  | |  | |\n",
      "            ====      \\___ \\| |  | |  _ <|  _  /|  __|   / /\\ \\ | |  | |\n",
      "              ====    ____) | |__| | |_) | | \\ \\| |____ / ____ \\| |__| |\n",
      "        ==========   |_____/ \\____/|____/|_|  \\_\\______/_/    \\_\\_____/\n",
      "       Rsubread 2.22.1\n",
      "\n",
      "//========================== featureCounts setting ===========================\\\\\n",
      "||                                                                            ||\n",
      "||             Input files : 3 BAM files                                      ||\n",
      "||                                                                            ||\n",
      "||                           SRR935172_10000.bam                              ||\n",
      "||                           SRR935173_10000.bam                              ||\n",
      "||                           SRR935174_10000.bam                              ||\n",
      "||                                                                            ||\n",
      "||              Paired-end : yes                                              ||\n",
      "||        Count read pairs : yes                                              ||\n",
      "||              Annotation : GCF_003254395.2_Amel_HAv3.1_genomic.gtf (GTF)    ||\n",
      "||      Dir for temp files : .                                                ||\n",
      "||                 Threads : 12                                               ||\n",
      "||                   Level : meta-feature level                               ||\n",
      "||      Multimapping reads : counted                                          ||\n",
      "|| Multi-overlapping reads : not counted                                      ||\n",
      "||   Min overlapping bases : 1                                                ||\n",
      "||                                                                            ||\n",
      "\\\\============================================================================//\n",
      "\n",
      "//================================= Running ==================================\\\\\n",
      "||                                                                            ||\n",
      "|| Load annotation file GCF_003254395.2_Amel_HAv3.1_genomic.gtf ...           ||\n",
      "||    Features : 267813                                                       ||\n",
      "||    Meta-features : 12356                                                   ||\n",
      "||    Chromosomes/contigs : 61                                                ||\n",
      "||                                                                            ||\n",
      "|| Process BAM file SRR935172_10000.bam...                                    ||\n",
      "||    Paired-end reads are included.                                          ||\n",
      "||    Total alignments : 2500                                                 ||\n",
      "||    Successfully assigned alignments : 1845 (73,8%)                         ||\n",
      "||    Running time : 0,00 minutes                                             ||\n",
      "||                                                                            ||\n",
      "|| Process BAM file SRR935173_10000.bam...                                    ||\n",
      "||    Paired-end reads are included.                                          ||\n",
      "||    Total alignments : 2500                                                 ||\n",
      "||    Successfully assigned alignments : 1820 (72,8%)                         ||\n",
      "||    Running time : 0,00 minutes                                             ||\n",
      "||                                                                            ||\n",
      "|| Process BAM file SRR935174_10000.bam...                                    ||\n",
      "||    Paired-end reads are included.                                          ||\n",
      "||    Total alignments : 2500                                                 ||\n",
      "||    Successfully assigned alignments : 1738 (69,5%)                         ||\n",
      "||    Running time : 0,00 minutes                                             ||\n",
      "||                                                                            ||\n",
      "|| Write the final count table.                                               ||\n",
      "|| Write the read assignment summary.                                         ||\n",
      "||                                                                            ||\n",
      "\\\\============================================================================//\n",
      "\n",
      "Comptage terminé!\n",
      "Nombre de gènes: 12356 \n",
      "Reads comptés: 5403 \n",
      "\n",
      "=== Sauvegarde des résultats ===\n",
      "'data.frame':\t12356 obs. of  9 variables:\n",
      " $ Gene_ID                   : chr  \"LOC551580\" \"LOC551555\" \"LOC726347\" \"Rfwd3\" ...\n",
      " $ Chr                       : chr  \"NC_037638.1;NC_037638.1;NC_037638.1;NC_037638.1;NC_037638.1;NC_037638.1;NC_037638.1;NC_037638.1;NC_037638.1;NC_\"| __truncated__ \"NC_037638.1;NC_037638.1;NC_037638.1;NC_037638.1;NC_037638.1;NC_037638.1;NC_037638.1;NC_037638.1;NC_037638.1;NC_\"| __truncated__ \"NC_037638.1;NC_037638.1;NC_037638.1;NC_037638.1;NC_037638.1;NC_037638.1;NC_037638.1;NC_037638.1;NC_037638.1;NC_\"| __truncated__ \"NC_037638.1;NC_037638.1;NC_037638.1;NC_037638.1;NC_037638.1;NC_037638.1\" ...\n",
      " $ Start                     : chr  \"9273;9274;9274;9779;9779;9779;10913;10913;10913;11054;11054;11054;11201;11579;11812\" \"10792;12282;12292;12292;12641;12641;12641;12641;13126;13126;13126;13126;13941;13941;13941;13941;15180;16567;165\"| __truncated__ \"17090;17763;17999;18266;18540;18718;18947;19237;19539;19857;20125;20313;20899;21143;21365;21665;21918;22270;22523;23064\" \"23613;24023;24470;24470;24656;24656\" ...\n",
      " $ End                       : chr  \"9546;9546;9546;9827;9827;9827;10994;10994;10994;11121;11121;11121;12174;12174;12174\" \"11068;12521;12525;12525;13012;13012;13012;13012;13632;13632;13632;13632;15095;16474;16474;16474;16474;16784;167\"| __truncated__ \"17651;17912;18181;18475;18641;18866;19178;19287;19787;20047;20160;20638;21075;21261;21547;21825;22192;22391;22906;23457\" \"23717;24212;24574;24574;26208;26190\" ...\n",
      " $ Strand                    : chr  \"-;-;-;-;-;-;-;-;-;-;-;-;-;-;-\" \"+;+;+;+;+;+;+;+;+;+;+;+;+;+;+;+;+;+;+;+;+;+;+;+;+\" \"-;-;-;-;-;-;-;-;-;-;-;-;-;-;-;-;-;-;-;-\" \"+;+;+;+;+;+\" ...\n",
      " $ Length                    : int  1447 4470 4256 1953 1180 2363 2330 1595 2765 1102 ...\n",
      " $ Counts.SRR935172_10000.bam: int  0 1 0 0 0 0 0 0 0 0 ...\n",
      " $ Counts.SRR935173_10000.bam: int  0 1 0 0 0 0 0 0 0 0 ...\n",
      " $ Counts.SRR935174_10000.bam: int  0 0 0 1 0 0 0 0 0 0 ...\n"
     ]
    },
    {
     "data": {
      "text/html": [
       "<table class=\"dataframe\">\n",
       "<caption>A data.frame: 6 × 9</caption>\n",
       "<thead>\n",
       "\t<tr><th></th><th scope=col>Gene_ID</th><th scope=col>Chr</th><th scope=col>Start</th><th scope=col>End</th><th scope=col>Strand</th><th scope=col>Length</th><th scope=col>Counts.SRR935172_10000.bam</th><th scope=col>Counts.SRR935173_10000.bam</th><th scope=col>Counts.SRR935174_10000.bam</th></tr>\n",
       "\t<tr><th></th><th scope=col>&lt;chr&gt;</th><th scope=col>&lt;chr&gt;</th><th scope=col>&lt;chr&gt;</th><th scope=col>&lt;chr&gt;</th><th scope=col>&lt;chr&gt;</th><th scope=col>&lt;int&gt;</th><th scope=col>&lt;int&gt;</th><th scope=col>&lt;int&gt;</th><th scope=col>&lt;int&gt;</th></tr>\n",
       "</thead>\n",
       "<tbody>\n",
       "\t<tr><th scope=row>LOC551580</th><td>LOC551580</td><td>NC_037638.1;NC_037638.1;NC_037638.1;NC_037638.1;NC_037638.1;NC_037638.1;NC_037638.1;NC_037638.1;NC_037638.1;NC_037638.1;NC_037638.1;NC_037638.1;NC_037638.1;NC_037638.1;NC_037638.1                                                                                                                                                                                                                                                </td><td>9273;9274;9274;9779;9779;9779;10913;10913;10913;11054;11054;11054;11201;11579;11812                                                                                                                              </td><td>9546;9546;9546;9827;9827;9827;10994;10994;10994;11121;11121;11121;12174;12174;12174                                                                                                                              </td><td>-;-;-;-;-;-;-;-;-;-;-;-;-;-;-                                        </td><td>1447</td><td>0</td><td>0</td><td>0</td></tr>\n",
       "\t<tr><th scope=row>LOC551555</th><td>LOC551555</td><td>NC_037638.1;NC_037638.1;NC_037638.1;NC_037638.1;NC_037638.1;NC_037638.1;NC_037638.1;NC_037638.1;NC_037638.1;NC_037638.1;NC_037638.1;NC_037638.1;NC_037638.1;NC_037638.1;NC_037638.1;NC_037638.1;NC_037638.1;NC_037638.1;NC_037638.1;NC_037638.1;NC_037638.1;NC_037638.1;NC_037638.1;NC_037638.1;NC_037638.1                                                                                                                        </td><td>10792;12282;12292;12292;12641;12641;12641;12641;13126;13126;13126;13126;13941;13941;13941;13941;15180;16567;16567;16567;16567;16863;16863;16863;16863                                                            </td><td>11068;12521;12525;12525;13012;13012;13012;13012;13632;13632;13632;13632;15095;16474;16474;16474;16474;16784;16784;16784;16784;17180;17180;17180;17179                                                            </td><td>+;+;+;+;+;+;+;+;+;+;+;+;+;+;+;+;+;+;+;+;+;+;+;+;+                    </td><td>4470</td><td>1</td><td>1</td><td>0</td></tr>\n",
       "\t<tr><th scope=row>LOC726347</th><td>LOC726347</td><td>NC_037638.1;NC_037638.1;NC_037638.1;NC_037638.1;NC_037638.1;NC_037638.1;NC_037638.1;NC_037638.1;NC_037638.1;NC_037638.1;NC_037638.1;NC_037638.1;NC_037638.1;NC_037638.1;NC_037638.1;NC_037638.1;NC_037638.1;NC_037638.1;NC_037638.1;NC_037638.1                                                                                                                                                                                    </td><td>17090;17763;17999;18266;18540;18718;18947;19237;19539;19857;20125;20313;20899;21143;21365;21665;21918;22270;22523;23064                                                                                          </td><td>17651;17912;18181;18475;18641;18866;19178;19287;19787;20047;20160;20638;21075;21261;21547;21825;22192;22391;22906;23457                                                                                          </td><td>-;-;-;-;-;-;-;-;-;-;-;-;-;-;-;-;-;-;-;-                              </td><td>4256</td><td>0</td><td>0</td><td>0</td></tr>\n",
       "\t<tr><th scope=row>Rfwd3</th><td>Rfwd3    </td><td>NC_037638.1;NC_037638.1;NC_037638.1;NC_037638.1;NC_037638.1;NC_037638.1                                                                                                                                                                                                                                                                                                                                                            </td><td>23613;24023;24470;24470;24656;24656                                                                                                                                                                              </td><td>23717;24212;24574;24574;26208;26190                                                                                                                                                                              </td><td>+;+;+;+;+;+                                                          </td><td>1953</td><td>0</td><td>0</td><td>1</td></tr>\n",
       "\t<tr><th scope=row>LOC726145</th><td>LOC726145</td><td>NC_037638.1;NC_037638.1;NC_037638.1;NC_037638.1;NC_037638.1;NC_037638.1;NC_037638.1;NC_037638.1;NC_037638.1;NC_037638.1                                                                                                                                                                                                                                                                                                            </td><td>28123;28147;28635;28635;28879;28879;29358;29358;29631;30614                                                                                                                                                      </td><td>28533;28533;28798;28798;28961;28961;29510;29510;29654;30958                                                                                                                                                      </td><td>-;-;-;-;-;-;-;-;-;-                                                  </td><td>1180</td><td>0</td><td>0</td><td>0</td></tr>\n",
       "\t<tr><th scope=row>LOC551448</th><td>LOC551448</td><td>NC_037638.1;NC_037638.1;NC_037638.1;NC_037638.1;NC_037638.1;NC_037638.1;NC_037638.1;NC_037638.1;NC_037638.1;NC_037638.1;NC_037638.1;NC_037638.1;NC_037638.1;NC_037638.1;NC_037638.1;NC_037638.1;NC_037638.1;NC_037638.1;NC_037638.1;NC_037638.1;NC_037638.1;NC_037638.1;NC_037638.1;NC_037638.1;NC_037638.1;NC_037638.1;NC_037638.1;NC_037638.1;NC_037638.1;NC_037638.1;NC_037638.1;NC_037638.1;NC_037638.1;NC_037638.1;NC_037638.1</td><td>29940;29941;29942;29974;30661;31581;31581;31581;31581;31581;32433;32433;32433;32433;32433;33705;33705;33705;35152;36288;36288;36288;36288;36288;36586;36586;36586;36586;36586;38219;38219;38219;38219;38219;38490</td><td>30149;30149;30149;30149;30770;31788;31788;31788;31788;31788;32616;32616;32616;32616;32616;33776;33776;33776;35175;36511;36511;36511;36511;36511;36919;36919;36919;36919;36919;38853;38853;38853;38853;38348;39215</td><td>+;+;+;+;+;+;+;+;+;+;+;+;+;+;+;+;+;+;+;+;+;+;+;+;+;+;+;+;+;+;+;+;+;+;+</td><td>2363</td><td>0</td><td>0</td><td>0</td></tr>\n",
       "</tbody>\n",
       "</table>\n"
      ],
      "text/latex": [
       "A data.frame: 6 × 9\n",
       "\\begin{tabular}{r|lllllllll}\n",
       "  & Gene\\_ID & Chr & Start & End & Strand & Length & Counts.SRR935172\\_10000.bam & Counts.SRR935173\\_10000.bam & Counts.SRR935174\\_10000.bam\\\\\n",
       "  & <chr> & <chr> & <chr> & <chr> & <chr> & <int> & <int> & <int> & <int>\\\\\n",
       "\\hline\n",
       "\tLOC551580 & LOC551580 & NC\\_037638.1;NC\\_037638.1;NC\\_037638.1;NC\\_037638.1;NC\\_037638.1;NC\\_037638.1;NC\\_037638.1;NC\\_037638.1;NC\\_037638.1;NC\\_037638.1;NC\\_037638.1;NC\\_037638.1;NC\\_037638.1;NC\\_037638.1;NC\\_037638.1                                                                                                                                                                                                                                                 & 9273;9274;9274;9779;9779;9779;10913;10913;10913;11054;11054;11054;11201;11579;11812                                                                                                                               & 9546;9546;9546;9827;9827;9827;10994;10994;10994;11121;11121;11121;12174;12174;12174                                                                                                                               & -;-;-;-;-;-;-;-;-;-;-;-;-;-;-                                         & 1447 & 0 & 0 & 0\\\\\n",
       "\tLOC551555 & LOC551555 & NC\\_037638.1;NC\\_037638.1;NC\\_037638.1;NC\\_037638.1;NC\\_037638.1;NC\\_037638.1;NC\\_037638.1;NC\\_037638.1;NC\\_037638.1;NC\\_037638.1;NC\\_037638.1;NC\\_037638.1;NC\\_037638.1;NC\\_037638.1;NC\\_037638.1;NC\\_037638.1;NC\\_037638.1;NC\\_037638.1;NC\\_037638.1;NC\\_037638.1;NC\\_037638.1;NC\\_037638.1;NC\\_037638.1;NC\\_037638.1;NC\\_037638.1                                                                                                                         & 10792;12282;12292;12292;12641;12641;12641;12641;13126;13126;13126;13126;13941;13941;13941;13941;15180;16567;16567;16567;16567;16863;16863;16863;16863                                                             & 11068;12521;12525;12525;13012;13012;13012;13012;13632;13632;13632;13632;15095;16474;16474;16474;16474;16784;16784;16784;16784;17180;17180;17180;17179                                                             & +;+;+;+;+;+;+;+;+;+;+;+;+;+;+;+;+;+;+;+;+;+;+;+;+                     & 4470 & 1 & 1 & 0\\\\\n",
       "\tLOC726347 & LOC726347 & NC\\_037638.1;NC\\_037638.1;NC\\_037638.1;NC\\_037638.1;NC\\_037638.1;NC\\_037638.1;NC\\_037638.1;NC\\_037638.1;NC\\_037638.1;NC\\_037638.1;NC\\_037638.1;NC\\_037638.1;NC\\_037638.1;NC\\_037638.1;NC\\_037638.1;NC\\_037638.1;NC\\_037638.1;NC\\_037638.1;NC\\_037638.1;NC\\_037638.1                                                                                                                                                                                     & 17090;17763;17999;18266;18540;18718;18947;19237;19539;19857;20125;20313;20899;21143;21365;21665;21918;22270;22523;23064                                                                                           & 17651;17912;18181;18475;18641;18866;19178;19287;19787;20047;20160;20638;21075;21261;21547;21825;22192;22391;22906;23457                                                                                           & -;-;-;-;-;-;-;-;-;-;-;-;-;-;-;-;-;-;-;-                               & 4256 & 0 & 0 & 0\\\\\n",
       "\tRfwd3 & Rfwd3     & NC\\_037638.1;NC\\_037638.1;NC\\_037638.1;NC\\_037638.1;NC\\_037638.1;NC\\_037638.1                                                                                                                                                                                                                                                                                                                                                             & 23613;24023;24470;24470;24656;24656                                                                                                                                                                               & 23717;24212;24574;24574;26208;26190                                                                                                                                                                               & +;+;+;+;+;+                                                           & 1953 & 0 & 0 & 1\\\\\n",
       "\tLOC726145 & LOC726145 & NC\\_037638.1;NC\\_037638.1;NC\\_037638.1;NC\\_037638.1;NC\\_037638.1;NC\\_037638.1;NC\\_037638.1;NC\\_037638.1;NC\\_037638.1;NC\\_037638.1                                                                                                                                                                                                                                                                                                             & 28123;28147;28635;28635;28879;28879;29358;29358;29631;30614                                                                                                                                                       & 28533;28533;28798;28798;28961;28961;29510;29510;29654;30958                                                                                                                                                       & -;-;-;-;-;-;-;-;-;-                                                   & 1180 & 0 & 0 & 0\\\\\n",
       "\tLOC551448 & LOC551448 & NC\\_037638.1;NC\\_037638.1;NC\\_037638.1;NC\\_037638.1;NC\\_037638.1;NC\\_037638.1;NC\\_037638.1;NC\\_037638.1;NC\\_037638.1;NC\\_037638.1;NC\\_037638.1;NC\\_037638.1;NC\\_037638.1;NC\\_037638.1;NC\\_037638.1;NC\\_037638.1;NC\\_037638.1;NC\\_037638.1;NC\\_037638.1;NC\\_037638.1;NC\\_037638.1;NC\\_037638.1;NC\\_037638.1;NC\\_037638.1;NC\\_037638.1;NC\\_037638.1;NC\\_037638.1;NC\\_037638.1;NC\\_037638.1;NC\\_037638.1;NC\\_037638.1;NC\\_037638.1;NC\\_037638.1;NC\\_037638.1;NC\\_037638.1 & 29940;29941;29942;29974;30661;31581;31581;31581;31581;31581;32433;32433;32433;32433;32433;33705;33705;33705;35152;36288;36288;36288;36288;36288;36586;36586;36586;36586;36586;38219;38219;38219;38219;38219;38490 & 30149;30149;30149;30149;30770;31788;31788;31788;31788;31788;32616;32616;32616;32616;32616;33776;33776;33776;35175;36511;36511;36511;36511;36511;36919;36919;36919;36919;36919;38853;38853;38853;38853;38348;39215 & +;+;+;+;+;+;+;+;+;+;+;+;+;+;+;+;+;+;+;+;+;+;+;+;+;+;+;+;+;+;+;+;+;+;+ & 2363 & 0 & 0 & 0\\\\\n",
       "\\end{tabular}\n"
      ],
      "text/markdown": [
       "\n",
       "A data.frame: 6 × 9\n",
       "\n",
       "| <!--/--> | Gene_ID &lt;chr&gt; | Chr &lt;chr&gt; | Start &lt;chr&gt; | End &lt;chr&gt; | Strand &lt;chr&gt; | Length &lt;int&gt; | Counts.SRR935172_10000.bam &lt;int&gt; | Counts.SRR935173_10000.bam &lt;int&gt; | Counts.SRR935174_10000.bam &lt;int&gt; |\n",
       "|---|---|---|---|---|---|---|---|---|---|\n",
       "| LOC551580 | LOC551580 | NC_037638.1;NC_037638.1;NC_037638.1;NC_037638.1;NC_037638.1;NC_037638.1;NC_037638.1;NC_037638.1;NC_037638.1;NC_037638.1;NC_037638.1;NC_037638.1;NC_037638.1;NC_037638.1;NC_037638.1                                                                                                                                                                                                                                                 | 9273;9274;9274;9779;9779;9779;10913;10913;10913;11054;11054;11054;11201;11579;11812                                                                                                                               | 9546;9546;9546;9827;9827;9827;10994;10994;10994;11121;11121;11121;12174;12174;12174                                                                                                                               | -;-;-;-;-;-;-;-;-;-;-;-;-;-;-                                         | 1447 | 0 | 0 | 0 |\n",
       "| LOC551555 | LOC551555 | NC_037638.1;NC_037638.1;NC_037638.1;NC_037638.1;NC_037638.1;NC_037638.1;NC_037638.1;NC_037638.1;NC_037638.1;NC_037638.1;NC_037638.1;NC_037638.1;NC_037638.1;NC_037638.1;NC_037638.1;NC_037638.1;NC_037638.1;NC_037638.1;NC_037638.1;NC_037638.1;NC_037638.1;NC_037638.1;NC_037638.1;NC_037638.1;NC_037638.1                                                                                                                         | 10792;12282;12292;12292;12641;12641;12641;12641;13126;13126;13126;13126;13941;13941;13941;13941;15180;16567;16567;16567;16567;16863;16863;16863;16863                                                             | 11068;12521;12525;12525;13012;13012;13012;13012;13632;13632;13632;13632;15095;16474;16474;16474;16474;16784;16784;16784;16784;17180;17180;17180;17179                                                             | +;+;+;+;+;+;+;+;+;+;+;+;+;+;+;+;+;+;+;+;+;+;+;+;+                     | 4470 | 1 | 1 | 0 |\n",
       "| LOC726347 | LOC726347 | NC_037638.1;NC_037638.1;NC_037638.1;NC_037638.1;NC_037638.1;NC_037638.1;NC_037638.1;NC_037638.1;NC_037638.1;NC_037638.1;NC_037638.1;NC_037638.1;NC_037638.1;NC_037638.1;NC_037638.1;NC_037638.1;NC_037638.1;NC_037638.1;NC_037638.1;NC_037638.1                                                                                                                                                                                     | 17090;17763;17999;18266;18540;18718;18947;19237;19539;19857;20125;20313;20899;21143;21365;21665;21918;22270;22523;23064                                                                                           | 17651;17912;18181;18475;18641;18866;19178;19287;19787;20047;20160;20638;21075;21261;21547;21825;22192;22391;22906;23457                                                                                           | -;-;-;-;-;-;-;-;-;-;-;-;-;-;-;-;-;-;-;-                               | 4256 | 0 | 0 | 0 |\n",
       "| Rfwd3 | Rfwd3     | NC_037638.1;NC_037638.1;NC_037638.1;NC_037638.1;NC_037638.1;NC_037638.1                                                                                                                                                                                                                                                                                                                                                             | 23613;24023;24470;24470;24656;24656                                                                                                                                                                               | 23717;24212;24574;24574;26208;26190                                                                                                                                                                               | +;+;+;+;+;+                                                           | 1953 | 0 | 0 | 1 |\n",
       "| LOC726145 | LOC726145 | NC_037638.1;NC_037638.1;NC_037638.1;NC_037638.1;NC_037638.1;NC_037638.1;NC_037638.1;NC_037638.1;NC_037638.1;NC_037638.1                                                                                                                                                                                                                                                                                                             | 28123;28147;28635;28635;28879;28879;29358;29358;29631;30614                                                                                                                                                       | 28533;28533;28798;28798;28961;28961;29510;29510;29654;30958                                                                                                                                                       | -;-;-;-;-;-;-;-;-;-                                                   | 1180 | 0 | 0 | 0 |\n",
       "| LOC551448 | LOC551448 | NC_037638.1;NC_037638.1;NC_037638.1;NC_037638.1;NC_037638.1;NC_037638.1;NC_037638.1;NC_037638.1;NC_037638.1;NC_037638.1;NC_037638.1;NC_037638.1;NC_037638.1;NC_037638.1;NC_037638.1;NC_037638.1;NC_037638.1;NC_037638.1;NC_037638.1;NC_037638.1;NC_037638.1;NC_037638.1;NC_037638.1;NC_037638.1;NC_037638.1;NC_037638.1;NC_037638.1;NC_037638.1;NC_037638.1;NC_037638.1;NC_037638.1;NC_037638.1;NC_037638.1;NC_037638.1;NC_037638.1 | 29940;29941;29942;29974;30661;31581;31581;31581;31581;31581;32433;32433;32433;32433;32433;33705;33705;33705;35152;36288;36288;36288;36288;36288;36586;36586;36586;36586;36586;38219;38219;38219;38219;38219;38490 | 30149;30149;30149;30149;30770;31788;31788;31788;31788;31788;32616;32616;32616;32616;32616;33776;33776;33776;35175;36511;36511;36511;36511;36511;36919;36919;36919;36919;36919;38853;38853;38853;38853;38348;39215 | +;+;+;+;+;+;+;+;+;+;+;+;+;+;+;+;+;+;+;+;+;+;+;+;+;+;+;+;+;+;+;+;+;+;+ | 2363 | 0 | 0 | 0 |\n",
       "\n"
      ],
      "text/plain": [
       "          Gene_ID  \n",
       "LOC551580 LOC551580\n",
       "LOC551555 LOC551555\n",
       "LOC726347 LOC726347\n",
       "Rfwd3     Rfwd3    \n",
       "LOC726145 LOC726145\n",
       "LOC551448 LOC551448\n",
       "          Chr                                                                                                                                                                                                                                                                                                                                                                                                                                \n",
       "LOC551580 NC_037638.1;NC_037638.1;NC_037638.1;NC_037638.1;NC_037638.1;NC_037638.1;NC_037638.1;NC_037638.1;NC_037638.1;NC_037638.1;NC_037638.1;NC_037638.1;NC_037638.1;NC_037638.1;NC_037638.1                                                                                                                                                                                                                                                \n",
       "LOC551555 NC_037638.1;NC_037638.1;NC_037638.1;NC_037638.1;NC_037638.1;NC_037638.1;NC_037638.1;NC_037638.1;NC_037638.1;NC_037638.1;NC_037638.1;NC_037638.1;NC_037638.1;NC_037638.1;NC_037638.1;NC_037638.1;NC_037638.1;NC_037638.1;NC_037638.1;NC_037638.1;NC_037638.1;NC_037638.1;NC_037638.1;NC_037638.1;NC_037638.1                                                                                                                        \n",
       "LOC726347 NC_037638.1;NC_037638.1;NC_037638.1;NC_037638.1;NC_037638.1;NC_037638.1;NC_037638.1;NC_037638.1;NC_037638.1;NC_037638.1;NC_037638.1;NC_037638.1;NC_037638.1;NC_037638.1;NC_037638.1;NC_037638.1;NC_037638.1;NC_037638.1;NC_037638.1;NC_037638.1                                                                                                                                                                                    \n",
       "Rfwd3     NC_037638.1;NC_037638.1;NC_037638.1;NC_037638.1;NC_037638.1;NC_037638.1                                                                                                                                                                                                                                                                                                                                                            \n",
       "LOC726145 NC_037638.1;NC_037638.1;NC_037638.1;NC_037638.1;NC_037638.1;NC_037638.1;NC_037638.1;NC_037638.1;NC_037638.1;NC_037638.1                                                                                                                                                                                                                                                                                                            \n",
       "LOC551448 NC_037638.1;NC_037638.1;NC_037638.1;NC_037638.1;NC_037638.1;NC_037638.1;NC_037638.1;NC_037638.1;NC_037638.1;NC_037638.1;NC_037638.1;NC_037638.1;NC_037638.1;NC_037638.1;NC_037638.1;NC_037638.1;NC_037638.1;NC_037638.1;NC_037638.1;NC_037638.1;NC_037638.1;NC_037638.1;NC_037638.1;NC_037638.1;NC_037638.1;NC_037638.1;NC_037638.1;NC_037638.1;NC_037638.1;NC_037638.1;NC_037638.1;NC_037638.1;NC_037638.1;NC_037638.1;NC_037638.1\n",
       "          Start                                                                                                                                                                                                            \n",
       "LOC551580 9273;9274;9274;9779;9779;9779;10913;10913;10913;11054;11054;11054;11201;11579;11812                                                                                                                              \n",
       "LOC551555 10792;12282;12292;12292;12641;12641;12641;12641;13126;13126;13126;13126;13941;13941;13941;13941;15180;16567;16567;16567;16567;16863;16863;16863;16863                                                            \n",
       "LOC726347 17090;17763;17999;18266;18540;18718;18947;19237;19539;19857;20125;20313;20899;21143;21365;21665;21918;22270;22523;23064                                                                                          \n",
       "Rfwd3     23613;24023;24470;24470;24656;24656                                                                                                                                                                              \n",
       "LOC726145 28123;28147;28635;28635;28879;28879;29358;29358;29631;30614                                                                                                                                                      \n",
       "LOC551448 29940;29941;29942;29974;30661;31581;31581;31581;31581;31581;32433;32433;32433;32433;32433;33705;33705;33705;35152;36288;36288;36288;36288;36288;36586;36586;36586;36586;36586;38219;38219;38219;38219;38219;38490\n",
       "          End                                                                                                                                                                                                              \n",
       "LOC551580 9546;9546;9546;9827;9827;9827;10994;10994;10994;11121;11121;11121;12174;12174;12174                                                                                                                              \n",
       "LOC551555 11068;12521;12525;12525;13012;13012;13012;13012;13632;13632;13632;13632;15095;16474;16474;16474;16474;16784;16784;16784;16784;17180;17180;17180;17179                                                            \n",
       "LOC726347 17651;17912;18181;18475;18641;18866;19178;19287;19787;20047;20160;20638;21075;21261;21547;21825;22192;22391;22906;23457                                                                                          \n",
       "Rfwd3     23717;24212;24574;24574;26208;26190                                                                                                                                                                              \n",
       "LOC726145 28533;28533;28798;28798;28961;28961;29510;29510;29654;30958                                                                                                                                                      \n",
       "LOC551448 30149;30149;30149;30149;30770;31788;31788;31788;31788;31788;32616;32616;32616;32616;32616;33776;33776;33776;35175;36511;36511;36511;36511;36511;36919;36919;36919;36919;36919;38853;38853;38853;38853;38348;39215\n",
       "          Strand                                                               \n",
       "LOC551580 -;-;-;-;-;-;-;-;-;-;-;-;-;-;-                                        \n",
       "LOC551555 +;+;+;+;+;+;+;+;+;+;+;+;+;+;+;+;+;+;+;+;+;+;+;+;+                    \n",
       "LOC726347 -;-;-;-;-;-;-;-;-;-;-;-;-;-;-;-;-;-;-;-                              \n",
       "Rfwd3     +;+;+;+;+;+                                                          \n",
       "LOC726145 -;-;-;-;-;-;-;-;-;-                                                  \n",
       "LOC551448 +;+;+;+;+;+;+;+;+;+;+;+;+;+;+;+;+;+;+;+;+;+;+;+;+;+;+;+;+;+;+;+;+;+;+\n",
       "          Length Counts.SRR935172_10000.bam Counts.SRR935173_10000.bam\n",
       "LOC551580 1447   0                          0                         \n",
       "LOC551555 4470   1                          1                         \n",
       "LOC726347 4256   0                          0                         \n",
       "Rfwd3     1953   0                          0                         \n",
       "LOC726145 1180   0                          0                         \n",
       "LOC551448 2363   0                          0                         \n",
       "          Counts.SRR935174_10000.bam\n",
       "LOC551580 0                         \n",
       "LOC551555 0                         \n",
       "LOC726347 0                         \n",
       "Rfwd3     1                         \n",
       "LOC726145 0                         \n",
       "LOC551448 0                         "
      ]
     },
     "metadata": {},
     "output_type": "display_data"
    },
    {
     "name": "stdout",
     "output_type": "stream",
     "text": [
      "[1] \"D:/Michel_boissac/alignement_sur_r_test2/FICHIERS_TXT/counts.txt\"\n"
     ]
    }
   ],
   "source": [
    "# Creation matrice d'alignement (tableau counts)\n",
    "\n",
    "# Comptage avec featureCounts\n",
    "counts_result <- featureCounts(\n",
    "  files = paste0(ALIGNEMENTS,liste_reads, \".bam\"),\n",
    "  annot.ext = annotation_gtf,\n",
    "  isGTFAnnotationFile = TRUE,\n",
    "  GTF.featureType = \"exon\",\n",
    "  GTF.attrType = \"gene_id\",\n",
    "  useMetaFeatures = TRUE,\n",
    "  allowMultiOverlap = FALSE,\n",
    "  minOverlap = 1,\n",
    "  nthreads = threads,\n",
    "  isPairedEnd = is_paired\n",
    ")\n",
    "\n",
    "# Extraction du tableau de comptage\n",
    "count_matrix <- counts_result$counts\n",
    "gene_info <- counts_result$annotation\n",
    "\n",
    "cat(\"Comptage terminé!\\n\")\n",
    "cat(\"Nombre de gènes:\", nrow(count_matrix), \"\\n\")\n",
    "cat(\"Reads comptés:\", sum(count_matrix), \"\\n\\n\")\n",
    "\n",
    "# SAUVEGARDE RESULTATS COUNTS\n",
    "cat(\"=== Sauvegarde des résultats ===\\n\")\n",
    "\n",
    "# Création du tableau final avec informations des gènes\n",
    "final_table <- data.frame(\n",
    "  Gene_ID = rownames(count_matrix),\n",
    "  Chr = gene_info$Chr,\n",
    "  Start = gene_info$Start,\n",
    "  End = gene_info$End,\n",
    "  Strand = gene_info$Strand,\n",
    "  Length = gene_info$Length,\n",
    "  Counts = count_matrix\n",
    ")\n",
    "\n",
    "str(final_table)\n",
    "head(final_table)\n",
    "\n",
    "# Sauvegarde fichiers\n",
    "counts_file <- paste0(repertoire_fichiers_txt,nom_tableau_counts)\n",
    "\n",
    "print(counts_file)\n",
    "# Tableau de comptage\n",
    "write.table(final_table, file = counts_file, \n",
    "           sep = \"\\t\", quote = FALSE, row.names = FALSE)\n",
    "\n"
   ]
  },
  {
   "cell_type": "markdown",
   "id": "c6c29473-1a7f-4d20-9d19-69a75bb8530d",
   "metadata": {},
   "source": [
    "# chargement fonctions partie 2)"
   ]
  },
  {
   "cell_type": "code",
   "execution_count": 6,
   "id": "b7144607-8d86-4517-822d-45633a47b098",
   "metadata": {
    "jupyter": {
     "source_hidden": true
    }
   },
   "outputs": [],
   "source": [
    "#FONCTIONS PREPARATION TABLEAU COUNTS\n",
    "\n",
    "function_recupere_tab_counts_txt = function(tableau_counts){\n",
    "  tableau_counts_chemin=paste0(repertoire_fichiers_txt,\"/\",tableau_counts,\".txt\")\n",
    "  counts <- read.table(tableau_counts_chemin, header=TRUE, row.names=1, sep=\"\\t\", comment.char=\"#\")\n",
    "}\n",
    "\n",
    "function_change_NOMS_ALIGNEMENTS = function(counts,tableau_counts){\n",
    "  noms_alignements=paste0(repertoire_fichiers_txt,\"/\",tableau_counts,\"_names.txt\")\n",
    "  # Vérifier que le répertoire existe\n",
    "  if (file.exists(noms_alignements)) {\n",
    "    illumina_nom <- read.table(noms_alignements, header = FALSE, sep = \"\\t\", comment.char = \"#\")\n",
    "    for (echantillon in colnames(counts)) {\n",
    "      if (echantillon %in% illumina_nom[,1]) {\n",
    "        nom_a_remplacer <- illumina_nom[illumina_nom[,1] == echantillon, 2]\n",
    "        print(paste(\"Remplacement :\", echantillon, \"->\", nom_a_remplacer))\n",
    "        colnames(counts)[colnames(counts) == echantillon] <- nom_a_remplacer\n",
    "      } else {\n",
    "        print(paste(\"Pas de correspondance pour :\", echantillon))\n",
    "      }\n",
    "    }\n",
    "    # action(s) à effectuer si le répertoire existe\n",
    "  } else {\n",
    "    message(\"Le répertoire n'existe pas : \", noms_alignements)\n",
    "    # éventuellement arrêter ou proposer une alternative\n",
    "  }\n",
    "  \n",
    "  \n",
    "  return(counts)\n",
    "}\n",
    "\n",
    "function_selection_gene_dans_counts = function(liste_de_gene_a_selectionner,counts){\n",
    "  true_false_channels_recep <- rownames(counts) %in% liste_de_gene_a_selectionner\n",
    "  counts <- counts[true_false_channels_recep, , drop = FALSE]\n",
    "  return(counts)\n",
    "}\n",
    "\n",
    "function_CONVERSION_NOM_DES_GENES = function(df_nom_actuel_conversion,counts){\n",
    "  noms_genes_actuel=df_nom_actuel_conversion[[1]]\n",
    "  noms_genes_conversion=df_nom_actuel_conversion[[2]]\n",
    "  mapping <- setNames(noms_genes_conversion, noms_genes_actuel)\n",
    "  current_names <- rownames(counts)\n",
    "  new_names <- ifelse(current_names %in% names(mapping),\n",
    "                      mapping[current_names],\n",
    "                      current_names)\n",
    "  new_names <- make.unique(new_names)\n",
    "  rownames(counts) <- new_names\n",
    "  return(counts)\n",
    "}\n",
    "\n",
    "function_selection_gene_dans_counts_AND_CONVERSION_NOM_DES_GENES = function(noms_genes=\"\",counts){\n",
    "  if(noms_genes != \"\"){\n",
    "    chemin_tab_noms_genes = paste0(repertoire_fichiers_txt,\"/\",noms_genes,\".txt\")                            #repertoire_fichiers_txt\n",
    "    \n",
    "    df_genes_names = read.table(chemin_tab_noms_genes, header=FALSE,  sep=\"\\t\", comment.char=\"#\")\n",
    "    counts = function_selection_gene_dans_counts(df_genes_names[[1]],counts)\n",
    "    counts = function_CONVERSION_NOM_DES_GENES(df_genes_names,counts)\n",
    "    \n",
    "  }\n",
    "  return(counts)\n",
    "}\n",
    "\n",
    "function_supprimer_x_premieres_colonnes <- function(counts, x) {\n",
    "  for (i in 1:x) {\n",
    "    counts <- counts[, -1, drop = FALSE]\n",
    "  }\n",
    "  return(counts)\n",
    "}\n",
    "\n",
    "function_collage_tableau = function(counts1,counts2,counts12_name){\n",
    "  # Vérifie si les rownames sont identiques et dans le même ordre\n",
    "  if (identical(rownames(counts1), rownames(counts2))) {\n",
    "    counts12=cbind(counts1,counts2)\n",
    "  } else {\n",
    "    stop(\"Les noms de lignes ne correspondent pas ou ne sont pas dans le même ordre.\")\n",
    "  }\n",
    "  write.table(counts12,counts12_name,row.names=TRUE,col.names = TRUE, quote = FALSE, sep = \"\\t\")\n",
    "}\n",
    "\n",
    "\n",
    "function_conditions_a_garder_dans_counts = function(counts,liste_conditions_a_garder_etoile){\n",
    "  if(!is.null(liste_conditions_a_garder_etoile)){\n",
    "    liste_conditions_a_garder_etoile=paste0(\"^\",liste_conditions_a_garder_etoile)     #enlever le ^si on veut grep n'importe ou et pas que au debut\n",
    "    liste_conditions_a_garder_entiere=c()\n",
    "    for(condition in liste_conditions_a_garder_etoile){\n",
    "      liste_conditions_a_garder_entiere=c(liste_conditions_a_garder_entiere,grep(condition, colnames(counts)))\n",
    "    }  \n",
    "    counts <- counts[, liste_conditions_a_garder_entiere]\n",
    "  }\n",
    "  return(counts)\n",
    "}\n"
   ]
  },
  {
   "cell_type": "code",
   "execution_count": 8,
   "id": "9159ac51-b9f2-42b7-9d23-c3a929430b1a",
   "metadata": {
    "jupyter": {
     "source_hidden": true
    }
   },
   "outputs": [],
   "source": [
    "#FONCTIONS HEATMAP, PHEATMAP\n",
    "function_pheatmap <- function(counts,plot_titre = \"pheatmap\", filename = \"pheatmap.png\", width = 1200, height = 1000, res = 150) {\n",
    "\n",
    "  \n",
    "  # Transposition et nettoyage\n",
    "  counts <- t(counts)\n",
    "  counts <- counts[rowSums(is.na(counts)) < ncol(counts), ]\n",
    "  counts <- as.matrix(counts)\n",
    "  counts[is.na(counts)] <- 0\n",
    "  #counts <- counts[, colSums(counts) != 0]\n",
    "   \n",
    "  # Créer la matrice de labels\n",
    "  number_matrix <- matrix(sprintf(\"%.1f\", counts), \n",
    "                          nrow = nrow(counts), ncol = ncol(counts))\n",
    "  \n",
    "  # Mettre les \"0.0\" en texte blanc\n",
    "  number_color <- matrix(\"black\", nrow = nrow(counts), ncol = ncol(counts))\n",
    "  number_color[counts == 0] <- \"white\"\n",
    "  print(filename)\n",
    "\n",
    "\n",
    "     # Génère le plot silencieusement\n",
    "  ph <- pheatmap(counts,\n",
    "                 main = plot_titre,\n",
    "                 cluster_rows = FALSE,\n",
    "                 cluster_cols = FALSE,\n",
    "                 display_numbers = number_matrix,\n",
    "                 number_color = number_color,\n",
    "                 fontsize_number = 10,\n",
    "                 col = colorRampPalette(c(\"white\", \"yellow\", \"red\"))(100),\n",
    "                 silent = TRUE)\n",
    "\n",
    "  # Enregistre en PNG\n",
    "  png(filename, width = width, height = height, res = res)\n",
    "  grid::grid.draw(ph$gtable)  # Dessine le heatmap capturé\n",
    "  dev.off()\n",
    "\n",
    "  # Affiche dans le notebook\n",
    "  display_png(file = filename)\n",
    "    \n",
    "    \n",
    "}\n",
    "#HEATMAP\n",
    "function_heatmap = function(counts,plot_titre = \"heatmap\", filename = \"heatmap.png\", width = 1200, height = 1000, res = 150){\n",
    "  #HEATMPAP:\n",
    "  counts <- t(counts)\n",
    "  counts <- counts[rowSums(is.na(counts)) < ncol(counts), ]\n",
    "  counts=as.matrix(counts)\n",
    "  counts[is.na(counts)] <- 0\n",
    "  #counts <- counts[, colSums(counts) != 0]\n",
    "  counts <- counts[order(rownames(counts), decreasing = TRUE), order(colnames(counts))]\n",
    "\n",
    "\n",
    "  png(filename, width = width, height = height, res = res)\n",
    "\n",
    "  heatmap(counts,Rowv = NA, Colv = NA, margins = c(5, 5),scale = \"none\",keep.dendro = FALSE,main = plot_titre,\n",
    "  col = colorRampPalette(c(\"white\", \"yellow\", \"red\"))(100))\n",
    "\n",
    "    \n",
    "  dev.off()\n",
    "\n",
    "\n",
    "  display_png(file = filename)\n",
    "\n",
    "}\n"
   ]
  },
  {
   "cell_type": "code",
   "execution_count": 7,
   "id": "dea71fad-d178-438e-a724-6017d745c57c",
   "metadata": {
    "jupyter": {
     "source_hidden": true
    }
   },
   "outputs": [],
   "source": [
    "#FONCTIONS NORMALISATIONS\n",
    "#######################################################################\n",
    "recupere_longueurs_genes = function(counts){\n",
    "  longueurs_genes=counts$Length #recupere les longueurs des genes pour la noramlisation\n",
    "  return(longueurs_genes)\n",
    "}\n",
    "function_normalise_longueur_gene = function(counts,longueurs_genes){\n",
    "  \n",
    "  counts=counts/longueurs_genes\n",
    "  return(counts)\n",
    "}\n",
    "function_normalise_log_plus_1 = function(counts){\n",
    "  counts=log(counts+1)\n",
    "  return(counts)\n",
    "}\n",
    "function_normalise_Reads_Per_Million = function(counts){\n",
    "  for (col in colnames(counts)) {\n",
    "    sample = counts[[col]]\n",
    "    nbr_reads_total_samples = sum(sample)\n",
    "    facteur_mise_a_echelle_per_million= nbr_reads_total_samples/1000000\n",
    "    RPM = sample/facteur_mise_a_echelle_per_million #reads per million\n",
    "    counts[[col]]=RPM\n",
    "    \n",
    "  }  \n",
    "  return(counts)\n",
    "}\n",
    "#######################################################################\n",
    "function_normalise_log_TPM = function(counts,tableau_counts,longueurs_genes){\n",
    "  counts = function_normalise_longueur_gene(counts,longueurs_genes)\n",
    "  counts = function_normalise_Reads_Per_Million(counts)\n",
    "  counts = function_normalise_log_plus_1(counts)\n",
    "  return(counts)\n",
    "}\n",
    "\n",
    "function_normalise_log_RPKM = function(counts,tableau_counts,longueurs_genes){\n",
    "  counts = function_normalise_Reads_Per_Million(counts)\n",
    "  counts = function_normalise_longueur_gene(counts,longueurs_genes)\n",
    "  counts = function_normalise_log_plus_1(counts)\n",
    "  return(counts)\n",
    "}\n",
    "\n",
    "function_normalisation_VST = function(counts,tableau_counts,filename = \"plotDispEsts.png\", width = 1200, height = 1000, res = 150){\n",
    "  #Utilise une version plus rapide, mais nécessite suffisamment de gènes exprimés (sinon erreur)\n",
    "  colnames(counts)=make.unique(colnames(counts),sep = \".\") \n",
    "  metadata <- data.frame(\n",
    "    row.names = colnames(counts),\n",
    "    condition = colnames(counts) \n",
    "  )\n",
    "  \n",
    "  dds <- DESeqDataSetFromMatrix(countData = counts, colData = metadata, design = ~ 1)\n",
    "  vst_data_condition <- vst(dds, blind = TRUE) #laisser sur TRUE, calcul la VST en ne prenant pas compte des conditions. sinon normalise difference ?\n",
    "  vst_matrix_condition <- assay(vst_data_condition)\n",
    "  #dispersion\n",
    "  dds <- estimateSizeFactors(dds)\n",
    "  dds <- estimateDispersions(dds)\n",
    "  \n",
    "  png(filename, width = width, height = height, res = res)\n",
    "  plotDispEsts(dds)\n",
    "  dev.off()\n",
    "  \n",
    "  return(vst_matrix_condition)\n",
    "}\n",
    "function_normalisation_VST_conditions = function(counts,tableau_counts,filename = \"plotDispEsts.png\", width = 1200, height = 1000, res = 150){\n",
    "  #Utilise une version plus rapide que function_normalisation_VST_peu_de_genes , mais nécessite suffisamment de gènes exprimés (sinon erreur)\n",
    "  print(colnames(counts))\n",
    "  metadata <- data.frame(\n",
    "    row.names = colnames(counts),\n",
    "    condition = sapply(strsplit(colnames(counts), split = \"\\\\.\"), `[`, 1)    # passe de \"dt_fo.trucaenelever\"  à \"dt_fo\"\n",
    "  )\n",
    "  print(metadata)\n",
    "  \n",
    "  colnames(counts)= make.unique(colnames(counts),sep = \".\")\n",
    "  print(colnames(counts))\n",
    "  dds <- DESeqDataSetFromMatrix(countData = counts, colData = metadata, design = ~condition)\n",
    "  vst_data_condition <- vst(dds, blind = FALSE) #laisser sur TRUE, calcul la VST en ne prenant pas compte des conditions. sinon normalise difference ?\n",
    "  vst_matrix_condition <- assay(vst_data_condition)\n",
    "  #dispersion\n",
    "  dds <- estimateSizeFactors(dds)\n",
    "  dds <- estimateDispersions(dds)\n",
    "  \n",
    "  png(filename, width = width, height = height, res = res)\n",
    "  plotDispEsts(dds)\n",
    "  dev.off()\n",
    "  \n",
    "  return(vst_matrix_condition)\n",
    "}\n",
    "function_normalisation_VST_peu_de_genes<- function(counts,tableau_counts,filename = \"plotDispEsts.png\", width = 1200, height = 1000, res = 150){\n",
    "  \n",
    "  #Plus robuste, fonctionne même avec peu de gènes exprimés ou des données peu denses\n",
    "  colnames(counts)=make.unique(colnames(counts),sep = \".\") \n",
    "  metadata <- data.frame(\n",
    "    row.names = colnames(counts),\n",
    "    condition = colnames(counts) \n",
    "  )\n",
    "  \n",
    "  dds <- DESeqDataSetFromMatrix(countData = counts, colData = metadata, design = ~ 1)\n",
    "  \n",
    "  # Utilisation de varianceStabilizingTransformation à la place de vst()\n",
    "  vst_data_condition <- varianceStabilizingTransformation(dds, blind = TRUE)\n",
    "  vst_matrix_condition <- assay(vst_data_condition)\n",
    "  \n",
    "  # Affichage de la dispersion\n",
    "  dds <- estimateSizeFactors(dds)\n",
    "  dds <- estimateDispersions(dds)\n",
    "  \n",
    "  png(filename, width = width, height = height, res = res)\n",
    "  plotDispEsts(dds)\n",
    "  dev.off()\n",
    "  \n",
    "  return(vst_matrix_condition)\n",
    "}\n",
    "\n",
    "function_normalisation_rlog = function(counts,tableau_counts,filename = \"plotDispEsts.png\", width = 1200, height = 1000, res = 150){\n",
    "  colnames(counts)=make.unique(colnames(counts),sep = \".\") \n",
    "  metadata <- data.frame(\n",
    "    row.names = colnames(counts),\n",
    "    condition =  colnames(counts) \n",
    "  )\n",
    "  dds <- DESeqDataSetFromMatrix(countData = counts, colData = metadata,design = ~ 1)\n",
    "  rlog_data <- rlog(dds, blind = TRUE)\n",
    "  rlog_matrix <- assay(rlog_data)\n",
    "  #dispersion\n",
    "  dds <- estimateSizeFactors(dds)\n",
    "  dds <- estimateDispersions(dds)\n",
    "  plotDispEsts(dds)\n",
    "  \n",
    "  return(rlog_matrix)\n",
    "}\n",
    "\n",
    "function_conversion_expression_binaire = function(counts){\n",
    "  counts[counts > 0] = 1\n",
    "  return(counts)\n",
    "}\n",
    "\n",
    "#######################################################################\n",
    "NORMALISATION = function(counts, tableau_counts, normalisation = c(\"pas_de_normalisation\",\"vst\",\"vst_conditions\", \"vst_peu_de_genes\",\"log_rpkm\", \"log_tpm\", \"rlog\",\"binaire\"),filename,liste_conditions_a_garder_etoile=NULL,longueurs_genes){\n",
    "  normalisation <- match.arg(normalisation)\n",
    "  if(normalisation==\"pas_de_normalisation\"){print(\"pas_de_normalisation\")}\n",
    "  if(normalisation==\"log_rpkm\"){counts = function_normalise_log_RPKM(counts,tableau_counts,longueurs_genes)}\n",
    "  if(normalisation==\"log_tpm\"){counts = function_normalise_log_TPM(counts,tableau_counts,longueurs_genes)}\n",
    "  if(normalisation==\"rlog\"){counts = function_normalisation_rlog(counts,tableau_counts)}\n",
    "  if(normalisation==\"vst\"){counts = function_normalisation_VST(counts,tableau_counts,filename)}\n",
    "  if(normalisation==\"vst_peu_de_genes\"){counts = function_normalisation_VST_peu_de_genes(counts,tableau_counts,filename)}\n",
    "  if(normalisation==\"vst_conditions\"){counts = function_normalisation_VST_conditions(counts,tableau_counts,filename)}\n",
    "  if(normalisation==\"binaire\"){counts = function_conversion_expression_binaire(counts)}\n",
    "  \n",
    "  return(counts)\n",
    "}\n",
    "#######################################################################\n",
    "\n",
    "\n",
    "\n",
    "\n"
   ]
  },
  {
   "cell_type": "code",
   "execution_count": 9,
   "id": "f65e2b98-7ba4-445b-a10f-947c6ae058f9",
   "metadata": {
    "jupyter": {
     "source_hidden": true
    }
   },
   "outputs": [],
   "source": [
    "#FONCTIONS BARPLOT ETC ..\n",
    "function_barplot_nbr_genes_expr = function(counts, filename){\n",
    "  noms_colonnes = colnames(counts)\n",
    "  noms_genes = rownames(counts)\n",
    "  liste_nbr_genes_exprimes=c()\n",
    "  for(colonne in noms_colonnes){\n",
    "    col = counts[,colonne]\n",
    "    #\n",
    "    nbr_genes_exprimes = sum(col != 0)  #nbr genes avec + de 1 reads\n",
    "    names(nbr_genes_exprimes)=colonne\n",
    "    liste_nbr_genes_exprimes = c(liste_nbr_genes_exprimes,nbr_genes_exprimes)\n",
    "  }\n",
    "  png(paste0(filename,\".png\"), width = 800, height = 600) \n",
    "  barplot(liste_nbr_genes_exprimes,main =\"Nombre de genes exprimés\",las = 2 )\n",
    "  dev.off()  # ferme le fichier\n",
    "\n",
    "  display_png(file = paste0(filename,\".png\"))\n",
    "\n",
    "}\n",
    "\n",
    "function_barplot_nbr_reads_moyen_par_gene_exprime = function(counts, filename){\n",
    "  noms_colonnes = colnames(counts)\n",
    "  noms_genes = rownames(counts)\n",
    "  liste_nbr_reads_moyen_par_gene_exprime=c()\n",
    "  liste_nbr_genes_exprimes=c()\n",
    "  \n",
    "  for(colonne in noms_colonnes){\n",
    "    col = counts[,colonne]\n",
    "    nbr_reads_total = sum(col)\n",
    "    nbr_genes = length(col)\n",
    "    nbr_reads_moyen_par_gene_all_genome = nbr_reads_total/nbr_genes\n",
    "    \n",
    "    #\n",
    "    nbr_genes_exprimes = sum(col != 0)  #nbr genes avec + de 1 reads\n",
    "    names(nbr_genes_exprimes)=colonne\n",
    "    liste_nbr_genes_exprimes = c(liste_nbr_genes_exprimes,nbr_genes_exprimes)\n",
    "    \n",
    "    #\n",
    "    nbr_reads_moyen_par_gene_exprime = nbr_reads_total/nbr_genes_exprimes\n",
    "    names(nbr_reads_moyen_par_gene_exprime)=colonne\n",
    "    liste_nbr_reads_moyen_par_gene_exprime = c(liste_nbr_reads_moyen_par_gene_exprime,nbr_reads_moyen_par_gene_exprime)\n",
    "    \n",
    "  }\n",
    "  png(paste0(filename,\".png\"), width = 800, height = 600) \n",
    "  barplot(liste_nbr_reads_moyen_par_gene_exprime,main = \"Nombre de reads moyens /genes exprimés\",las = 2)\n",
    "  dev.off()  # ferme le fichier\n",
    "    \n",
    "  display_png(file = paste0(filename,\".png\"))\n",
    "\n",
    "}\n",
    "\n",
    "function_barplot_genome_expression = function(counts, filename){\n",
    "  noms_colonnes = colnames(counts)\n",
    "  for(colonne in noms_colonnes){\n",
    "    col = counts[,colonne]\n",
    "    #\n",
    "    png(paste0(filename,colonne,\".png\"), width = 800, height = 600)  # tu peux ajuster la taille\n",
    "    barplot(col,main = colonne,las = 2)   #permet de garder l'ordre des genes et de voir des profils\n",
    "    dev.off()  # ferme le fichier\n",
    "\n",
    "    display_png(file = paste0(filename,colonne,\".png\"))\n",
    "\n",
    "  }\n",
    "}\n",
    "\n",
    "function_boxplot_nbr_reads = function(counts,plot_titre,filename){\n",
    "  \n",
    "  png(filename, width = 800, height = 600)\n",
    "  \n",
    "  # Fonction pour calculer le N50 d'un vecteur numérique\n",
    "  calc_N50 <- function(x) {\n",
    "    x <- sort(x, decreasing = TRUE)\n",
    "    cumsum_x <- cumsum(x)\n",
    "    total <- sum(x)\n",
    "    N50_val <- x[min(which(cumsum_x >= total / 2))]\n",
    "    return(N50_val)\n",
    "  }\n",
    "  \n",
    "  # Créons une figure avec boxplot et annotations\n",
    "  boxplot(counts, \n",
    "          main = plot_titre,\n",
    "          xlab = \"Colonnes\", ylab = \"Valeurs\",\n",
    "          las = 2, col = \"lightblue\", border = \"darkblue\",\n",
    "          outline = FALSE)  # Optionnel pour cacher les outliers\n",
    "  \n",
    "  # Ajout des statistiques pour chaque colonne\n",
    "  for (i in seq_along(counts)) {\n",
    "    col_data <- counts[[i]]\n",
    "    \n",
    "    # Calculs\n",
    "    moy <- mean(col_data, na.rm = TRUE)\n",
    "    med <- median(col_data, na.rm = TRUE)\n",
    "    n50 <- calc_N50(col_data)\n",
    "    quartiles <- quantile(col_data, probs = c(0.25, 0.75), na.rm = TRUE)\n",
    "    \n",
    "    # Position verticale pour texte\n",
    "    ymax <- max(col_data, na.rm = TRUE)\n",
    "    \n",
    "    # Ajouter la moyenne (en rouge, triangle)\n",
    "    points(i, moy, col = \"red\", pch = 17, cex = 1.5)\n",
    "    \n",
    "    # Ajouter la médiane (en bleu, cercle)\n",
    "    points(i, med, col = \"blue\", pch = 19, cex = 1.5)\n",
    "    \n",
    "    # Ajouter le N50 (en vert, carré)\n",
    "    points(i, n50, col = \"darkgreen\", pch = 15, cex = 1.5)\n",
    "    \n",
    "    # Ajouter les quartiles (en violet, croix)\n",
    "    points(rep(i, 2), quartiles, col = \"purple\", pch = 4, cex = 1.5)\n",
    "    \n",
    "    # Ajouter texte descriptif au-dessus\n",
    "    text(i, ymax, \n",
    "         labels = paste0(\"M:\", round(moy, 1), \n",
    "                         \"\\nMd:\", round(med, 1), \n",
    "                         \"\\nN50:\", round(n50, 1)), \n",
    "         pos = 3, cex = 0.7)\n",
    "  }\n",
    "  \n",
    "  # Légende\n",
    "  legend(\"topright\", legend = c(\"Moyenne\", \"Médiane\", \"N50\", \"Quartiles\"),\n",
    "         col = c(\"red\", \"blue\", \"darkgreen\", \"purple\"),\n",
    "         pch = c(17, 19, 15, 4), cex = 0.8)\n",
    "  \n",
    "  dev.off()\n",
    "    \n",
    "  display_png(file = filename)\n",
    "  \n",
    "}\n",
    "\n",
    "\n"
   ]
  },
  {
   "cell_type": "code",
   "execution_count": 10,
   "id": "b26fc63b-439b-478e-8c60-25d90e377754",
   "metadata": {
    "jupyter": {
     "source_hidden": true
    }
   },
   "outputs": [],
   "source": [
    "#FONCTIONS CLUSTERING HIERARCHIQUE\n",
    "\n",
    "function_cluster_hierarchique = function(counts,filename){\n",
    "  counts <- t(counts)  # maintenant [40 samples x 12000 gènes]\n",
    "  d <- dist(counts, method = \"euclidean\")\n",
    "  hc <- hclust(d, method = \"ward.D2\")  # méthode ward.D2 souvent bonne pour clustering transcriptomique\n",
    "  \n",
    "  png(paste0(filename,\".png\"), width = 800, height = 600)  # tu peux ajuster la taille\n",
    "  plot(hc, main = \"Hierarchical Clustering des échantillons\", xlab = \"\", sub = \"\", cex = 0.9)\n",
    "  dev.off() \n",
    "\n",
    "  display_png(file = paste0(filename,\".png\"))\n",
    "\n",
    "}\n",
    "\n",
    "\n",
    "function_cluster_hierarchique_bootsrap = function(counts, filename){\n",
    "  #DENDROGRAMME AVEC BOOTSTRAP POUR VERIFIER QUALTIE DATA ?\n",
    "\n",
    "  result <- pvclust(counts, method.hclust = \"ward.D2\", method.dist = \"euclidean\", nboot = 100)\n",
    "  png(paste0(filename,\".png\"), width = 800, height = 600)\n",
    "  \n",
    "  plot(result)\n",
    "  pvrect(result, alpha=0.95)  # entoure les clusters avec p-value > 95%\n",
    "  \n",
    "  dev.off() \n",
    "\n",
    "  display_png(file = paste0(filename,\".png\"))\n",
    "\n",
    "}"
   ]
  },
  {
   "cell_type": "code",
   "execution_count": 11,
   "id": "9f04809b-1679-4e82-8e5a-3c1bea1be7d8",
   "metadata": {
    "jupyter": {
     "source_hidden": true
    }
   },
   "outputs": [],
   "source": [
    "#FONCTIONS ACP 2D,3D, UMAP , DIAG de VENN    :  #QUALITE SIGNATURE TRANSCRIPTIONNELLE DISCRIMINANTE\n",
    "\n",
    "function_ACP <- function(counts, plot_titre = \"ACP\", filename = \"ACP_plot.png\", width = 1200, height = 1000, res = 150){  #ACP :\n",
    "  data_t <- t(counts)\n",
    "  pca <- prcomp(data_t, scale. = F)\n",
    "  summary(pca)\n",
    "  \n",
    "  png(filename, width = width, height = height, res = res)\n",
    "  plot(pca$x[,1:2], col=1:nrow(data_t), pch=19, main = \"plot_titre\")\n",
    "  text(pca$x[,1:2], labels=rownames(pca$x), pos=3)\n",
    "  dev.off()\n",
    "\n",
    "  display_png(file = filename)\n",
    "\n",
    "  # Voir les contributions aux composantes principales\n",
    "  contributions <- pca$rotation\n",
    "  \n",
    "  # Quelle variable contribue le plus à PC1 ?\n",
    "  #abs(contributions[,1])  # valeurs absolues pour l'importance\n",
    "  # Classement décroissant\n",
    "  liste_axe_gene_contribution = contributions[,1]\n",
    "  liste_axe_gene_contribution = liste_axe_gene_contribution[liste_axe_gene_contribution>0.01]\n",
    "  \n",
    "  importance_PC1 <- sort(abs(liste_axe_gene_contribution), decreasing = TRUE)\n",
    "  #print(importance_PC1)\n",
    "  #boxplot(importance_PC1)\n",
    "  write.csv(importance_PC1, paste0(filename,\"contributions1.txt\"))\n",
    "  \n",
    "  \n",
    "  #importance_PC2 <- sort(abs(contributions[,2]), decreasing = TRUE)\n",
    "  #print(importance_PC2)\n",
    "  #write.csv(importance_PC2, paste0(filename,\"contributions2.txt\"))\n",
    "  \n",
    "  #importance_PC3 <- sort(abs(contributions[,3]), decreasing = TRUE)\n",
    "  #print(importance_PC3)\n",
    "  #write.csv(importance_PC3, paste0(filename,\"contributions3.txt\"))\n",
    "\n",
    "}\n",
    "\n",
    "\n",
    "\n",
    "function_UMAP = function(counts){\n",
    "  \n",
    "  #install.packages(\"uwot\")\n",
    "  \n",
    "  # Charger le package\n",
    "\n",
    "  counts <- t(counts)\n",
    "  \n",
    "  \n",
    "  # UMAP (par défaut en 2D)\n",
    "  umap_result <- umap(counts)\n",
    "  \n",
    "  # Résultat = une matrice avec les coordonnées projetées\n",
    "  head(umap_result)\n",
    "  noms=colnames(counts)\n",
    "  noms=as.factor(noms)\n",
    "  \n",
    "  # Optionnel : visualisation\n",
    "  plot(umap_result, col = as.numeric(noms), pch = 19,\n",
    "       main = \"Projection UMAP de iris\")\n",
    "  legend(\"topright\", legend = levels(noms),\n",
    "         col = 1:3, pch = 19) \n",
    "  \n",
    "}\n",
    "\n",
    "\n",
    "function_3D_PCA = function(counts, filename = \"ACP_3D.html\"){\n",
    "  #PCA 3d : \n",
    " \n",
    "  counts <- t(counts)  \n",
    "  pca <- prcomp(counts, scale. = FALSE)\n",
    "  pca_df <- as.data.frame(pca$x)\n",
    "  \n",
    "  p <- plot_ly(data = pca_df, \n",
    "               \n",
    "               x = ~PC1, y = ~PC2, z = ~PC3, \n",
    "               type = 'scatter3d', \n",
    "               mode = 'markers+text',\n",
    "               text = rownames(pca_df),\n",
    "               textposition = 'top center',\n",
    "               marker = list(size = 5,\n",
    "                             color = as.numeric(as.factor(rownames(pca_df))),\n",
    "                             colorscale = 'Viridis'))\n",
    "  \n",
    "  htmlwidgets::saveWidget(p, filename, selfcontained = FALSE)\n",
    "\n",
    "  browseURL(filename)\n",
    "}\n",
    "\n",
    "\n",
    "function_garde_500_genes__les_plus_variables = function(counts){\n",
    "  gene_sd <- apply(counts, 1, sd)\n",
    "  top_genes <- names(sort(gene_sd, decreasing = TRUE)[1:500])\n",
    "  counts = counts[top_genes,]\n",
    "  \n",
    "  return(counts)\n",
    "}\n",
    "\n",
    "\n",
    "#FONCTION DIAG VENN\n",
    "#sorte de diagramme de venn\n",
    "function_genes_communs = function(counts){\n",
    "  genes = rownames(counts)\n",
    "  for(experience in colnames(counts)){\n",
    "    for(gene in genes){\n",
    "      nbr_de_reads = counts[gene,experience]\n",
    "      if(nbr_de_reads>0){\n",
    "        counts[gene,experience]=1 #gene\n",
    "      }\n",
    "    }\n",
    "  }\n",
    "  # Install if needed\n",
    "  #install.packages(\"UpSetR\")\n",
    "\n",
    "  # Affichage du diagramme avec des options pour compacité\n",
    "  upset(counts,\n",
    "        sets = colnames(counts),\n",
    "        keep.order = TRUE,\n",
    "        sets.bar.color = \"#56B4E9\",\n",
    "        order.by = \"freq\",   # trie les combinaisons par fréquence\n",
    "        mb.ratio = c(0.6, 0.4),  # réduit la taille des barres du bas (main bar)\n",
    "        text.scale = 1.2)     # ajuste la taille du texte pour lisibilité\n",
    "}"
   ]
  },
  {
   "cell_type": "code",
   "execution_count": 12,
   "id": "d32aeece-7bf1-4373-baec-ce797d9cf908",
   "metadata": {
    "jupyter": {
     "source_hidden": true
    }
   },
   "outputs": [],
   "source": [
    "#FONCTIONS COEXPRESSION\n",
    "\n",
    "\n",
    "function_CNN_genes = function(counts,df_genes_names=df_genes_names,R2 = 0.99,filename){\n",
    "\n",
    "  # Supprimer les gènes constants avant la corrélation\n",
    "  counts_filtered <- counts[apply(counts, 1, function(x) sd(x) != 0), ]\n",
    "  \n",
    "  # Puis recalculer la corrélation\n",
    "  cor_matrix <- correlate(t(counts_filtered), method = \"pearson\")\n",
    "  \n",
    "  # 2. Transformer la matrice en format utilisable\n",
    "  cor_df <- stretch(cor_matrix) # passer en format \"long\"\n",
    "  \n",
    "  # 3. Filtrer les fortes corrélations\n",
    "  cor_df <- subset(cor_df, abs(r) >= R2)  \n",
    "  \n",
    "  # 4. Construire le graph\n",
    "  g <- graph_from_data_frame(cor_df, directed = FALSE)\n",
    "  \n",
    "  \n",
    "  # 5. Dessiner le graph\n",
    "  # Définir les couleurs selon le signe de la corrélation\n",
    "  edge_colors <- ifelse(E(g)$r < 0, \"red\", \"green\")\n",
    "  \n",
    "  # Générer le PNG\n",
    "  png(paste0(filename,\".\",R2,\".png\"), width = 1200, height = 1000, res = 150)\n",
    "  \n",
    "  plot(g, \n",
    "       vertex.label = V(g)$name,\n",
    "       vertex.label.cex = 0.7,\n",
    "       vertex.size = 5,\n",
    "       edge.width = abs(E(g)$r) * 5,  # épaisseur proportionnelle à la force\n",
    "       edge.color = edge_colors,      # couleur selon le signe\n",
    "       main = \"CNN\",\n",
    "       layout = layout_with_fr)\n",
    "  \n",
    "  dev.off()\n",
    "  \n",
    "  \n",
    "  display_png(file = paste0(filename,\".\",R2,\".png\"))\n",
    "\n",
    "  \n",
    "  \n",
    "  # 1. Filtrer les gènes qui existent dans le graphe\n",
    "  genes_cibles_valides <- intersect(df_genes_names, V(g)$name)\n",
    "  \n",
    "  # 2. Vérifier qu'au moins un gène est présent\n",
    "  if (length(genes_cibles_valides) > 0) {\n",
    "    # 3. Trouver les voisins directs (ordre 1) + inclure les gènes eux-mêmes\n",
    "    voisins <- unlist(neighborhood(g, order = 1, nodes = genes_cibles_valides, mode = \"all\"))\n",
    "    \n",
    "    # 4. Extraire les noms des sommets à inclure dans le sous-graphe\n",
    "    sommets_sousgraphe <- unique(V(g)[voisins]$name)\n",
    "    \n",
    "    # 5. Créer le sous-graphe\n",
    "    g_sous <- induced_subgraph(g, vids = sommets_sousgraphe)\n",
    "    \n",
    "    # 6. Afficher ou enregistrer le sous-graphe\n",
    "    png(filename = paste0(filename,\".png\"), width = 8000, height = 8000, res = 400)\n",
    "    # Créer un vecteur de couleurs : bleu pour les gènes cibles, orange pour les autres\n",
    "    couleurs_sommets <- ifelse(V(g_sous)$name %in% genes_cibles_valides, \"blue\", \"orange\")\n",
    "    layout_graphopt <- layout_with_graphopt(g_sous, charge = 0.30, niter = 2000)\n",
    "    plot(g_sous,\n",
    "         vertex.label = V(g_sous)$name,\n",
    "         vertex.label.cex = 0.8,\n",
    "         vertex.size = 6,\n",
    "         vertex.color = couleurs_sommets,  # <<<< couleurs ici\n",
    "         edge.width = abs(E(g_sous)$r) * 5,\n",
    "         main = \"Gènes cibles (bleu) + voisins (orange)\",\n",
    "         layout = layout_graphopt)\n",
    "    \n",
    "    dev.off()\n",
    "  } else {\n",
    "    cat(\"Aucun des gènes cibles n'est présent dans le graphe.\\n\")\n",
    "  }\n",
    "  \n",
    "    display_png(file = paste0(filename,\".png\"))\n",
    "  \n",
    "}\n",
    "\n",
    "function_matrice_correlation = function(counts,plot_titre = \"pheatmap\", filename = \"pheatmap.png\", width = 1200, height = 1000, res = 150){\n",
    "\n",
    "  \n",
    "  cor_matrix <- correlate(t(counts), method = \"pearson\")\n",
    "  cor_matrix = as.data.frame(cor_matrix,row.names = TRUE)\n",
    "  rownames(cor_matrix) = cor_matrix$term\n",
    "  cor_matrix = cor_matrix[,-1]\n",
    "  cor_matrix[is.na(cor_matrix)] <- 0\n",
    "  cor_matrix =as.matrix(cor_matrix)\n",
    "  \n",
    "  \n",
    "  \n",
    "  # Créer la matrice de labels\n",
    "  number_matrix <- matrix(sprintf(\"%.1f\", cor_matrix), \n",
    "                          nrow = nrow(cor_matrix), ncol = ncol(cor_matrix))\n",
    "  \n",
    "  # Mettre les \"0.0\" en texte blanc\n",
    "  number_color <- matrix(\"black\", nrow = nrow(cor_matrix), ncol = ncol(cor_matrix))\n",
    "  number_color[cor_matrix == 0] <- \"white\"\n",
    "\n",
    "\n",
    "  # Affichage du heatmap\n",
    "  ph = pheatmap(cor_matrix,\n",
    "           main =plot_titre,\n",
    "           cluster_rows = FALSE,\n",
    "           cluster_cols = FALSE,\n",
    "           display_numbers = number_matrix,\n",
    "           number_color = number_color,\n",
    "           fontsize_number = 10,\n",
    "           col = colorRampPalette(c(\"white\", \"yellow\", \"red\"))(100)\n",
    "  )\n",
    "    # Enregistre en PNG\n",
    "  png(filename, width = width, height = height, res = res)\n",
    "  grid::grid.draw(ph$gtable)  # Dessine le heatmap capturé\n",
    "  dev.off()\n",
    "    \n",
    "  display_png(file = filename)\n",
    "\n",
    "}\n",
    "\n",
    "function_matrice_correlation_courbes = function(counts,plot_titre = \"pheatmap\", filename = \"pheatmap.png\", width = 1200, height = 1000, res = 150){\n",
    "\n",
    "  \n",
    "  #install.packages(\"GGally\")     # à faire une seule fois\n",
    "\n",
    "  # Affiche les nuages de points pour toutes les paires de variables\n",
    "  \n",
    "  \n",
    "  p = ggpairs(\n",
    "    t(counts),\n",
    "    \n",
    "    upper = list(continuous = wrap(\"cor\", size = 3)),\n",
    "    \n",
    "    lower = list(\n",
    "      continuous = wrap(\"smooth\", \n",
    "                        method = \"lm\", \n",
    "                        se = FALSE,\n",
    "                        color = \"red\", \n",
    "                        #fullrange = TRUE,\n",
    "                        alpha = 0.8)\n",
    "    ),\n",
    "    \n",
    "    diag = list(continuous = wrap(\"densityDiag\", alpha = 0.5)),\n",
    "    title = plot_titre\n",
    "  ) +\n",
    "    theme_minimal()\n",
    "\n",
    "  print(p)\n",
    "  ggsave(filename = filename, plot = p,width = 12, height = 12, dpi = 300, units = \"in\")\n",
    "\n",
    "  display_png(file = filename)\n",
    "\n",
    "}\n",
    "\n",
    "\n",
    "\n",
    "function_CNN = function(counts,R2 = 0.99,filename){\n",
    "\n",
    "  # Supprimer les gènes constants avant la corrélation\n",
    "  counts_filtered <- counts[apply(counts, 1, function(x) sd(x) != 0), ]\n",
    "  \n",
    "  # Puis recalculer la corrélation\n",
    "  cor_matrix <- correlate(t(counts_filtered), method = \"pearson\")\n",
    "  \n",
    "  # 2. Transformer la matrice en format utilisable\n",
    "  cor_df <- stretch(cor_matrix) # passer en format \"long\"\n",
    "  \n",
    "  # 4. Supprimer les auto-corrélations (x == y)\n",
    "  cor_df <- cor_df %>% filter(cor_df$x != cor_df$y)\n",
    "  \n",
    "  # 5. Réordonner les paires pour ne garder qu’une direction (évite doublons)\n",
    "  cor_df <- cor_df %>%\n",
    "    mutate(pair_id = paste0(pmin(cor_df$x, cor_df$y), \"_\", pmax(cor_df$x, cor_df$y))) %>%\n",
    "    distinct(pair_id, .keep_all = TRUE)\n",
    "  \n",
    "  # 3. Filtrer les fortes corrélations\n",
    "  cor_df <- subset(cor_df, abs(r) >= R2)  \n",
    "  \n",
    "  # 4. Construire le graph\n",
    "  g <- graph_from_data_frame(cor_df, directed = FALSE)\n",
    "  \n",
    "  # 5. Dessiner le graph\n",
    "  # Définir les couleurs selon le signe de la corrélation\n",
    "  edge_colors <- ifelse(E(g)$r < 0, \"red\", \"green\")\n",
    "  \n",
    "  # Générer le PNG\n",
    "  png(paste0(filename,\".\",R2,\".png\"), width = 1200, height = 1000, res = 150)\n",
    "  \n",
    "  plot(g, \n",
    "       vertex.label = V(g)$name,\n",
    "       vertex.label.cex = 0.7,\n",
    "       vertex.size = 5,\n",
    "       edge.width = abs(E(g)$r) * 5,  # épaisseur proportionnelle à la force\n",
    "       edge.color = edge_colors,      # couleur selon le signe\n",
    "       main = \"CNN\",\n",
    "       layout = layout_with_fr)\n",
    "  \n",
    "  dev.off()\n",
    "\n",
    "  display_png(file = paste0(filename,\".\",R2,\".png\"))\n",
    "\n",
    "                                  \n",
    "}\n",
    "\n",
    "\n",
    "\n"
   ]
  },
  {
   "cell_type": "markdown",
   "id": "408b78cc-4da7-4460-813d-ad0207e4f14a",
   "metadata": {},
   "source": [
    "# Parametres Partie 2)"
   ]
  },
  {
   "cell_type": "code",
   "execution_count": 5,
   "id": "186b07e8-b0de-4be0-ab75-d3f0931cbc32",
   "metadata": {
    "jupyter": {
     "source_hidden": true
    }
   },
   "outputs": [],
   "source": [
    "# Partie 2) : Analyse de la matrice d'alignements (tableau counts : alignements vs 12000 genes)\n",
    "\n",
    "tableau_counts = \"counts\"\n",
    "normalisation = \"log_tpm\"   #c(\"pas_de_normalisation\",\"vst\",\"vst_conditions\", \"vst_peu_de_genes\",\"log_rpkm\", \"log_tpm\", \"rlog\",\"binaire\")\n",
    "liste_conditions_a_garder_etoile=NULL\n",
    "nom_repertoire_output=\"\"\n"
   ]
  },
  {
   "cell_type": "code",
   "execution_count": null,
   "id": "23b55c7b-de1d-4299-9852-d31f7b2ad862",
   "metadata": {
    "jupyter": {
     "source_hidden": true
    }
   },
   "outputs": [],
   "source": [
    "# creation d'une liste de genes à étudier\n",
    "noms_genes = \"GABA\"    ##Nom du fichers \n",
    "\n",
    "df <- data.frame(\n",
    "    nom_ancien = c(\"LOC406124\",\"Grd\",\"LCCH3\",\"Amel_8916\",\"GluCl\"),    #nom dans le fichier .gtf des genes\n",
    "    nom_nouveau = c(\"Rdl\", \"Grd\",\"LCCH3\",\"Amel_8916\",\"GluCl\")         #nouveau nom pour conversion\n",
    ")\n",
    "\n",
    "# creation d'une liste de genes à étudier\n",
    "###########################################################################################################################\n",
    "###########################################################################################################################\n",
    "###########################################################################################################################\n",
    "repertoire_fichiers_txt = paste0(dossier_travail,\"/FICHIERS_TXT\")\n",
    "print(paste0(repertoire_fichiers_txt,noms_genes,\".txt\"))\n",
    "# Sauvegarde dans un fichier txt sans noms de lignes ni colonnes, séparateur tabulation\n",
    "write.table(df, file =paste0(repertoire_fichiers_txt,\"/\",noms_genes,\".txt\"), sep = \"\\t\", row.names = FALSE, col.names = FALSE, quote = FALSE)"
   ]
  },
  {
   "cell_type": "code",
   "execution_count": 91,
   "id": "419771ce-216b-44b2-bde2-2e611a273611",
   "metadata": {
    "collapsed": true,
    "jupyter": {
     "outputs_hidden": true,
     "source_hidden": true
    },
    "scrolled": true
   },
   "outputs": [
    {
     "name": "stderr",
     "output_type": "stream",
     "text": [
      "Warning message in dir.create(OUTPUTS):\n",
      "\"'D:\\Michel_boissac\\alignement_sur_r_test2\\OUTPUT' existe déjà\"\n"
     ]
    },
    {
     "name": "stdout",
     "output_type": "stream",
     "text": [
      "[1] \"D:/Michel_boissac/alignement_sur_r_test2/FICHIERS_TXTGABA.txt\"\n"
     ]
    },
    {
     "name": "stderr",
     "output_type": "stream",
     "text": [
      "Warning message in dir.create(chemin_repertoire_output):\n",
      "\"'D:\\Michel_boissac\\alignement_sur_r_test2\\OUTPUT\\counts' existe déjà\"\n"
     ]
    }
   ],
   "source": [
    "# CREER DOSSIER OUTPUT\n",
    "\n",
    "repertoire_fichiers_txt = paste0(dossier_travail,\"/FICHIERS_TXT\")\n",
    "OUTPUTS = paste0(dossier_travail,\"/OUTPUT\")\n",
    "dir.create(OUTPUTS)\n",
    "\n",
    "\n",
    "#Créer le répertoire output\n",
    "if(nom_repertoire_output == \"\") {\n",
    "  chemin_repertoire_output = paste0(OUTPUTS, \"/\", tableau_counts, \"_\", normalisation, \"_\", noms_genes)\n",
    "  nom_repertoire_output = tableau_counts\n",
    "} else {\n",
    "  chemin_repertoire_output = paste0(OUTPUTS, \"/\", nom_repertoire_output)\n",
    "}\n",
    "dir.create(chemin_repertoire_output)\n"
   ]
  },
  {
   "cell_type": "markdown",
   "id": "c8f18c3d-5709-42d5-8cdd-de2c583f3381",
   "metadata": {},
   "source": [
    "# Partie 2) : Analyse de la matrice d'alignements (tableau counts : alignements vs 12000 genes)"
   ]
  },
  {
   "cell_type": "markdown",
   "id": "09631394-0c5d-4b3a-95d2-5bb35f5211da",
   "metadata": {},
   "source": [
    "## preparation du tableau counts"
   ]
  },
  {
   "cell_type": "code",
   "execution_count": 74,
   "id": "68cb0bd6-0e8b-4ecb-8961-3d3df8cd5404",
   "metadata": {
    "collapsed": true,
    "jupyter": {
     "outputs_hidden": true,
     "source_hidden": true
    },
    "scrolled": true
   },
   "outputs": [
    {
     "name": "stdout",
     "output_type": "stream",
     "text": [
      "Pour changer les noms des alignements, creer dans le dossier FICHIERS_TXT un fichiers avec ce nom :\n",
      "\n",
      "counts_names.txtCopier les noms des alignements pour avoir un nom par ligne.\n",
      "\n",
      "Pour chaque nom , mettre une tabulation puis le nom que l'on veut :\n",
      "\n",
      "exemple:\n",
      "\n",
      "nom_ancien_alignement1    nom_nouveau_alignement1\n",
      "nom_ancien_alignement2    nom_nouveau_alignement2\n",
      "nom_ancien_alignement3    nom_nouveau_alignement3\n",
      "nom_ancien_alignement4    nom_nouveau_alignement4\n",
      "...\n",
      "\n",
      "\n",
      "Pour cela, copier les lignes suivantes dans la case suivante et executez les: \n",
      "\n",
      "\"\"\"\n",
      "\n",
      "df <- data.frame(\n",
      " nom_actuel =  c(\"Counts.SRR935172_10000.bam\", \"Counts.SRR935173_10000.bam\", \"Counts.SRR935174_10000.bam\"), \n",
      " nom_nouveau = c()    #changer cette ligne, remplacer par les nouveaux noms !!! \n",
      " \n",
      ")\n",
      "\n",
      "file = \"D:/Michel_boissac/alignement_sur_r_test2/FICHIERS_TXTcounts_names.txt\" \n",
      "\n",
      "write.table(df, file, sep = \"\t\", row.names = FALSE, col.names = FALSE, quote = FALSE)\n",
      "\n",
      "\"\"\"\n",
      "\n"
     ]
    }
   ],
   "source": [
    "#PREPARATION TABLEAU COUNTS\n",
    "#recupere le tableau \"counts\"  (alignement vs 12000 genes)\n",
    "counts = function_recupere_tab_counts_txt(tableau_counts)                                  #Tableau alignements VS tout les genes\n",
    "\n",
    "#recupere longueurs des genes\n",
    "longueurs_genes = recupere_longueurs_genes(counts)                                         #faire avant \"function_selection_gene_dans_counts_AND_CONVERSION_NOM_DES_GENES\"\n",
    "#supprime les 1eres colonnes\n",
    "counts = function_supprimer_x_premieres_colonnes(counts,5)                                 #supprime les premiers colonnes du tableau (longueur,chromosome, etc ..)\n",
    "all_numeric_columns <- all(sapply(counts, is.numeric))\n",
    "\n",
    "\n",
    "cat(\"Pour changer les noms des alignements, creer dans le dossier FICHIERS_TXT un fichiers avec ce nom :\\n\\n\")\n",
    "tableau_counts_names = paste0(tableau_counts,\"_names.txt\")\n",
    "cat(tableau_counts_names)\n",
    "cat(\"Copier les noms des alignements pour avoir un nom par ligne.\\n\\n\")\n",
    "cat(\"Pour chaque nom , mettre une tabulation puis le nom que l'on veut :\\n\\n\")\n",
    "cat(\"exemple:\\n\\n\")\n",
    "cat(\"nom_ancien_alignement1    nom_nouveau_alignement1\\n\")\n",
    "cat(\"nom_ancien_alignement2    nom_nouveau_alignement2\\n\")\n",
    "cat(\"nom_ancien_alignement3    nom_nouveau_alignement3\\n\")\n",
    "cat(\"nom_ancien_alignement4    nom_nouveau_alignement4\\n\")\n",
    "cat(\"...\\n\\n\\n\")\n",
    "\n",
    "cat(\"Pour cela, copier les lignes suivantes dans la case suivante et executez les: \\n\\n\")\n",
    "cat(\"\\\"\\\"\\\"\\n\\n\")\n",
    "nom_actuel =  paste0('\"', colnames(counts), '\"', collapse = \", \")\n",
    "nom_actuel = paste0(\"c(\",nom_actuel,\"),\")\n",
    "cat(\n",
    "\"df <- data.frame(\\n\",\n",
    "    \"nom_actuel = \",\n",
    "    nom_actuel, \"\\n\",\n",
    "   \n",
    "    \"nom_nouveau = c()    #changer cette ligne, remplacer par les nouveaux noms !!! \\n\", \n",
    "\"\\n)\\n\\n\")\n",
    "# Sauvegarde dans un fichier txt sans noms de lignes ni colonnes, séparateur tabulation\n",
    "\n",
    "file = paste0(\"\\\"\" , repertoire_fichiers_txt,tableau_counts_names, \"\\\"\")\n",
    "\n",
    "cat(\"file =\", file,\"\\n\\n\")\n",
    "\n",
    "\n",
    "cat(\"write.table(df, file, sep = \\\"\\t\\\", row.names = FALSE, col.names = FALSE, quote = FALSE)\")\n",
    "cat(\"\\n\\n\\\"\\\"\\\"\\n\\n\")\n"
   ]
  },
  {
   "cell_type": "code",
   "execution_count": 75,
   "id": "174c2607-202f-4410-8339-616b5476d790",
   "metadata": {
    "jupyter": {
     "source_hidden": true
    }
   },
   "outputs": [],
   "source": [
    "#change le nom des alignements (ecrire et completer le code généré dans la case precedente !)\n",
    "\n",
    "df <- data.frame(\n",
    " nom_actuel =  c(\"Counts.SRR935172_10000.bam\", \"Counts.SRR935173_10000.bam\", \"Counts.SRR935174_10000.bam\"), \n",
    " nom_nouveau = c(\"71\",\"72\",\"73\")    #changer cette ligne, remplacer par les nouveaux noms !!! \n",
    " \n",
    ")\n",
    "\n",
    "file = \"D:/Michel_boissac/alignement_sur_r_test2/FICHIERS_TXT/counts_names.txt\" \n",
    "\n",
    "write.table(df, file, sep = \"\t\", row.names = FALSE, col.names = FALSE, quote = FALSE)"
   ]
  },
  {
   "cell_type": "code",
   "execution_count": 76,
   "id": "62e89a5f-b79c-4bb5-a0cf-fcdc7990067c",
   "metadata": {
    "collapsed": true,
    "jupyter": {
     "outputs_hidden": true,
     "source_hidden": true
    }
   },
   "outputs": [
    {
     "name": "stdout",
     "output_type": "stream",
     "text": [
      "[1] \"Remplacement : Counts.SRR935172_10000.bam -> 71\"\n",
      "[1] \"Remplacement : Counts.SRR935173_10000.bam -> 72\"\n",
      "[1] \"Remplacement : Counts.SRR935174_10000.bam -> 73\"\n"
     ]
    }
   ],
   "source": [
    "#change le nom des alignements\n",
    "counts = function_change_NOMS_ALIGNEMENTS(counts,tableau_counts)                           #change le nom des alignements (colonnes) par cexu du fichiers *names.txt\n",
    "#alignements que l'on veut garder\n",
    "counts = function_conditions_a_garder_dans_counts(counts,liste_conditions_a_garder_etoile) #pour recuperer uniquement certains alignements (colonnes)\n"
   ]
  },
  {
   "cell_type": "code",
   "execution_count": 77,
   "id": "2e53bdb3-1cf7-4830-801a-3e9a0a1cb588",
   "metadata": {
    "collapsed": true,
    "jupyter": {
     "outputs_hidden": true,
     "source_hidden": true
    }
   },
   "outputs": [
    {
     "name": "stdout",
     "output_type": "stream",
     "text": [
      "[1] \"normalisation :\"\n"
     ]
    },
    {
     "name": "stderr",
     "output_type": "stream",
     "text": [
      "-- note: fitType='parametric', but the dispersion trend was not well captured by the\n",
      "   function: y = a/x + b, and a local regression fit was automatically substituted.\n",
      "   specify fitType='local' or 'mean' to avoid this message next time.\n",
      "\n",
      "gene-wise dispersion estimates\n",
      "\n",
      "mean-dispersion relationship\n",
      "\n",
      "-- note: fitType='parametric', but the dispersion trend was not well captured by the\n",
      "   function: y = a/x + b, and a local regression fit was automatically substituted.\n",
      "   specify fitType='local' or 'mean' to avoid this message next time.\n",
      "\n",
      "final dispersion estimates\n",
      "\n"
     ]
    },
    {
     "data": {
      "text/html": [
       "<table class=\"dataframe\">\n",
       "<caption>A matrix: 6 × 3 of type dbl</caption>\n",
       "<thead>\n",
       "\t<tr><th></th><th scope=col>71</th><th scope=col>72</th><th scope=col>73</th></tr>\n",
       "</thead>\n",
       "<tbody>\n",
       "\t<tr><th scope=row>LOC551580</th><td>-0.6028721</td><td>-0.6028721</td><td>-0.6028721</td></tr>\n",
       "\t<tr><th scope=row>LOC551555</th><td>-0.4928998</td><td>-0.4928998</td><td>-0.6028721</td></tr>\n",
       "\t<tr><th scope=row>LOC726347</th><td>-0.6028721</td><td>-0.6028721</td><td>-0.6028721</td></tr>\n",
       "\t<tr><th scope=row>Rfwd3</th><td>-0.6028721</td><td>-0.6028721</td><td>-0.4928998</td></tr>\n",
       "\t<tr><th scope=row>LOC726145</th><td>-0.6028721</td><td>-0.6028721</td><td>-0.6028721</td></tr>\n",
       "\t<tr><th scope=row>LOC551448</th><td>-0.6028721</td><td>-0.6028721</td><td>-0.6028721</td></tr>\n",
       "</tbody>\n",
       "</table>\n"
      ],
      "text/latex": [
       "A matrix: 6 × 3 of type dbl\n",
       "\\begin{tabular}{r|lll}\n",
       "  & 71 & 72 & 73\\\\\n",
       "\\hline\n",
       "\tLOC551580 & -0.6028721 & -0.6028721 & -0.6028721\\\\\n",
       "\tLOC551555 & -0.4928998 & -0.4928998 & -0.6028721\\\\\n",
       "\tLOC726347 & -0.6028721 & -0.6028721 & -0.6028721\\\\\n",
       "\tRfwd3 & -0.6028721 & -0.6028721 & -0.4928998\\\\\n",
       "\tLOC726145 & -0.6028721 & -0.6028721 & -0.6028721\\\\\n",
       "\tLOC551448 & -0.6028721 & -0.6028721 & -0.6028721\\\\\n",
       "\\end{tabular}\n"
      ],
      "text/markdown": [
       "\n",
       "A matrix: 6 × 3 of type dbl\n",
       "\n",
       "| <!--/--> | 71 | 72 | 73 |\n",
       "|---|---|---|---|\n",
       "| LOC551580 | -0.6028721 | -0.6028721 | -0.6028721 |\n",
       "| LOC551555 | -0.4928998 | -0.4928998 | -0.6028721 |\n",
       "| LOC726347 | -0.6028721 | -0.6028721 | -0.6028721 |\n",
       "| Rfwd3 | -0.6028721 | -0.6028721 | -0.4928998 |\n",
       "| LOC726145 | -0.6028721 | -0.6028721 | -0.6028721 |\n",
       "| LOC551448 | -0.6028721 | -0.6028721 | -0.6028721 |\n",
       "\n"
      ],
      "text/plain": [
       "          71         72         73        \n",
       "LOC551580 -0.6028721 -0.6028721 -0.6028721\n",
       "LOC551555 -0.4928998 -0.4928998 -0.6028721\n",
       "LOC726347 -0.6028721 -0.6028721 -0.6028721\n",
       "Rfwd3     -0.6028721 -0.6028721 -0.4928998\n",
       "LOC726145 -0.6028721 -0.6028721 -0.6028721\n",
       "LOC551448 -0.6028721 -0.6028721 -0.6028721"
      ]
     },
     "metadata": {},
     "output_type": "display_data"
    }
   ],
   "source": [
    "#NORMALISATION \n",
    "#NORMALISATION de counts (a faire sur le plus grands jeux de donnée, tableau entiers avec 12000 genes)\n",
    "print(\"normalisation :\")\n",
    "counts_norm = NORMALISATION(counts = counts,tableau_counts = tableau_counts,normalisation = normalisation,filename=paste0(chemin_repertoire_output,\"/\",nom_repertoire_output,\".\",normalisation,\"_dispEsts.png\"),liste_conditions_a_garder_etoile=liste_conditions_a_garder_etoile,longueurs_genes=longueurs_genes)\n",
    "#SAUVEGARDE DU TABLEAU COUNTS Normalisé\n",
    "#sauvegarde le tableau counts normalise\n",
    "head(counts_norm)\n",
    "write.table(counts_norm,paste0(chemin_repertoire_output,\"/\",nom_repertoire_output,\".\",normalisation,\".\",\"all_genes.counts.txt\"),row.names=TRUE,col.names = TRUE, quote = FALSE, sep = \"\\t\")\n",
    " "
   ]
  },
  {
   "cell_type": "code",
   "execution_count": 78,
   "id": "b60b098f-7d88-48ed-aa3b-6a234feabc2b",
   "metadata": {
    "collapsed": true,
    "jupyter": {
     "outputs_hidden": true,
     "source_hidden": true
    }
   },
   "outputs": [
    {
     "name": "stderr",
     "output_type": "stream",
     "text": [
      "Warning message in file(file, \"rt\"):\n",
      "\"impossible d'ouvrir le fichier 'D:/Michel_boissac/alignement_sur_r_test2/FICHIERS_TXT/GABA.txt' : No such file or directory\"\n"
     ]
    },
    {
     "ename": "ERROR",
     "evalue": "Error in file(file, \"rt\"): impossible d'ouvrir la connexion\n",
     "output_type": "error",
     "traceback": [
      "Error in file(file, \"rt\"): impossible d'ouvrir la connexion\nTraceback:\n",
      "1. read.table(chemin_tab_noms_genes, header = FALSE, sep = \"\\t\", \n .     comment.char = \"#\")",
      "2. file(file, \"rt\")",
      "3. .handleSimpleError(function (cnd) \n . {\n .     watcher$capture_plot_and_output()\n .     cnd <- sanitize_call(cnd)\n .     watcher$push(cnd)\n .     switch(on_error, continue = invokeRestart(\"eval_continue\"), \n .         stop = invokeRestart(\"eval_stop\"), error = NULL)\n . }, \"impossible d'ouvrir la connexion\", base::quote(file(file, \n .     \"rt\")))"
     ]
    }
   ],
   "source": [
    "#SELECTION GENES\n",
    "#selectionne une sous partie du tableau normalise avec les genes d'interets \n",
    "counts_norm_genes = function_selection_gene_dans_counts_AND_CONVERSION_NOM_DES_GENES(noms_genes,counts_norm)\n",
    "#selectionne une sous partie du tableau normalise avec les genes d'interets \n",
    "counts_genes = function_selection_gene_dans_counts_AND_CONVERSION_NOM_DES_GENES(noms_genes,counts)\n",
    "#sauvegarde le sous tableau normalise avec nos genes\n",
    "write.table(counts_norm_genes,paste0(chemin_repertoire_output,\"/\",nom_repertoire_output,\".\",normalisation,\".\",noms_genes,\".counts.txt\"),row.names=TRUE,col.names = TRUE, quote = FALSE, sep = \"\\t\")"
   ]
  },
  {
   "cell_type": "markdown",
   "id": "f11f8a80-d2b4-4af0-acc7-8e460a308d5d",
   "metadata": {},
   "source": [
    "## analyse expression genes"
   ]
  },
  {
   "cell_type": "code",
   "execution_count": 56,
   "id": "3d3ff913-0fc5-4931-89d6-92520266c2f3",
   "metadata": {
    "collapsed": true,
    "jupyter": {
     "outputs_hidden": true,
     "source_hidden": true
    }
   },
   "outputs": [
    {
     "data": {
      "image/png": "[encoded data removed]"
     },
     "metadata": {},
     "output_type": "display_data"
    },
    {
     "name": "stdout",
     "output_type": "stream",
     "text": [
      "[1] \"D:/Michel_boissac/alignement_sur_r_test2/OUTPUT/counts_vst_peu_de_genes_GABA/counts.vst_peu_de_genes.GABA.pheatmap.png\"\n"
     ]
    },
    {
     "data": {
      "image/png": "[encoded data removed]"
     },
     "metadata": {},
     "output_type": "display_data"
    },
    {
     "data": {
      "image/png": "[encoded data removed]"
     },
     "metadata": {},
     "output_type": "display_data"
    },
    {
     "name": "stdout",
     "output_type": "stream",
     "text": [
      "[1] \"D:/Michel_boissac/alignement_sur_r_test2/OUTPUT/counts_vst_peu_de_genes_GABA/counts.GABA.pheatmap.png\"\n"
     ]
    },
    {
     "data": {
      "image/png": "[encoded data removed]"
     },
     "metadata": {},
     "output_type": "display_data"
    }
   ],
   "source": [
    "#Heatmap, PHEATMAP \n",
    "#trie la matrice par ordre alphabetique (colonnes et lignes) pour la visualisation heatmap\n",
    "counts_norm_genes = counts_norm_genes[order(rownames(counts_norm_genes)), order(colnames(counts_norm_genes))] \n",
    "#trie la matrice par ordre alphabetique (colonnes et lignes) pour la visualisation heatmap\n",
    "counts_genes = counts_genes[order(rownames(counts_genes)), order(colnames(counts_genes))] \n",
    "#pheatmap sur le sous tableau normalise avec nos genes\n",
    "function_pheatmap(counts = counts_norm_genes,\n",
    "                  plot_titre = paste0(nom_repertoire_output,\".\",normalisation,\".\",noms_genes),\n",
    "                  filename = paste0(chemin_repertoire_output,\"/\",nom_repertoire_output,\".\",normalisation,\".\",noms_genes,\".pheatmap.png\"))\n",
    "\n",
    "\n",
    "function_heatmap(counts = counts_norm_genes,\n",
    "                 plot_titre = paste0(nom_repertoire_output,\".\",normalisation,\".\",noms_genes),\n",
    "                 filename = paste0(chemin_repertoire_output,\"/\",nom_repertoire_output,\".\",normalisation,\".\",noms_genes,\".heatmap.png\"))\n",
    "#pheatmap sur le sous tableau  avec nos genes\n",
    "function_pheatmap(counts = counts_genes,\n",
    "                  plot_titre = paste0(nom_repertoire_output,\".\",noms_genes),\n",
    "                  filename = paste0(chemin_repertoire_output,\"/\",nom_repertoire_output,\".\",noms_genes,\".pheatmap.png\"))\n",
    "\n",
    "\n",
    "function_heatmap(counts = counts_genes,\n",
    "                 plot_titre = paste0(nom_repertoire_output,\".\",noms_genes),\n",
    "                 filename = paste0(chemin_repertoire_output,\"/\",nom_repertoire_output,\".\",noms_genes,\".heatmap.png\"))\n"
   ]
  },
  {
   "cell_type": "markdown",
   "id": "18d279e6-e255-4e50-b1ed-9b1e69981e94",
   "metadata": {},
   "source": [
    "## Profondeur de séquençage saturante "
   ]
  },
  {
   "cell_type": "code",
   "execution_count": 57,
   "id": "6afa4c37-4a90-4cef-93be-c7deea722839",
   "metadata": {
    "collapsed": true,
    "jupyter": {
     "outputs_hidden": true,
     "source_hidden": true
    },
    "scrolled": true
   },
   "outputs": [
    {
     "name": "stderr",
     "output_type": "stream",
     "text": [
      "Warning message in dir.create(paste0(chemin_repertoire_output, \"/barplot_genome_expression_\", :\n",
      "\"'D:\\Michel_boissac\\alignement_sur_r_test2\\OUTPUT\\counts_vst_peu_de_genes_GABA\\barplot_genome_expression_vst_peu_de_genes' existe déjà\"\n"
     ]
    },
    {
     "data": {
      "image/png": "[encoded data removed]"
     },
     "metadata": {},
     "output_type": "display_data"
    },
    {
     "data": {
      "image/png": "[encoded data removed]"
     },
     "metadata": {},
     "output_type": "display_data"
    },
    {
     "data": {
      "image/png": "[encoded data removed]"
     },
     "metadata": {},
     "output_type": "display_data"
    }
   ],
   "source": [
    "#QUALITE PROFONDEUR DE SEQUENCAGE\n",
    "#creer des barplots non triés de l'expression du genome\n",
    "dir.create(paste0(chemin_repertoire_output,\"/barplot_genome_expression_\",normalisation))\n",
    "function_barplot_genome_expression(counts = counts_norm,\n",
    "                                   filename = paste0(chemin_repertoire_output,\"/barplot_genome_expression_\",normalisation,\"/\",nom_repertoire_output,\".\",normalisation,\"_barplot_genome_expression\"))  \n"
   ]
  },
  {
   "cell_type": "code",
   "execution_count": 58,
   "id": "9c25bd5b-1a3e-493f-aeae-9dd67c5b2301",
   "metadata": {
    "collapsed": true,
    "jupyter": {
     "outputs_hidden": true,
     "source_hidden": true
    },
    "scrolled": true
   },
   "outputs": [
    {
     "data": {
      "image/png": "[encoded data removed]"
     },
     "metadata": {},
     "output_type": "display_data"
    }
   ],
   "source": [
    "#nbr de genes exprimés par alignements (>0 reads/gene)\n",
    "function_barplot_nbr_genes_expr(counts = counts,\n",
    "                                filename = paste0(chemin_repertoire_output,\"/\",nom_repertoire_output,\"_all_genes.barplot_nbr_genes_expr\"))\n",
    " "
   ]
  },
  {
   "cell_type": "code",
   "execution_count": 59,
   "id": "7e5a72c4-41bf-436c-b281-43cb98643de4",
   "metadata": {
    "collapsed": true,
    "jupyter": {
     "outputs_hidden": true,
     "source_hidden": true
    }
   },
   "outputs": [
    {
     "data": {
      "image/png": "[encoded data removed]"
     },
     "metadata": {},
     "output_type": "display_data"
    }
   ],
   "source": [
    "#nbr de reads moyen/gene exprimés (>0reads) \n",
    "function_barplot_nbr_reads_moyen_par_gene_exprime(counts = counts_norm,\n",
    "                                                  filename = paste0(chemin_repertoire_output,\"/\",nom_repertoire_output,\".\",normalisation,\"_all_genes.barplot_nbr_reads_moyen_par_gene_exprime\"))"
   ]
  },
  {
   "cell_type": "code",
   "execution_count": null,
   "id": "8686354c-eb1f-4f3d-8bf7-fb9d6a7148c8",
   "metadata": {
    "jupyter": {
     "source_hidden": true
    }
   },
   "outputs": [],
   "source": [
    "#BOXPLOT NBR READS \n",
    "function_boxplot_nbr_reads(counts,\n",
    "                              plot_titre = nom_repertoire_output,\n",
    "                              filename = paste0(chemin_repertoire_output,\"/\",nom_repertoire_output,\".boxplot_nbr_reads.png\"))\n",
    "\n",
    "function_boxplot_nbr_reads(counts_norm,\n",
    "                              plot_titre = nom_repertoire_output,\n",
    "                              filename = paste0(chemin_repertoire_output,\"/\",nom_repertoire_output,\".\",normalisation,\".boxplot_nbr_reads.png\"))\n"
   ]
  },
  {
   "cell_type": "markdown",
   "id": "2d52f826-60fd-415f-864a-da677137a7d7",
   "metadata": {},
   "source": [
    "## signature d'expression transcriptomique"
   ]
  },
  {
   "cell_type": "code",
   "execution_count": 60,
   "id": "82e03b00-9d53-4ff7-8f47-e3239eae0c70",
   "metadata": {
    "collapsed": true,
    "jupyter": {
     "outputs_hidden": true,
     "source_hidden": true
    }
   },
   "outputs": [
    {
     "name": "stdout",
     "output_type": "stream",
     "text": [
      "Bootstrap (r = 0.5)... Done.\n",
      "Bootstrap (r = 0.6)... Done.\n",
      "Bootstrap (r = 0.7)... Done.\n",
      "Bootstrap (r = 0.8)... Done.\n",
      "Bootstrap (r = 0.9)... Done.\n",
      "Bootstrap (r = 1.0)... Done.\n",
      "Bootstrap (r = 1.1)... Done.\n",
      "Bootstrap (r = 1.2)... Done.\n",
      "Bootstrap (r = 1.3)... Done.\n",
      "Bootstrap (r = 1.4)... Done.\n"
     ]
    },
    {
     "data": {
      "image/png": "[encoded data removed]"
     },
     "metadata": {},
     "output_type": "display_data"
    }
   ],
   "source": [
    "#clustering hierarchique bootstrap\n",
    "function_cluster_hierarchique_bootsrap(counts = counts_norm,\n",
    "                                       filename = paste0(chemin_repertoire_output,\"/\",nom_repertoire_output,\".\",normalisation,\"_all_genes.dendrogramme_bootsrap\"))\n",
    "\n"
   ]
  },
  {
   "cell_type": "code",
   "execution_count": 61,
   "id": "5f988741-f6b6-41c2-832a-443025aa09bc",
   "metadata": {
    "collapsed": true,
    "jupyter": {
     "outputs_hidden": true,
     "source_hidden": true
    }
   },
   "outputs": [
    {
     "data": {
      "image/png": "[encoded data removed]"
     },
     "metadata": {},
     "output_type": "display_data"
    },
    {
     "data": {
      "image/png": "[encoded data removed]"
     },
     "metadata": {},
     "output_type": "display_data"
    }
   ],
   "source": [
    "#clustering hierarchique\n",
    "function_cluster_hierarchique(counts = counts_norm,filename = paste0(chemin_repertoire_output,\"/\",nom_repertoire_output,\".\",normalisation,\"_all_genes.dendrogramme\"))\n",
    "#clustering hierarchique\n",
    "function_cluster_hierarchique(counts = counts_norm_genes,filename = paste0(chemin_repertoire_output,\"/\",nom_repertoire_output,\".\",normalisation,\".\",noms_genes,\".dendrogramme\"))"
   ]
  },
  {
   "cell_type": "code",
   "execution_count": 62,
   "id": "0db26956-1734-489e-83ba-18070b80d347",
   "metadata": {
    "collapsed": true,
    "jupyter": {
     "outputs_hidden": true,
     "source_hidden": true
    }
   },
   "outputs": [
    {
     "data": {
      "image/png": "[encoded data removed]"
     },
     "metadata": {},
     "output_type": "display_data"
    },
    {
     "data": {
      "image/png": "[encoded data removed]"
     },
     "metadata": {},
     "output_type": "display_data"
    }
   ],
   "source": [
    "#ACP 2D\n",
    "#ACP sur le tableau entiers normalise \n",
    "function_ACP(counts = counts_norm,plot_titre = paste0(nom_repertoire_output,\".\",normalisation,\"_all_genes\"), filename = paste0(chemin_repertoire_output,\"/\",nom_repertoire_output,\".\",normalisation,\"_all_genes.acp.png\"))\n",
    "#ACP sur le tableau genes normalise \n",
    "function_ACP(counts = counts_norm_genes,plot_titre = paste0(nom_repertoire_output,\".\",normalisation,\"_all_genes\"), filename = paste0(chemin_repertoire_output,\"/\",nom_repertoire_output,\".\",normalisation,\".\",noms_genes,\".acp.png\"))\n"
   ]
  },
  {
   "cell_type": "code",
   "execution_count": 63,
   "id": "763a7686-f709-4824-ab78-64773213cb06",
   "metadata": {
    "jupyter": {
     "source_hidden": true
    }
   },
   "outputs": [],
   "source": [
    "#ACP 3D\n",
    "function_3D_PCA(counts = counts_norm,filename = paste0(chemin_repertoire_output,\"/\",nom_repertoire_output,\".\",normalisation,\"_all_genes.acp3D.html\"))"
   ]
  },
  {
   "cell_type": "code",
   "execution_count": 64,
   "id": "7529b279-d860-4432-9641-ced55fa9a30e",
   "metadata": {
    "collapsed": true,
    "jupyter": {
     "outputs_hidden": true,
     "source_hidden": true
    },
    "scrolled": true
   },
   "outputs": [
    {
     "data": {
      "image/png": "[encoded data removed]",
      "text/plain": [
       "plot without title"
      ]
     },
     "metadata": {
      "image/png": {
       "height": 420,
       "width": 420
      }
     },
     "output_type": "display_data"
    }
   ],
   "source": [
    "#Diagramme de Venn des genes communs entre echantillons\n",
    "function_genes_communs(counts)"
   ]
  },
  {
   "cell_type": "markdown",
   "id": "36722245-8098-47a1-bf92-42dc64a23ad0",
   "metadata": {},
   "source": [
    "## correlations expression genes"
   ]
  },
  {
   "cell_type": "code",
   "execution_count": null,
   "id": "a6a7bea1-06f2-42c2-9bca-c0d0bf44218c",
   "metadata": {
    "collapsed": true,
    "jupyter": {
     "outputs_hidden": true,
     "source_hidden": true
    }
   },
   "outputs": [
    {
     "name": "stderr",
     "output_type": "stream",
     "text": [
      "Correlation computed with\n",
      "\u001b[36m•\u001b[39m Method: 'pearson'\n",
      "\u001b[36m•\u001b[39m Missing treated using: 'pairwise.complete.obs'\n"
     ]
    }
   ],
   "source": [
    "#CORRELATIONS 1gene vs 12000\n",
    "chemin_tab_noms_genes = paste0(repertoire_fichiers_txt,\"/\",noms_genes,\".txt\")                            #repertoire_fichiers_txt\n",
    "df_genes_names = read.table(chemin_tab_noms_genes, header=FALSE,  sep=\"\\t\", comment.char=\"#\")\n",
    "R2=0.99\n",
    "function_CNN_genes(counts = counts_norm,df_genes_names = df_genes_names[[1]],\n",
    "                   R2 = R2,\n",
    "                   filename = paste0(chemin_repertoire_output,\"/\",nom_repertoire_output,\".\",normalisation,\".\",noms_genes,\".\",R2))\n",
    "  "
   ]
  },
  {
   "cell_type": "code",
   "execution_count": null,
   "id": "f6c0d858-0211-43c7-ace4-0e8c7869b7d5",
   "metadata": {
    "jupyter": {
     "source_hidden": true
    }
   },
   "outputs": [],
   "source": [
    "#Matrice de correlation des niveaux d'expression des genes d'interets\n",
    "function_matrice_correlation(counts = counts_norm_genes,plot_titre = paste0(nom_repertoire_output,\".\",normalisation,\".\",noms_genes),filename = paste0(chemin_repertoire_output,\"/\",nom_repertoire_output,\".\",normalisation,\".\",noms_genes,\".correlation.png\"))\n",
    "  #\n",
    "function_matrice_correlation_courbes(counts = counts_norm_genes,plot_titre = paste0(nom_repertoire_output,\".\",normalisation,\".\",noms_genes),filename = paste0(chemin_repertoire_output,\"/\",nom_repertoire_output,\".\",normalisation,\".\",noms_genes,\".correlation_courbes.png\"))\n"
   ]
  },
  {
   "cell_type": "code",
   "execution_count": null,
   "id": "fbd1f839-d03a-46dc-8aa4-318ce1981c78",
   "metadata": {
    "jupyter": {
     "source_hidden": true
    }
   },
   "outputs": [],
   "source": [
    "#graphe de correlation des niveaux d'expression des genes d'interets\n",
    "function_CNN(counts = counts_norm_genes,R2= 0.5,filename = paste0(chemin_repertoire_output,\"/\",nom_repertoire_output,\".\",normalisation,\"_CNN\"))\n",
    "\n",
    "function_CNN(counts = counts_norm_genes,R2= 0.6,filename = paste0(chemin_repertoire_output,\"/\",nom_repertoire_output,\".\",normalisation,\"_CNN\"))\n",
    "\n",
    "function_CNN(counts = counts_norm_genes,R2= 0.7,filename = paste0(chemin_repertoire_output,\"/\",nom_repertoire_output,\".\",normalisation,\"_CNN\"))\n",
    "\n",
    "function_CNN(counts = counts_norm_genes,R2= 0.8,filename = paste0(chemin_repertoire_output,\"/\",nom_repertoire_output,\".\",normalisation,\"_CNN\"))\n",
    "\n",
    "function_CNN(counts = counts_norm_genes,R2= 0.9,filename = paste0(chemin_repertoire_output,\"/\",nom_repertoire_output,\".\",normalisation,\"_CNN\"))\n",
    "\n",
    " "
   ]
  },
  {
   "cell_type": "markdown",
   "id": "3f5c804b-8b01-4b29-bf32-5c36f1776b26",
   "metadata": {},
   "source": [
    "# AUTRES"
   ]
  },
  {
   "cell_type": "code",
   "execution_count": 18,
   "id": "639f8697-7fa6-4116-b486-44006e295f79",
   "metadata": {
    "collapsed": true,
    "jupyter": {
     "outputs_hidden": true,
     "source_hidden": true
    }
   },
   "outputs": [
    {
     "name": "stdout",
     "output_type": "stream",
     "text": [
      "Nom : BRCA1 \n",
      "Description : BRCA1 DNA repair associated \n",
      "Chromosome : 17 \n",
      "Localisation : 17q21.31 \n",
      "Organisme : \n",
      "Résumé fonctionnel : This gene encodes a 190 kD nuclear phosphoprotein that plays a role in maintaining genomic stability, and it also acts as a tumor suppressor. The BRCA1 gene contains 22 exons spanning about 110 kb of DNA. The encoded protein combines with other tumor suppressors, DNA damage sensors, and signal transducers to form a large multi-subunit protein complex known as the BRCA1-associated genome surveillance complex (BASC). This gene product associates with RNA polymerase II, and through the C-terminal domain, also interacts with histone deacetylase complexes. This protein thus plays a role in transcription, DNA repair of double-stranded breaks, and recombination. Mutations in this gene are responsible for approximately 40% of inherited breast cancers and more than 80% of inherited breast and ovarian cancers. Alternative splicing plays a role in modulating the subcellular localization and physiological function of this gene. Many alternatively spliced transcript variants, some of which are disease-associated mutations, have been described for this gene, but the full-length natures of only some of these variants has been described. A related pseudogene, which is also located on chromosome 17, has been identified. [provided by RefSeq, May 2020] \n",
      "\n",
      "sra : SRR935172 \n",
      "Titre : Transcriptome sequencing of brains from newly emerged bees, first replicate \n",
      "Plateforme : ILLUMINA \n",
      "\n"
     ]
    }
   ],
   "source": [
    "#extraction info de gene ou sra \n",
    "function_extraction_info_gene_ncbi(gene_id = \"672\")\n",
    "function_extraction_info_run_sra_ncbi(sra_id = \"SRR935172\")\n"
   ]
  },
  {
   "cell_type": "code",
   "execution_count": null,
   "id": "33c5b115-f0a9-4aa3-9689-a5bfb12781da",
   "metadata": {
    "jupyter": {
     "source_hidden": true
    }
   },
   "outputs": [],
   "source": [
    "# Telechargement base de data SRA pour telecharger des RUNS de sequence fastq \n",
    "library(DBI)\n",
    "library(RSQLite)\n",
    "library(R.utils)\n",
    "\n",
    "# Télécharger et décompresser\n",
    "download.file(\"https://gbnci.cancer.gov/backup/SRAmetadb.sqlite.gz\",\n",
    "              destfile = \"SRAmetadb.sqlite.gz\", mode = \"wb\")\n",
    "gunzip(\"SRAmetadb.sqlite.gz\", overwrite = TRUE)\n",
    "\n",
    "# Connexion\n",
    "sra_con <- dbConnect(SQLite(), \"SRAmetadb.sqlite\")\n",
    "\n",
    "# Vérification\n",
    "dbListTables(sra_con)"
   ]
  },
  {
   "cell_type": "code",
   "execution_count": null,
   "id": "fc6490c6-b0aa-43e4-8e14-c5b8041ea569",
   "metadata": {},
   "outputs": [],
   "source": []
  }
 ],
 "metadata": {
  "kernelspec": {
   "display_name": "R 4.5.1",
   "language": "R",
   "name": "ir-r451"
  },
  "language_info": {
   "codemirror_mode": "r",
   "file_extension": ".r",
   "mimetype": "text/x-r-source",
   "name": "R",
   "pygments_lexer": "r",
   "version": "4.5.1"
  }
 },
 "nbformat": 4,
 "nbformat_minor": 5
}
