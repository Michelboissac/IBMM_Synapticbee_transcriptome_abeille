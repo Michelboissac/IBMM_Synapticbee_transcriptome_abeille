{
 "cells": [
  {
   "cell_type": "markdown",
   "id": "9403fd00-f40c-4410-81e2-ec99f6beb624",
   "metadata": {},
   "source": [
    "# Environnement conda \"TOOLS_env\""
   ]
  },
  {
   "cell_type": "code",
   "execution_count": 10,
   "id": "27c74977-5f8f-4ee6-be60-6436af1ffa6b",
   "metadata": {},
   "outputs": [],
   "source": [
    "conda activate TOOLS_env "
   ]
  },
  {
   "cell_type": "markdown",
   "id": "824137cb-a3d2-4a51-ab54-46e9097ae593",
   "metadata": {},
   "source": [
    "# Parametre a changer"
   ]
  },
  {
   "cell_type": "code",
   "execution_count": 2,
   "id": "1b7d2528-ee12-44fa-85ea-847c89c7fd20",
   "metadata": {},
   "outputs": [],
   "source": [
    "#Parametres\n",
    "\n",
    "DOSSIER_TRAVAIL=\"/mnt/d/Michel_boissac/test_sra_align_nano/\"\n",
    "nom_genome=GCF_003254395.2_Amel_HAv3.1_genomic.fna\n",
    "nom_genome_annotation=GCF_003254395.2_Amel_HAv3.1_genomic.gtf"
   ]
  },
  {
   "cell_type": "markdown",
   "id": "7732da67-f531-4e52-a977-9d05f1359728",
   "metadata": {},
   "source": [
    "# Creation du dossier travail"
   ]
  },
  {
   "cell_type": "code",
   "execution_count": 5,
   "id": "b6e091ce-1727-42de-bd12-efa0bd0cf554",
   "metadata": {},
   "outputs": [
    {
     "name": "stdout",
     "output_type": "stream",
     "text": [
      "mkdir: cannot create directory ‘/mnt/d/Michel_boissac/test_sra_align_nano/’: File exists\n",
      "mkdir: cannot create directory ‘/mnt/d/Michel_boissac/test_sra_align_nano/SRA/’: File exists\n",
      "mkdir: cannot create directory ‘/mnt/d/Michel_boissac/test_sra_align_nano/SAM/’: File exists\n",
      "mkdir: cannot create directory ‘/mnt/d/Michel_boissac/test_sra_align_nano/BAM/’: File exists\n",
      "mkdir: cannot create directory ‘/mnt/d/Michel_boissac/test_sra_align_nano/SORTED_BAM_AND_INDEX/’: File exists\n",
      "mkdir: cannot create directory ‘/mnt/d/Michel_boissac/test_sra_align_nano/GENOME/’: File exists\n",
      "mkdir: cannot create directory ‘/mnt/d/Michel_boissac/test_sra_align_nano/COUNTS/’: File exists\n"
     ]
    },
    {
     "ename": "",
     "evalue": "1",
     "output_type": "error",
     "traceback": []
    }
   ],
   "source": [
    "#########################################################################################\n",
    "cd --\n",
    "DOSSIER_READS_TRAVAIL=${DOSSIER_TRAVAIL}SRA/\n",
    "DOSSIER_SAM=${DOSSIER_TRAVAIL}SAM/\n",
    "DOSSIER_BAM=${DOSSIER_TRAVAIL}BAM/\n",
    "DOSSIER_SORTED_BAM_and_INDEX=${DOSSIER_TRAVAIL}SORTED_BAM_AND_INDEX/\n",
    "DOSSIER_GENOME_TRAVAIL=${DOSSIER_TRAVAIL}GENOME/\n",
    "DOSSIER_COUNTS=${DOSSIER_TRAVAIL}COUNTS/\n",
    "genome=${DOSSIER_GENOME_TRAVAIL}${nom_genome}\n",
    "genome_index=${DOSSIER_GENOME_TRAVAIL}${nom_genome}.idx\n",
    "\n",
    "tableau_alignements=${DOSSIER_COUNTS}counts.txt\n",
    "genome_annotation_gtf=${DOSSIER_GENOME_TRAVAIL}genomic.gtf\n",
    "liste_alignements=()\n",
    "mkdir \"${DOSSIER_TRAVAIL[@]}\"\n",
    "mkdir \"${DOSSIER_READS_TRAVAIL[@]}\"\n",
    "mkdir \"${DOSSIER_SAM[@]}\"\n",
    "mkdir \"${DOSSIER_BAM[@]}\"\n",
    "mkdir \"${DOSSIER_SORTED_BAM_and_INDEX[@]}\"\n",
    "mkdir \"${DOSSIER_GENOME_TRAVAIL[@]}\"\n",
    "mkdir \"${DOSSIER_COUNTS[@]}\"\n"
   ]
  },
  {
   "cell_type": "code",
   "execution_count": null,
   "id": "f507129e-5c21-48ef-805e-57f36b03a384",
   "metadata": {},
   "outputs": [],
   "source": []
  },
  {
   "cell_type": "markdown",
   "id": "25d6197a-f14a-469a-8ac1-0c5420f25fa0",
   "metadata": {},
   "source": [
    "# Genome"
   ]
  },
  {
   "cell_type": "code",
   "execution_count": null,
   "id": "161ff2e9-32cb-49ce-8f39-ae45d03980c2",
   "metadata": {},
   "outputs": [],
   "source": [
    "#Si le genome est deja telechargé\n",
    "DOSSIER_GENOME=\"\" \n",
    "\n",
    "cp \"${DOSSIER_GENOME[@]}${nom_genome}\" \"${genome[@]}\"\n",
    "cp \"${DOSSIER_GENOME[@]}${nom_genome_annotation}\" \"${genome_annotation_gtf[@]}\"\n"
   ]
  },
  {
   "cell_type": "code",
   "execution_count": 5,
   "id": "4e903d5e-a1eb-4c12-94a3-7559a9a2643d",
   "metadata": {
    "collapsed": true,
    "jupyter": {
     "outputs_hidden": true
    },
    "scrolled": true
   },
   "outputs": [
    {
     "name": "stdout",
     "output_type": "stream",
     "text": [
      "--2025-06-26 16:14:17--  https://ftp.ncbi.nlm.nih.gov/genomes/all/GCF/003/254/395/GCF_003254395.2_Amel_HAv3.1/GCF_003254395.2_Amel_HAv3.1_genomic.fna.gz\n",
      "Resolving ftp.ncbi.nlm.nih.gov (ftp.ncbi.nlm.nih.gov)... 130.14.250.7, 130.14.250.13, 130.14.250.12, ...\n",
      "Connecting to ftp.ncbi.nlm.nih.gov (ftp.ncbi.nlm.nih.gov)|130.14.250.7|:443... connected.\n",
      "HTTP request sent, awaiting response... 200 OK\n",
      "Length: 69726867 (66M) [application/x-gzip]\n",
      "Saving to: ‘/mnt/d/Michel_boissac/test_sra_align_nano/GENOME/GCF_003254395.2_Amel_HAv3.1_genomic.fna.gz’\n",
      "\n",
      "GCF_003254395.2_Ame 100%[===================>]  66.50M  1.90MB/s    in 46s     \n",
      "\n",
      "2025-06-26 16:15:04 (1.44 MB/s) - ‘/mnt/d/Michel_boissac/test_sra_align_nano/GENOME/GCF_003254395.2_Amel_HAv3.1_genomic.fna.gz’ saved [69726867/69726867]\n",
      "\n",
      "--2025-06-26 16:15:04--  https://ftp.ncbi.nlm.nih.gov/genomes/all/GCF/003/254/395/GCF_003254395.2_Amel_HAv3.1/GCF_003254395.2_Amel_HAv3.1_genomic.gtf.gz\n",
      "Resolving ftp.ncbi.nlm.nih.gov (ftp.ncbi.nlm.nih.gov)... 130.14.250.10, 130.14.250.31, 130.14.250.7, ...\n",
      "Connecting to ftp.ncbi.nlm.nih.gov (ftp.ncbi.nlm.nih.gov)|130.14.250.10|:443... connected.\n",
      "HTTP request sent, awaiting response... 200 OK\n",
      "Length: 6521081 (6.2M) [application/x-gzip]\n",
      "Saving to: ‘/mnt/d/Michel_boissac/test_sra_align_nano/GENOME/GCF_003254395.2_Amel_HAv3.1_genomic.gtf.gz’\n",
      "\n",
      "GCF_003254395.2_Ame 100%[===================>]   6.22M  1.84MB/s    in 3.6s    \n",
      "\n",
      "2025-06-26 16:15:08 (1.73 MB/s) - ‘/mnt/d/Michel_boissac/test_sra_align_nano/GENOME/GCF_003254395.2_Amel_HAv3.1_genomic.gtf.gz’ saved [6521081/6521081]\n",
      "\n"
     ]
    }
   ],
   "source": [
    "#Sinon, si le genome n'est pas encore telechargé \n",
    "\n",
    "wget -P $DOSSIER_GENOME_TRAVAIL https://ftp.ncbi.nlm.nih.gov/genomes/all/GCF/003/254/395/GCF_003254395.2_Amel_HAv3.1/GCF_003254395.2_Amel_HAv3.1_genomic.fna.gz\n",
    "wget -P $DOSSIER_GENOME_TRAVAIL https://ftp.ncbi.nlm.nih.gov/genomes/all/GCF/003/254/395/GCF_003254395.2_Amel_HAv3.1/GCF_003254395.2_Amel_HAv3.1_genomic.gtf.gz\n",
    "gunzip \"${DOSSIER_GENOME_TRAVAIL[@]}/\"*\n",
    "#"
   ]
  },
  {
   "cell_type": "markdown",
   "id": "e5c67dbd-c2e8-4e92-b60e-83aa168e286e",
   "metadata": {},
   "source": [
    "# SRA Nanopore single end"
   ]
  },
  {
   "cell_type": "code",
   "execution_count": 6,
   "id": "0f49ccea-a3ee-4340-84d7-0331d8629859",
   "metadata": {},
   "outputs": [],
   "source": [
    "#Si les SRA sont deja telechargés\n",
    "DOSSIER_READS=\"/mnt/d/Michel_boissac/DATAS/20250429_skm_/\"\n",
    "\n",
    "cp \"${DOSSIER_READS[@]}/\"* \"${DOSSIER_READS_TRAVAIL[@]}/\"    #mv\n"
   ]
  },
  {
   "cell_type": "code",
   "execution_count": null,
   "id": "b3db1b18-142e-4a1d-91df-89c22cb7dace",
   "metadata": {},
   "outputs": [],
   "source": [
    "#Sinon si les SRA ne sont pas encore telechargés\n",
    "\n",
    "liste_sra_a_telecharger=\"\"   \n",
    "\n",
    "for sra in $liste_sra_a_telecharger;\n",
    "do\n",
    "    echo $sra\n",
    "    fasterq-dump $sra -O \"${DOSSIER_READS_TRAVAIL[@]}\" -p\n",
    "done"
   ]
  },
  {
   "cell_type": "code",
   "execution_count": 15,
   "id": "667a3658-63ec-46cd-9db4-523d8711ee98",
   "metadata": {},
   "outputs": [],
   "source": [
    "liste_de_reads_nanopore=$(ls \"${DOSSIER_READS_TRAVAIL[@]}\")"
   ]
  },
  {
   "cell_type": "markdown",
   "id": "20da1d84-484b-4098-9427-afd49eb550cf",
   "metadata": {},
   "source": [
    "# Indexation du genome"
   ]
  },
  {
   "cell_type": "code",
   "execution_count": 8,
   "id": "b3d31f28-d46f-4c25-9ffa-2450612d41c9",
   "metadata": {
    "collapsed": true,
    "jupyter": {
     "outputs_hidden": true
    }
   },
   "outputs": [
    {
     "name": "stdout",
     "output_type": "stream",
     "text": [
      "[M::mm_idx_gen::4.657*1.41] collected minimizers\n",
      "[M::mm_idx_gen::5.537*1.65] sorted minimizers\n",
      "[M::main::9.416*1.30] loaded/built the index for 177 target sequence(s)\n",
      "[M::mm_idx_stat] kmer size: 15; skip: 10; is_hpc: 0; #seq: 177\n",
      "[M::mm_idx_stat::9.575*1.29] distinct minimizers: 22621183 (74.85% are singletons); average occurrences: 1.871; average spacing: 5.322; total length: 225250884\n",
      "[M::main] Version: 2.22-r1101\n",
      "[M::main] CMD: minimap2 -d /mnt/d/Michel_boissac/test_sra_align_nano/GENOME/GCF_003254395.2_Amel_HAv3.1_genomic.fna.idx /mnt/d/Michel_boissac/test_sra_align_nano/GENOME/GCF_003254395.2_Amel_HAv3.1_genomic.fna\n",
      "[M::main] Real time: 10.544 sec; CPU: 12.578 sec; Peak RSS: 1.569 GB\n"
     ]
    }
   ],
   "source": [
    "\n",
    "minimap2 -d \"${genome_index[@]}\" \"${genome[@]}\"\n"
   ]
  },
  {
   "cell_type": "markdown",
   "id": "ed7d8bc5-34f7-4a18-92e5-e39d547838e2",
   "metadata": {
    "jupyter": {
     "source_hidden": true
    }
   },
   "source": [
    "# Alignements des sra vs genome"
   ]
  },
  {
   "cell_type": "code",
   "execution_count": 16,
   "id": "0124a842-1770-453b-838d-2abefe90de29",
   "metadata": {},
   "outputs": [
    {
     "name": "stdout",
     "output_type": "stream",
     "text": [
      "/mnt/d/Michel_boissac/test_sra_align_nano/SRA/\n"
     ]
    }
   ],
   "source": [
    "echo $DOSSIER_READS_TRAVAIL"
   ]
  },
  {
   "cell_type": "code",
   "execution_count": null,
   "id": "fdad83e4-35c9-4784-b67f-a397381487d3",
   "metadata": {},
   "outputs": [
    {
     "name": "stdout",
     "output_type": "stream",
     "text": [
      "/mnt/d/Michel_boissac/test_sra_align_nano/SAM/GCF_003254395.2_Amel_HAv3.1_genomic.fna.VS.barcode01.fastq.sam\n",
      "[M::mm_idx_gen::5.942*1.49] collected minimizers\n",
      "[M::mm_idx_gen::7.543*1.80] sorted minimizers\n",
      "[M::main::7.544*1.80] loaded/built the index for 177 target sequence(s)\n",
      "[M::mm_mapopt_update::8.134*1.74] mid_occ = 181\n",
      "[M::mm_idx_stat] kmer size: 15; skip: 5; is_hpc: 0; #seq: 177\n",
      "[M::mm_idx_stat::8.449*1.71] distinct minimizers: 40171547 (73.82% are singletons); average occurrences: 1.909; average spacing: 2.937; total length: 225250884\n"
     ]
    }
   ],
   "source": [
    "\n",
    "for nom_reads in $liste_de_reads_nanopore;\n",
    "do\n",
    "    reads=${DOSSIER_READS_TRAVAIL[@]}${nom_reads}\n",
    "    alignement=${nom_genome}.VS.${nom_reads}\n",
    "    \n",
    "    minimap2 -ax splice \"${genome[@]}\" \"${reads[@]}\" > \"${DOSSIER_SAM[@]}${alignement}.sam\"\n",
    "    \n",
    "    samtools flagstats \"${DOSSIER_SAM[@]}${alignement}.sam\"\n",
    "    \n",
    "    samtools view -Sb \"${DOSSIER_SAM[@]}${alignement}.sam\" > \"${DOSSIER_BAM[@]}${alignement}.bam\"\n",
    "\n",
    "    samtools sort \"${DOSSIER_BAM[@]}${alignement}.bam\" -o \"${DOSSIER_SORTED_BAM_and_INDEX[@]}${alignement}.sorted.bam\"\n",
    "\n",
    "    samtools index \"${DOSSIER_SORTED_BAM_and_INDEX[@]}${alignement}.sorted.bam\"\n",
    "\n",
    "    liste_alignements+=(\"${DOSSIER_SORTED_BAM_and_INDEX[@]}${alignement}.sorted.bam\")\n",
    "done\n"
   ]
  },
  {
   "cell_type": "code",
   "execution_count": 6,
   "id": "7bd4232c-81a4-48dc-af4b-f52fd152766e",
   "metadata": {},
   "outputs": [
    {
     "name": "stdout",
     "output_type": "stream",
     "text": [
      "[E::hts_open_format] Failed to open file \"/mnt/d/Michel_boissac/test_sra_align_nano/SAM/.sam\" : No such file or directory\n",
      "samtools flagstat: Cannot open input file \"/mnt/d/Michel_boissac/test_sra_align_nano/SAM/.sam\": No such file or directory\n"
     ]
    },
    {
     "ename": "",
     "evalue": "1",
     "output_type": "error",
     "traceback": []
    }
   ],
   "source": []
  },
  {
   "cell_type": "markdown",
   "id": "79981410-824a-4ce9-a228-c6542b243517",
   "metadata": {},
   "source": [
    "# creation du tableau des alignements vs genome (counts.txt)"
   ]
  },
  {
   "cell_type": "code",
   "execution_count": null,
   "id": "6a2ffd68-cda1-4f4d-9f0b-aa046794f804",
   "metadata": {},
   "outputs": [
    {
     "name": "stdout",
     "output_type": "stream",
     "text": [
      "\n",
      "Reading data from <STDIN> for featureCounts ...\n",
      "\n"
     ]
    }
   ],
   "source": [
    "\n",
    "featureCounts -T 4 -t exon -g gene_id -a \"${genome_annotation_gtf[@]}\" -o \"${tableau_alignements[@]}\" \"${liste_alignements[@]}\""
   ]
  },
  {
   "cell_type": "code",
   "execution_count": null,
   "id": "bd127245-599b-4274-8b7f-7987beca9357",
   "metadata": {},
   "outputs": [],
   "source": []
  }
 ],
 "metadata": {
  "kernelspec": {
   "display_name": "Bash",
   "language": "bash",
   "name": "bash"
  },
  "language_info": {
   "codemirror_mode": "shell",
   "file_extension": ".sh",
   "mimetype": "text/x-sh",
   "name": "bash"
  }
 },
 "nbformat": 4,
 "nbformat_minor": 5
}
