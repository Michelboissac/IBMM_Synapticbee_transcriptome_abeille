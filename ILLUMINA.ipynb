{
 "cells": [
  {
   "cell_type": "markdown",
   "id": "798f9833-c376-49d7-abd5-bd75b54f4b04",
   "metadata": {},
   "source": [
    "# Environnement conda \"TOOLS_env\""
   ]
  },
  {
   "cell_type": "code",
   "execution_count": 26,
   "id": "5d8ed5de-cad6-4a16-a271-8ec577fcf2c5",
   "metadata": {},
   "outputs": [],
   "source": [
    "conda activate TOOLS_env "
   ]
  },
  {
   "cell_type": "markdown",
   "id": "37ca560a-dd44-4122-b250-87c3e27573f6",
   "metadata": {},
   "source": [
    "# Parametre a changer"
   ]
  },
  {
   "cell_type": "code",
   "execution_count": 28,
   "id": "8efce5df-54e0-4c99-a718-c87a1f457621",
   "metadata": {},
   "outputs": [],
   "source": [
    "#Parametres\n",
    "\n",
    "DOSSIER_TRAVAIL=\"/mnt/d/Michel_boissac/test_sra_align/\"\n",
    "nom_genome=GCF_003254395.2_Amel_HAv3.1_genomic.fna\n",
    "nom_genome_annotation=GCF_003254395.2_Amel_HAv3.1_genomic.gtf"
   ]
  },
  {
   "cell_type": "markdown",
   "id": "577439ee-a7b4-4fea-a593-bfbc36460bcf",
   "metadata": {},
   "source": [
    "# Creation du dossier travail"
   ]
  },
  {
   "cell_type": "code",
   "execution_count": 31,
   "id": "338d6c48-4172-4a8e-b286-3478fec05e59",
   "metadata": {
    "collapsed": true,
    "jupyter": {
     "outputs_hidden": true,
     "source_hidden": true
    }
   },
   "outputs": [
    {
     "name": "stdout",
     "output_type": "stream",
     "text": [
      "mkdir: cannot create directory ‘/mnt/d/Michel_boissac/test_sra_align/’: File exists\n"
     ]
    }
   ],
   "source": [
    "#Creation du dossier des travails , et des sous dossiers\n",
    "cd --\n",
    "DOSSIER_READS_TRAVAIL=${DOSSIER_TRAVAIL}SRA/\n",
    "DOSSIER_SAM=${DOSSIER_TRAVAIL}SAM/\n",
    "DOSSIER_BAM=${DOSSIER_TRAVAIL}BAM/\n",
    "DOSSIER_SORTED_BAM_and_INDEX=${DOSSIER_TRAVAIL}SORTED_BAM_AND_INDEX/\n",
    "DOSSIER_GENOME_TRAVAIL=${DOSSIER_TRAVAIL}GENOME/\n",
    "DOSSIER_COUNTS=${DOSSIER_TRAVAIL}COUNTS/\n",
    "genome=${DOSSIER_GENOME_TRAVAIL}${nom_genome}\n",
    "genome_index=${DOSSIER_GENOME_TRAVAIL}${nom_genome}.idx\n",
    "tableau_alignements=${DOSSIER_COUNTS}counts.txt\n",
    "genome_annotation_gtf=${DOSSIER_GENOME_TRAVAIL}${nom_genome_annotation}\n",
    "liste_alignements=()\n",
    "splicesites=${DOSSIER_GENOME_TRAVAIL}splicesites.txt\n",
    "exons=${DOSSIER_GENOME_TRAVAIL}exons.txt\n",
    "mkdir \"${DOSSIER_TRAVAIL[@]}\"\n",
    "mkdir \"${DOSSIER_SAM[@]}\"\n",
    "mkdir \"${DOSSIER_BAM[@]}\"\n",
    "mkdir \"${DOSSIER_SORTED_BAM_and_INDEX[@]}\"\n",
    "mkdir \"${DOSSIER_GENOME_TRAVAIL[@]}\"\n",
    "mkdir \"${DOSSIER_COUNTS[@]}\"\n",
    "mkdir \"${DOSSIER_READS_TRAVAIL[@]}\"\n",
    "cd $DOSSIER_TRAVAIL\n",
    "DOSSIER_GENOME_TRAVAIL=${DOSSIER_TRAVAIL}GENOME/\n",
    "\n"
   ]
  },
  {
   "cell_type": "markdown",
   "id": "460cc61e-f23e-48e6-a35b-cb69f6d1e233",
   "metadata": {},
   "source": [
    "# Genome"
   ]
  },
  {
   "cell_type": "code",
   "execution_count": 6,
   "id": "80af8cba-2d7d-4d9c-8789-fe2cd61eb8f0",
   "metadata": {
    "jupyter": {
     "source_hidden": true
    }
   },
   "outputs": [],
   "source": [
    "#Si le genome est deja telechargé\n",
    "DOSSIER_GENOME=\"\" \n",
    "\n",
    "cp \"${DOSSIER_GENOME[@]}${nom_genome}\" \"${genome[@]}\"\n",
    "cp \"${DOSSIER_GENOME[@]}${nom_genome_annotation}\" \"${genome_annotation_gtf[@]}\"\n"
   ]
  },
  {
   "cell_type": "code",
   "execution_count": 32,
   "id": "476ac562-d76b-42ed-9a41-f60209a7d3ba",
   "metadata": {
    "collapsed": true,
    "jupyter": {
     "outputs_hidden": true,
     "source_hidden": true
    },
    "scrolled": true
   },
   "outputs": [
    {
     "name": "stdout",
     "output_type": "stream",
     "text": [
      "--2025-06-25 16:06:44--  https://ftp.ncbi.nlm.nih.gov/genomes/all/GCF/003/254/395/GCF_003254395.2_Amel_HAv3.1/GCF_003254395.2_Amel_HAv3.1_genomic.fna.gz\n",
      "Resolving ftp.ncbi.nlm.nih.gov (ftp.ncbi.nlm.nih.gov)... 130.14.250.10, 130.14.250.7, 130.14.250.12, ...\n",
      "Connecting to ftp.ncbi.nlm.nih.gov (ftp.ncbi.nlm.nih.gov)|130.14.250.10|:443... connected.\n",
      "HTTP request sent, awaiting response... 200 OK\n",
      "Length: 69726867 (66M) [application/x-gzip]\n",
      "Saving to: ‘/mnt/d/Michel_boissac/test_sra_align/GENOME/GCF_003254395.2_Amel_HAv3.1_genomic.fna.gz’\n",
      "\n",
      "GCF_003254395.2_Ame 100%[===================>]  66.50M  3.19MB/s    in 21s     \n",
      "\n",
      "2025-06-25 16:07:06 (3.12 MB/s) - ‘/mnt/d/Michel_boissac/test_sra_align/GENOME/GCF_003254395.2_Amel_HAv3.1_genomic.fna.gz’ saved [69726867/69726867]\n",
      "\n",
      "--2025-06-25 16:07:06--  https://ftp.ncbi.nlm.nih.gov/genomes/all/GCF/003/254/395/GCF_003254395.2_Amel_HAv3.1/GCF_003254395.2_Amel_HAv3.1_genomic.gtf.gz\n",
      "Resolving ftp.ncbi.nlm.nih.gov (ftp.ncbi.nlm.nih.gov)... 130.14.250.7, 130.14.250.12, 130.14.250.13, ...\n",
      "Connecting to ftp.ncbi.nlm.nih.gov (ftp.ncbi.nlm.nih.gov)|130.14.250.7|:443... connected.\n",
      "HTTP request sent, awaiting response... 200 OK\n",
      "Length: 6521081 (6.2M) [application/x-gzip]\n",
      "Saving to: ‘/mnt/d/Michel_boissac/test_sra_align/GENOME/GCF_003254395.2_Amel_HAv3.1_genomic.gtf.gz’\n",
      "\n",
      "GCF_003254395.2_Ame 100%[===================>]   6.22M  2.60MB/s    in 2.4s    \n",
      "\n",
      "2025-06-25 16:07:08 (2.60 MB/s) - ‘/mnt/d/Michel_boissac/test_sra_align/GENOME/GCF_003254395.2_Amel_HAv3.1_genomic.gtf.gz’ saved [6521081/6521081]\n",
      "\n"
     ]
    }
   ],
   "source": [
    "#Sinon, si le genome n'est pas encore telechargé \n",
    "\n",
    "\n",
    "wget -P $DOSSIER_GENOME_TRAVAIL https://ftp.ncbi.nlm.nih.gov/genomes/all/GCF/003/254/395/GCF_003254395.2_Amel_HAv3.1/GCF_003254395.2_Amel_HAv3.1_genomic.fna.gz\n",
    "wget -P $DOSSIER_GENOME_TRAVAIL https://ftp.ncbi.nlm.nih.gov/genomes/all/GCF/003/254/395/GCF_003254395.2_Amel_HAv3.1/GCF_003254395.2_Amel_HAv3.1_genomic.gtf.gz\n",
    "gunzip \"${DOSSIER_GENOME_TRAVAIL[@]}/\"*\n",
    "#\n",
    "\n"
   ]
  },
  {
   "cell_type": "markdown",
   "id": "9407a452-7ee1-48a4-ac4a-602d5e1cfa45",
   "metadata": {},
   "source": [
    "# SRA Illumina"
   ]
  },
  {
   "cell_type": "code",
   "execution_count": null,
   "id": "f19c034f-741c-4c40-918f-97915e3a3974",
   "metadata": {},
   "outputs": [],
   "source": [
    "#Si les SRA sont deja telechargés\n",
    "DOSSIER_READS=\"\" \n",
    "\n",
    "mv \"${DOSSIER_READS[@]}/\"* \"${DOSSIER_READS_TRAVAIL[@]}/\""
   ]
  },
  {
   "cell_type": "code",
   "execution_count": null,
   "id": "cbf8d584-694a-42e2-a693-4c6468c68172",
   "metadata": {
    "collapsed": true,
    "jupyter": {
     "outputs_hidden": true,
     "source_hidden": true
    }
   },
   "outputs": [
    {
     "name": "stdout",
     "output_type": "stream",
     "text": [
      "SRR1571716\n"
     ]
    }
   ],
   "source": [
    "#Sinon si les SRA ne sont pas encore telechargés\n",
    "\n",
    "liste_sra_a_telecharger=\"SRR1571716\n",
    "SRR1571717\n",
    "SRR1571718\n",
    "SRR1571719\n",
    "SRR1571720\n",
    "SRR1571721\n",
    "SRR1571722\n",
    "SRR1571723\n",
    "SRR1571724\n",
    "SRR1571725\n",
    "SRR1571726\n",
    "SRR1571727\n",
    "SRR1571728\n",
    "SRR1571729\n",
    "SRR1571730\n",
    "SRR1571731\n",
    "SRR1571732\n",
    "SRR1571733\n",
    "SRR1571734\n",
    "SRR1571735\n",
    "SRR1571736\n",
    "SRR1571737\n",
    "SRR1571738\n",
    "SRR1571739\n",
    "SRR1571740\n",
    "SRR1571741\n",
    "SRR1571742\n",
    "SRR1571743\n",
    "SRR1571744\n",
    "SRR1571745\"   \n",
    "\n",
    "liste_sra_a_telecharger=\"SRR1571716\"\n",
    "\n",
    "for sra in $liste_sra_a_telecharger;\n",
    "do\n",
    "    echo $sra\n",
    "    fasterq-dump $sra -O \"${DOSSIER_READS_TRAVAIL[@]}\" -p\n",
    "done"
   ]
  },
  {
   "cell_type": "markdown",
   "id": "c1b1764a-ff8a-473f-a561-669fc4ba6320",
   "metadata": {},
   "source": [
    "# Indexation du genome"
   ]
  },
  {
   "cell_type": "code",
   "execution_count": 35,
   "id": "eeb9f134-be05-47bb-aef4-632e47a25758",
   "metadata": {
    "collapsed": true,
    "jupyter": {
     "outputs_hidden": true
    }
   },
   "outputs": [
    {
     "name": "stdout",
     "output_type": "stream",
     "text": [
      "Settings:\n",
      "  Output files: \"/mnt/d/Michel_boissac/test_sra_align/GENOME/GCF_003254395.2_Amel_HAv3.1_genomic.fna.idx.*.ht2\"\n",
      "  Line rate: 7 (line is 128 bytes)\n",
      "  Lines per side: 1 (side is 128 bytes)\n",
      "  Offset rate: 4 (one in 16)\n",
      "  FTable chars: 10\n",
      "  Strings: unpacked\n",
      "  Local offset rate: 3 (one in 8)\n",
      "  Local fTable chars: 6\n",
      "  Local sequence length: 57344\n",
      "  Local sequence overlap between two consecutive indexes: 1024\n",
      "  Endianness: little\n",
      "  Actual local endianness: little\n",
      "  Sanity checking: disabled\n",
      "  Assertions: disabled\n",
      "  Random seed: 0\n",
      "  Sizeofs: void*:8, int:4, long:8, size_t:8\n",
      "Input files DNA, FASTA:\n",
      "  /mnt/d/Michel_boissac/test_sra_align/GENOME/GCF_003254395.2_Amel_HAv3.1_genomic.fna\n",
      "Reading reference sizes\n",
      "  Time reading reference sizes: 00:00:02\n",
      "Calculating joined length\n",
      "Writing header\n",
      "Reserving space for joined string\n",
      "Joining reference sequences\n",
      "  Time to join reference sequences: 00:00:01\n",
      "  Time to read SNPs and splice sites: 00:00:02\n",
      "Generation 0 (224023342 -> 224023342 nodes, 0 ranks)\n",
      "COUNTED NEW NODES: 0\n",
      "COUNTED TEMP NODES: 0\n",
      "RESIZED NODES: 3\n",
      "RESIZED NODES: 0\n",
      "MADE NEW NODES: 1\n",
      "Generation 1 (224106760 -> 224106760 nodes, 0 ranks)\n",
      "COUNTED NEW NODES: 1\n",
      "COUNTED TEMP NODES: 0\n",
      "RESIZED NODES: 2\n",
      "RESIZED NODES: 0\n",
      "MADE NEW NODES: 1\n",
      "Generation 2 (224273680 -> 224273680 nodes, 0 ranks)\n",
      "COUNTED NEW NODES: 0\n",
      "COUNTED TEMP NODES: 0\n",
      "RESIZED NODES: 3\n",
      "RESIZED NODES: 0\n",
      "MADE NEW NODES: 1\n",
      "Generation 3 (224607723 -> 224607723 nodes, 0 ranks)\n",
      "BUILT FROM_INDEX: 0\n",
      "COUNTED NEW NODES: 0\n",
      "COUNTED TEMP NODES: 0\n",
      "RESIZED NODES: 3\n",
      "RESIZED NODES: 0\n",
      "MADE NEW NODES: 1\n",
      "RESIZE NODES: 7\n",
      "SORT NODES: 13\n",
      "MERGE, UPDATE RANK: 2\n",
      "Generation 4 (225276695 -> 224916470 nodes, 158268392 ranks)\n",
      "ALLOCATE FROM_TABLE: 6\n",
      "BUILD TABLE: 9\n",
      "BUILD INDEX: 1\n",
      "COUNTED NEW NODES: 2\n",
      "COUNTED TEMP NODES: 0\n",
      "RESIZED NODES: 0\n",
      "RESIZED NODES: 0\n",
      "MADE NEW NODES: 14\n",
      "MERGEUPDATERANK: 2\n",
      "TOTAL TIME: 34\n",
      "Generation 5 (225102055 -> 224883994 nodes, 218581878 ranks)\n",
      "ALLOCATE FROM_TABLE: 0\n",
      "BUILD TABLE: 7\n",
      "BUILD INDEX: 1\n",
      "COUNTED NEW NODES: 0\n",
      "COUNTED TEMP NODES: 0\n",
      "RESIZED NODES: 0\n",
      "RESIZED NODES: 0\n",
      "MADE NEW NODES: 1\n",
      "MERGEUPDATERANK: 1\n",
      "TOTAL TIME: 10\n",
      "Generation 6 (224891146 -> 224887864 nodes, 221337445 ranks)\n",
      "ALLOCATE FROM_TABLE: 0\n",
      "BUILD TABLE: 7\n",
      "BUILD INDEX: 1\n",
      "COUNTED NEW NODES: 0\n",
      "COUNTED TEMP NODES: 0\n",
      "RESIZED NODES: 0\n",
      "RESIZED NODES: 0\n",
      "MADE NEW NODES: 1\n",
      "MERGEUPDATERANK: 1\n",
      "TOTAL TIME: 10\n",
      "Generation 7 (224893985 -> 224890905 nodes, 222827056 ranks)\n",
      "ALLOCATE FROM_TABLE: 0\n",
      "BUILD TABLE: 7\n",
      "BUILD INDEX: 0\n",
      "COUNTED NEW NODES: 1\n",
      "COUNTED TEMP NODES: 0\n",
      "RESIZED NODES: 0\n",
      "RESIZED NODES: 0\n",
      "MADE NEW NODES: 1\n",
      "MERGEUPDATERANK: 1\n",
      "TOTAL TIME: 10\n",
      "Generation 8 (224896562 -> 224894052 nodes, 223695912 ranks)\n",
      "ALLOCATE FROM_TABLE: 0\n",
      "BUILD TABLE: 7\n",
      "BUILD INDEX: 0\n",
      "COUNTED NEW NODES: 1\n",
      "COUNTED TEMP NODES: 0\n",
      "RESIZED NODES: 0\n",
      "RESIZED NODES: 0\n",
      "MADE NEW NODES: 0\n",
      "MERGEUPDATERANK: 1\n",
      "TOTAL TIME: 9\n",
      "Generation 9 (224899099 -> 224896178 nodes, 224226696 ranks)\n",
      "ALLOCATE FROM_TABLE: 0\n",
      "BUILD TABLE: 7\n",
      "BUILD INDEX: 1\n",
      "COUNTED NEW NODES: 0\n",
      "COUNTED TEMP NODES: 0\n",
      "RESIZED NODES: 0\n",
      "RESIZED NODES: 0\n",
      "MADE NEW NODES: 1\n",
      "MERGEUPDATERANK: 0\n",
      "TOTAL TIME: 9\n",
      "Generation 10 (224900664 -> 224897643 nodes, 224559815 ranks)\n",
      "ALLOCATE FROM_TABLE: 0\n",
      "BUILD TABLE: 7\n",
      "BUILD INDEX: 1\n",
      "COUNTED NEW NODES: 0\n",
      "COUNTED TEMP NODES: 0\n",
      "RESIZED NODES: 0\n",
      "RESIZED NODES: 0\n",
      "MADE NEW NODES: 1\n",
      "MERGEUPDATERANK: 1\n",
      "TOTAL TIME: 10\n",
      "Generation 11 (224900750 -> 224897392 nodes, 224749982 ranks)\n",
      "ALLOCATE FROM_TABLE: 0\n",
      "BUILD TABLE: 7\n",
      "BUILD INDEX: 1\n",
      "COUNTED NEW NODES: 0\n",
      "COUNTED TEMP NODES: 0\n",
      "RESIZED NODES: 0\n",
      "RESIZED NODES: 0\n",
      "MADE NEW NODES: 1\n",
      "MERGEUPDATERANK: 1\n",
      "TOTAL TIME: 10\n",
      "Generation 12 (224899070 -> 224898039 nodes, 224851289 ranks)\n",
      "ALLOCATE FROM_TABLE: 0\n",
      "BUILD TABLE: 7\n",
      "BUILD INDEX: 0\n",
      "COUNTED NEW NODES: 1\n",
      "COUNTED TEMP NODES: 0\n",
      "RESIZED NODES: 0\n",
      "RESIZED NODES: 0\n",
      "MADE NEW NODES: 0\n",
      "MERGEUPDATERANK: 1\n",
      "TOTAL TIME: 9\n",
      "Generation 13 (224898039 -> 224898025 nodes, 224890433 ranks)\n",
      "ALLOCATE FROM_TABLE: 0\n",
      "BUILD TABLE: 7\n",
      "BUILD INDEX: 1\n",
      "COUNTED NEW NODES: 0\n",
      "COUNTED TEMP NODES: 0\n",
      "RESIZED NODES: 0\n",
      "RESIZED NODES: 0\n",
      "MADE NEW NODES: 1\n",
      "MERGEUPDATERANK: 0\n",
      "TOTAL TIME: 9\n",
      "Generation 14 (224898025 -> 224898025 nodes, 224898025 ranks)\n",
      "Generating edges... \n",
      "NODE.TO -> GENOME POS: 0\n",
      "BUILD FROM_INDEX 1\n",
      "COUNTED NEW EDGES: 1\n",
      "MADE NEW EDGES: 5\n",
      "SORTED NEW EDGES: 8\n",
      "RE-SORTED NODES: 11\n",
      "PROCESS EDGES: 1\n",
      "REMOVE Y: 0\n",
      "SORT, Make index: 8\n",
      "TOTAL: 35\n",
      "Allocating ftab, absorbFtab\n",
      "Entering GFM loop\n",
      "Exited GFM loop\n",
      "fchr[A]: 0\n",
      "fchr[C]: 75905970\n",
      "fchr[G]: 112543140\n",
      "fchr[T]: 149119454\n",
      "fchr[$]: 224981643\n",
      "Exiting GFM::buildToDisk()\n",
      "Returning from initFromVector\n",
      "Wrote 142672649 bytes to primary GFM file: /mnt/d/Michel_boissac/test_sra_align/GENOME/GCF_003254395.2_Amel_HAv3.1_genomic.fna.idx.1.ht2\n",
      "Wrote 56224512 bytes to secondary GFM file: /mnt/d/Michel_boissac/test_sra_align/GENOME/GCF_003254395.2_Amel_HAv3.1_genomic.fna.idx.2.ht2\n",
      "Re-opening _in1 and _in2 as input streams\n",
      "Returning from GFM constructor\n",
      "Returning from initFromVector\n",
      "Wrote 146254841 bytes to primary GFM file: /mnt/d/Michel_boissac/test_sra_align/GENOME/GCF_003254395.2_Amel_HAv3.1_genomic.fna.idx.5.ht2\n",
      "Wrote 57101158 bytes to secondary GFM file: /mnt/d/Michel_boissac/test_sra_align/GENOME/GCF_003254395.2_Amel_HAv3.1_genomic.fna.idx.6.ht2\n",
      "Re-opening _in5 and _in5 as input streams\n",
      "Returning from HGFM constructor\n",
      "Headers:\n",
      "    len: 223937270\n",
      "    gbwtLen: 224981644\n",
      "    nodes: 224898024\n",
      "    sz: 111968635\n",
      "    gbwtSz: 112490823\n",
      "    lineRate: 7\n",
      "    offRate: 4\n",
      "    offMask: 0xfffffff0\n",
      "    ftabChars: 10\n",
      "    eftabLen: 0\n",
      "    eftabSz: 0\n",
      "    ftabLen: 1048577\n",
      "    ftabSz: 4194308\n",
      "    offsLen: 14056127\n",
      "    offsSz: 56224508\n",
      "    lineSz: 128\n",
      "    sideSz: 128\n",
      "    sideGbwtSz: 104\n",
      "    sideGbwtLen: 208\n",
      "    numSides: 1081643\n",
      "    numLines: 1081643\n",
      "    gbwtTotLen: 138450304\n",
      "    gbwtTotSz: 138450304\n",
      "    reverse: 0\n",
      "    linearFM: No\n",
      "Total time for call to driver() for forward index: 00:59:41\n"
     ]
    }
   ],
   "source": [
    "#Si le genome n'est pas encore indexé :\n",
    "hisat2_extract_splice_sites.py \"${genome_annotation_gtf[@]}\" > \"${splicesites[@]}\"\n",
    "hisat2_extract_exons.py \"${genome_annotation_gtf[@]}\" > \"${exons[@]}\"\n",
    "hisat2-build --ss \"${splicesites[@]}\" --exon \"${exons[@]}\" \"${genome[@]}\" \"${genome_index[@]}\"\n",
    "\n"
   ]
  },
  {
   "cell_type": "markdown",
   "id": "e22ace89-2f1e-4a12-9a5d-0849d0b881ff",
   "metadata": {},
   "source": [
    "# Recuperation de la liste des sra.fastq"
   ]
  },
  {
   "cell_type": "code",
   "execution_count": 34,
   "id": "ce45fe6f-5494-44be-8e1f-7c8b996b4cd4",
   "metadata": {
    "collapsed": true,
    "jupyter": {
     "outputs_hidden": true,
     "source_hidden": true
    }
   },
   "outputs": [
    {
     "name": "stdout",
     "output_type": "stream",
     "text": [
      "SRR806711_\n"
     ]
    }
   ],
   "source": [
    "#Recupere la liste des sra.fastq dans le dossier SRA\n",
    "readarray -t liste_de_reads_illumina < <(\n",
    "  ls \"${DOSSIER_READS_TRAVAIL[@]}\"*.fastq|sed \"s|${DOSSIER_READS_TRAVAIL[@]}||\"|sed \"s|[1-2]\\.fastq||\"|sort -u \n",
    ")\n",
    "echo \"${liste_de_reads_illumina[@]}\"\n"
   ]
  },
  {
   "cell_type": "markdown",
   "id": "34eef1e5-a25b-49c6-8e72-cca8a105d79e",
   "metadata": {},
   "source": [
    "# Alignements des sra vs genome"
   ]
  },
  {
   "cell_type": "code",
   "execution_count": 36,
   "id": "ea0ea14c-7f18-4ee1-b3b3-a529e641cd4d",
   "metadata": {},
   "outputs": [
    {
     "name": "stdout",
     "output_type": "stream",
     "text": [
      "45116995 reads; of these:\n",
      "  45116995 (100.00%) were paired; of these:\n",
      "    5307877 (11.76%) aligned concordantly 0 times\n",
      "    39103561 (86.67%) aligned concordantly exactly 1 time\n",
      "    705557 (1.56%) aligned concordantly >1 times\n",
      "    ----\n",
      "    5307877 pairs aligned concordantly 0 times; of these:\n",
      "      351093 (6.61%) aligned discordantly 1 time\n",
      "    ----\n",
      "    4956784 pairs aligned 0 times concordantly or discordantly; of these:\n",
      "      9913568 mates make up the pairs; of these:\n",
      "        7381065 (74.45%) aligned 0 times\n",
      "        2459071 (24.81%) aligned exactly 1 time\n",
      "        73432 (0.74%) aligned >1 times\n",
      "91.82% overall alignment rate\n",
      "[bam_sort_core] merging from 36 files and 1 in-memory blocks...\n",
      "[bam_sort_core] merging from 38 files and 1 in-memory blocks...\n"
     ]
    }
   ],
   "source": [
    "#ALIGNEMENTS\n",
    "\n",
    "for nom_reads in \"${liste_de_reads_illumina[@]}\"; do\n",
    "    reads1=\"${nom_reads}1.fastq\"\n",
    "    reads2=\"${nom_reads}2.fastq\"\n",
    "    \n",
    "    alignement=${nom_genome}.VS.${nom_reads}\n",
    "\n",
    "    cd \"${DOSSIER_TRAVAIL[@]}\"\n",
    "\n",
    "    hisat2 -x GENOME/${nom_genome}.idx --dta --rna-strandness RF -1 SRA/\"${reads1[@]}\" -2 SRA/\"${reads2[@]}\" -S SAM/${alignement}.sam\n",
    "\n",
    "    samtools flagstats \"${DOSSIER_SAM[@]}${alignement}.sam\"\n",
    "\n",
    "    samtools view -Sb \"${DOSSIER_SAM[@]}${alignement}.sam\" > \"${DOSSIER_BAM[@]}${alignement}.bam\"\n",
    "    \n",
    "    samtools sort -n \"${DOSSIER_BAM[@]}${alignement}.bam\" -o \"${DOSSIER_BAM[@]}${alignement}.name_sorted.bam\"  # tri par nom pour fixmate\n",
    "    \n",
    "    samtools fixmate -m \"${DOSSIER_BAM[@]}${alignement}.name_sorted.bam\" \"${DOSSIER_BAM[@]}${alignement}.name_sorted.fixmate.bam\"\n",
    "    \n",
    "    samtools sort \"${DOSSIER_BAM[@]}${alignement}.name_sorted.fixmate.bam\" -o \"${DOSSIER_SORTED_BAM_and_INDEX[@]}${alignement}.name_sorted.fixmate.sorted.bam\"\n",
    "    \n",
    "    samtools index \"${DOSSIER_SORTED_BAM_and_INDEX[@]}${alignement}.name_sorted.fixmate.sorted.bam\"\n",
    "\n",
    "    liste_alignements+=(\"${DOSSIER_SORTED_BAM_and_INDEX[@]}${alignement}.name_sorted.fixmate.sorted.bam\")\n",
    "    \n",
    "done"
   ]
  },
  {
   "cell_type": "markdown",
   "id": "77b39680-27da-4844-a77b-91b0bf57bc8b",
   "metadata": {},
   "source": [
    "# creation du tableau des alignements vs genome (counts.txt)"
   ]
  },
  {
   "cell_type": "code",
   "execution_count": 37,
   "id": "0ce5630f-1b93-41b9-814c-19c77f94f7ba",
   "metadata": {
    "jupyter": {
     "source_hidden": true
    }
   },
   "outputs": [
    {
     "name": "stdout",
     "output_type": "stream",
     "text": [
      "\n",
      "       \u001b[44;37m ========== \u001b[0m\u001b[36m    _____ _    _ ____  _____  ______          _____  \n",
      "       \u001b[44;37m =====      \u001b[0m\u001b[36m   / ____| |  | |  _ \\|  __ \\|  ____|   /\\   |  __ \\ \n",
      "       \u001b[44;37m   =====    \u001b[0m\u001b[36m  | (___ | |  | | |_) | |__) | |__     /  \\  | |  | |\n",
      "       \u001b[44;37m     ====   \u001b[0m\u001b[36m   \\___ \\| |  | |  _ <|  _  /|  __|   / /\\ \\ | |  | |\n",
      "       \u001b[44;37m       ==== \u001b[0m\u001b[36m   ____) | |__| | |_) | | \\ \\| |____ / ____ \\| |__| |\n",
      "       \u001b[44;37m ========== \u001b[0m\u001b[36m  |_____/ \\____/|____/|_|  \\_\\______/_/    \\_\\_____/\u001b[0m\n",
      "\t  v2.0.1\n",
      "\n",
      "//==========================\u001b[36m featureCounts setting \u001b[0m===========================\\\\\n",
      "||  \u001b[0m                                                                          ||\n",
      "||             Input files : \u001b[36m1 BAM file  \u001b[0m \u001b[0m                                    ||\n",
      "||                           \u001b[32mo\u001b[36m GCF_003254395.2_Amel_HAv3.1_genomic.fna.VS\u001b[0m ... \u001b[0m||\n",
      "||  \u001b[0m                                                                          ||\n",
      "||             Output file : \u001b[36mcounts.txt\u001b[0m \u001b[0m                                      ||\n",
      "||                 Summary : \u001b[36mcounts.txt.summary\u001b[0m \u001b[0m                              ||\n",
      "||              Annotation : \u001b[36mGCF_003254395.2_Amel_HAv3.1_genomic.gtf (GTF)\u001b[0m \u001b[0m   ||\n",
      "||      Dir for temp files : \u001b[36m/mnt/d/Michel_boissac/test_sra_align/COUNTS\u001b[0m \u001b[0m     ||\n",
      "||  \u001b[0m                                                                          ||\n",
      "||                 Threads : \u001b[36m4\u001b[0m \u001b[0m                                               ||\n",
      "||                   Level : \u001b[36mmeta-feature level\u001b[0m \u001b[0m                              ||\n",
      "||              Paired-end : \u001b[36mno\u001b[0m \u001b[0m                                              ||\n",
      "||      Multimapping reads : \u001b[36mnot counted\u001b[0m \u001b[0m                                     ||\n",
      "|| Multi-overlapping reads : \u001b[36mnot counted\u001b[0m \u001b[0m                                     ||\n",
      "||   Min overlapping bases : \u001b[36m1\u001b[0m \u001b[0m                                               ||\n",
      "||  \u001b[0m                                                                          ||\n",
      "\\\\============================================================================//\n",
      "\n",
      "//=================================\u001b[36m Running \u001b[0m==================================\\\\\n",
      "||  \u001b[0m                                                                          ||\n",
      "|| Load annotation file GCF_003254395.2_Amel_HAv3.1_genomic.gtf \u001b[0m... \u001b[0m          ||\n",
      "||    Features : \u001b[36m267813\u001b[0m \u001b[0m                                                      ||\n",
      "||    Meta-features : \u001b[36m12356\u001b[0m \u001b[0m                                                  ||\n",
      "||    Chromosomes/contigs : \u001b[36m61\u001b[0m \u001b[0m                                               ||\n",
      "||  \u001b[0m                                                                          ||\n",
      "|| Process BAM file GCF_003254395.2_Amel_HAv3.1_genomic.fna.VS.SRR806711_\u001b[0m ... \u001b[0m||\n",
      "||    WARNING: \u001b[36mPaired-end reads were found.\u001b[0m \u001b[0m                                  ||\n",
      "||    Total alignments : \u001b[36m93447316\u001b[0m \u001b[0m                                            ||\n",
      "||    Successfully assigned alignments : \u001b[36m73691987 (78.9%)\u001b[0m \u001b[0m                    ||\n",
      "||    Running time : \u001b[36m0.39 minutes\u001b[0m \u001b[0m                                            ||\n",
      "||  \u001b[0m                                                                          ||\n",
      "|| Write the final count table. \u001b[0m                                              ||\n",
      "|| Write the read assignment summary. \u001b[0m                                        ||\n",
      "||  \u001b[0m                                                                          ||\n",
      "|| Summary of counting results can be found in file \"/mnt/d/Michel_boissac/t \u001b[0m ||\n",
      "|| est_sra_align/COUNTS/counts.txt.summary\" \u001b[0m                                  ||\n",
      "||  \u001b[0m                                                                          ||\n",
      "\\\\============================================================================//\n",
      "\n"
     ]
    }
   ],
   "source": [
    "#CREATION DU TABLEAU COUNTS.txt\n",
    "featureCounts -T 4 -t exon -g gene_id -a \"${genome_annotation_gtf[@]}\" -o \"${tableau_alignements[@]}\" \"${liste_alignements[@]}\"\n"
   ]
  },
  {
   "cell_type": "code",
   "execution_count": null,
   "id": "79b3536e-129b-49a3-9fdf-f36ab2974fad",
   "metadata": {},
   "outputs": [],
   "source": []
  },
  {
   "cell_type": "code",
   "execution_count": null,
   "id": "4c176923-1e22-4f11-b871-8a3567d9a76e",
   "metadata": {},
   "outputs": [],
   "source": []
  },
  {
   "cell_type": "code",
   "execution_count": null,
   "id": "11670b97-4c00-40fd-aa28-436e67bc99d3",
   "metadata": {},
   "outputs": [],
   "source": []
  }
 ],
 "metadata": {
  "kernelspec": {
   "display_name": "Bash",
   "language": "bash",
   "name": "bash"
  },
  "language_info": {
   "codemirror_mode": "shell",
   "file_extension": ".sh",
   "mimetype": "text/x-sh",
   "name": "bash"
  }
 },
 "nbformat": 4,
 "nbformat_minor": 5
}
